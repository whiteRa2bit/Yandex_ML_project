{
 "cells": [
  {
   "cell_type": "markdown",
   "metadata": {},
   "source": [
    "# L2 – Multilayer perceptron\n",
    "\n",
    "### PyTorch\n",
    "1. [Installing PyTorch](https://pytorch.org/get-started/locally/)\n",
    "2. [What is PyTorch?](https://pytorch.org/tutorials/beginner/blitz/tensor_tutorial.html#sphx-glr-beginner-blitz-tensor-tutorial-py)\n",
    "3. [Autograd](https://pytorch.org/tutorials/beginner/blitz/autograd_tutorial.html#sphx-glr-beginner-blitz-autograd-tutorial-py)\n",
    "4. [Useful examples](https://pytorch.org/tutorials/beginner/pytorch_with_examples.html)\n",
    "5. [Mnist example](https://habr.com/company/otus/blog/358096/)\n",
    "\n",
    "\n",
    "### One more thing\n",
    "1. [Jupyter tutorial](https://habrahabr.ru/company/wunderfund/blog/316826/)\n",
    "2. [Plot.ly](https://plot.ly/python/)\n",
    "3. [Widgets](http://jupyter.org/widgets.html)"
   ]
  },
  {
   "cell_type": "code",
   "execution_count": 3,
   "metadata": {},
   "outputs": [],
   "source": [
    "import sys\n",
    "sys.path.append('../')\n",
    "\n",
    "import numpy as np\n",
    "import matplotlib.pyplot as plt\n",
    "import pandas as pd\n",
    "from sklearn.linear_model import LinearRegression\n",
    "from tensorflow.examples.tutorials.mnist import input_data\n",
    "from sklearn.model_selection import train_test_split\n",
    "import time\n",
    "\n",
    "from matplotlib import animation\n",
    "from mpl_toolkits.mplot3d import Axes3D\n",
    "from matplotlib import cm\n",
    "\n",
    "import utils\n",
    "import torch\n",
    "import torch.nn as nn\n",
    "import torch.nn.functional as F\n",
    "import torch.optim as optim\n",
    "from torch.autograd import Variable"
   ]
  },
  {
   "cell_type": "markdown",
   "metadata": {},
   "source": [
    "### 1. Linear multi-classification problem\n",
    "\n",
    "We have already learned binary linear classifier\n",
    "$$y = \\text{sign}(w^Tx).$$\n",
    "There are [several approaches](https://en.wikipedia.org/wiki/Multiclass_classification) to solve the problem of multi-class classification. For example [reduction](https://en.wikipedia.org/wiki/Multiclass_classification#Transformation_to_Binary) of problem to binary classifier or [modification](https://en.wikipedia.org/wiki/Support_vector_machine#Multiclass_SVM) of the known model. However we are interested in approaches that is applied in neural networks.\n",
    "\n",
    "For each class $c \\in 1, \\dots, |C|$ we have an individual row $w_i$ of matrix $W$. Then the probability of $x$ belonging to a particular class is equal to\n",
    "$$p_i = \\frac{\\exp(w^T_ix)}{\\sum_j \\exp(w^T_jx)}.$$\n",
    "This is nothing, but [softmax](https://en.wikipedia.org/wiki/Softmax_function) function of $Wx$.\n",
    "$$(p_1, \\dots, p_{|C|}) = \\text{softmax}(Wx).$$\n",
    "\n",
    "If you look closely, $\\text{softmax}$ is a more general variant of sigmoid. To see this, it suffices to consider the case $|C|=2$. As usual the training can be reduced to minimization of the empirical risk, namely, optimization problem\n",
    "$$\\arg\\min_W Q(W) = \\arg\\min_W -\\frac{1}{\\mathcal{l}}\\sum_y\\sum_i [y = i] \\cdot \\ln(p_i(W)).$$\n",
    "Actually, the maximization of the log-likelihood is written above.\n",
    "\n",
    "#### Exercises\n",
    "1. Find $\\frac{dQ}{dW}$ in matrix form (hint: start with $\\frac{dQ}{dw_i}$ for begining).\n",
    "2. Please plot several mnist images (e.g using grid 5x5).\n",
    "3. Train linear multi-label classifier for [mnist](https://www.kaggle.com/c/digit-recognizer) dataset (possible, [this tutorial](https://habr.com/company/otus/blog/358096/) can help you).\n",
    "4. Chek accuracy on train and validation sets (visualize resulted graph)."
   ]
  },
  {
   "cell_type": "markdown",
   "metadata": {},
   "source": [
    "$$ p_{i} = \\frac{\\exp(w_i^{T} x)}{{\\sum_j \\exp(w^T_jx)}}$$\n",
    "$$ Q(W) = -\\frac{1}{\\mathcal{l}}\\sum_y\\sum_i [y = i] \\cdot \\ln\\left(\\frac{\\exp(w_i^{T} x)}{{\\sum_j \\exp(w^T_jx)}}\\right) = -\\frac{1}{\\mathcal{l}}\\sum_y\\sum_i [y = i] \\cdot \\left( w_i^{T} x - \\ln\\left({{\\sum_j \\exp(w^T_jx)}}\\right) \\right)$$"
   ]
  },
  {
   "cell_type": "markdown",
   "metadata": {},
   "source": [
    "So we need to count $ \\frac{d w_i ^T x}{d w_i} $ and $ \\frac{d\\ln\\left({{\\sum_j \\exp(w^T_jx)}}\\right)} {d w_i} $:"
   ]
  },
  {
   "cell_type": "markdown",
   "metadata": {},
   "source": [
    "$$ \\frac{d w_i ^T x}{d w_i} = x$$\n",
    "$$\\frac{d\\ln\\left({{\\sum_j \\exp(w^T_jx)}}\\right)} {d w_i} = \\frac{1}{{\\sum_j \\exp(w^T_jx)}}  \\cdot \\exp({w^T_i x}) \\cdot x = p_i \\cdot x$$"
   ]
  },
  {
   "cell_type": "markdown",
   "metadata": {},
   "source": [
    "Finally:"
   ]
  },
  {
   "cell_type": "markdown",
   "metadata": {},
   "source": [
    "$$ \\frac{dQ}{dw_i} = -\\frac{1}{\\mathcal{l}}\\sum_y\\sum_i [y = i] \\cdot x \\cdot (1-p_i)$$"
   ]
  },
  {
   "cell_type": "code",
   "execution_count": 4,
   "metadata": {},
   "outputs": [],
   "source": [
    "def display_digit(num):\n",
    "    label = y_train[num].argmax(axis=0)\n",
    "    image = x_train[num].reshape([28,28])\n",
    "    plt.title('Example: %d  Label: %d' % (num, label))\n",
    "    plt.imshow(image, cmap=plt.get_cmap('gray_r'))\n",
    "    plt.show()"
   ]
  },
  {
   "cell_type": "code",
   "execution_count": 5,
   "metadata": {
    "scrolled": true
   },
   "outputs": [
    {
     "name": "stdout",
     "output_type": "stream",
     "text": [
      "WARNING:tensorflow:From <ipython-input-5-c834e915530e>:1: read_data_sets (from tensorflow.contrib.learn.python.learn.datasets.mnist) is deprecated and will be removed in a future version.\n",
      "Instructions for updating:\n",
      "Please use alternatives such as official/mnist/dataset.py from tensorflow/models.\n",
      "WARNING:tensorflow:From /home/pavel/anaconda3/envs/py36/lib/python3.6/site-packages/tensorflow/contrib/learn/python/learn/datasets/mnist.py:260: maybe_download (from tensorflow.contrib.learn.python.learn.datasets.base) is deprecated and will be removed in a future version.\n",
      "Instructions for updating:\n",
      "Please write your own downloading logic.\n",
      "WARNING:tensorflow:From /home/pavel/anaconda3/envs/py36/lib/python3.6/site-packages/tensorflow/contrib/learn/python/learn/datasets/mnist.py:262: extract_images (from tensorflow.contrib.learn.python.learn.datasets.mnist) is deprecated and will be removed in a future version.\n",
      "Instructions for updating:\n",
      "Please use tf.data to implement this functionality.\n",
      "Extracting MNIST_data/train-images-idx3-ubyte.gz\n",
      "WARNING:tensorflow:From /home/pavel/anaconda3/envs/py36/lib/python3.6/site-packages/tensorflow/contrib/learn/python/learn/datasets/mnist.py:267: extract_labels (from tensorflow.contrib.learn.python.learn.datasets.mnist) is deprecated and will be removed in a future version.\n",
      "Instructions for updating:\n",
      "Please use tf.data to implement this functionality.\n",
      "Extracting MNIST_data/train-labels-idx1-ubyte.gz\n",
      "WARNING:tensorflow:From /home/pavel/anaconda3/envs/py36/lib/python3.6/site-packages/tensorflow/contrib/learn/python/learn/datasets/mnist.py:110: dense_to_one_hot (from tensorflow.contrib.learn.python.learn.datasets.mnist) is deprecated and will be removed in a future version.\n",
      "Instructions for updating:\n",
      "Please use tf.one_hot on tensors.\n",
      "Extracting MNIST_data/t10k-images-idx3-ubyte.gz\n",
      "Extracting MNIST_data/t10k-labels-idx1-ubyte.gz\n",
      "WARNING:tensorflow:From /home/pavel/anaconda3/envs/py36/lib/python3.6/site-packages/tensorflow/contrib/learn/python/learn/datasets/mnist.py:290: DataSet.__init__ (from tensorflow.contrib.learn.python.learn.datasets.mnist) is deprecated and will be removed in a future version.\n",
      "Instructions for updating:\n",
      "Please use alternatives such as official/mnist/dataset.py from tensorflow/models.\n",
      "x_train Examples Loaded = (55000, 784)\n",
      "y_train Examples Loaded = (55000, 10)\n",
      "x_test Examples Loaded = (10000, 784)\n",
      "y_test Examples Loaded = (10000, 10)\n"
     ]
    }
   ],
   "source": [
    "mnist = input_data.read_data_sets('MNIST_data', one_hot=True)\n",
    "x_train = mnist.train.images\n",
    "print ('x_train Examples Loaded = ' + str(x_train.shape))\n",
    "y_train = mnist.train.labels\n",
    "print ('y_train Examples Loaded = ' + str(y_train.shape))\n",
    "x_test = mnist.test.images\n",
    "print ('x_test Examples Loaded = ' + str(x_test.shape))\n",
    "y_test = mnist.test.labels\n",
    "print ('y_test Examples Loaded = ' + str(y_test.shape))"
   ]
  },
  {
   "cell_type": "markdown",
   "metadata": {},
   "source": [
    "### Some images examples:"
   ]
  },
  {
   "cell_type": "code",
   "execution_count": 6,
   "metadata": {
    "scrolled": true
   },
   "outputs": [
    {
     "name": "stdout",
     "output_type": "stream",
     "text": [
      "Examples number: [969 279  96 454 396]\n"
     ]
    },
    {
     "data": {
      "image/png": "[encoded data removed]",
      "text/plain": [
       "<Figure size 432x288 with 1 Axes>"
      ]
     },
     "metadata": {
      "needs_background": "light"
     },
     "output_type": "display_data"
    },
    {
     "data": {
      "image/png": "[encoded data removed]",
      "text/plain": [
       "<Figure size 432x288 with 1 Axes>"
      ]
     },
     "metadata": {
      "needs_background": "light"
     },
     "output_type": "display_data"
    },
    {
     "data": {
      "image/png": "[encoded data removed]",
      "text/plain": [
       "<Figure size 432x288 with 1 Axes>"
      ]
     },
     "metadata": {
      "needs_background": "light"
     },
     "output_type": "display_data"
    },
    {
     "data": {
      "image/png": "[encoded data removed]",
      "text/plain": [
       "<Figure size 432x288 with 1 Axes>"
      ]
     },
     "metadata": {
      "needs_background": "light"
     },
     "output_type": "display_data"
    },
    {
     "data": {
      "image/png": "[encoded data removed]",
      "text/plain": [
       "<Figure size 432x288 with 1 Axes>"
      ]
     },
     "metadata": {
      "needs_background": "light"
     },
     "output_type": "display_data"
    }
   ],
   "source": [
    "img_examples = np.random.randint(0, 1000, 5)\n",
    "print(\"Examples number:\", img_examples)\n",
    "for num in img_examples:\n",
    "    display_digit(num)"
   ]
  },
  {
   "cell_type": "markdown",
   "metadata": {},
   "source": [
    "### Let's train our first model:"
   ]
  },
  {
   "cell_type": "code",
   "execution_count": 5,
   "metadata": {
    "collapsed": true,
    "scrolled": true
   },
   "outputs": [],
   "source": [
    "def generate_batch(x, y, batch_size):\n",
    "    _, x_batch, _, y_batch = train_test_split(x, y, test_size=batch_size/len(x))\n",
    "    return x_batch, y_batch"
   ]
  },
  {
   "cell_type": "code",
   "execution_count": 182,
   "metadata": {
    "collapsed": true
   },
   "outputs": [],
   "source": [
    "class firstNet(nn.Module):\n",
    "    def __init__(self):\n",
    "        super(firstNet, self).__init__()\n",
    "        self.fc1 = nn.Linear(784, 100) # params - 2D-Tensor 28*28x100\n",
    "        self.fc2 = nn.Linear(100, 10) # params - 2D-Tensor 28*28x100\n",
    "        \n",
    "    def forward(self, x):\n",
    "        # x.shape = [50, 1, 28, 28] => [50, 784] => [50, 100] => [50, 10]\n",
    "        #x = x.view(-1, 28*28)\n",
    "        x = F.relu(self.fc1(x))\n",
    "        x = self.fc2(x)\n",
    "        x = F.softmax(x, dim=1)\n",
    "        return x"
   ]
  },
  {
   "cell_type": "code",
   "execution_count": 219,
   "metadata": {},
   "outputs": [],
   "source": [
    "model = firstNet()\n",
    "optimizer = optim.SGD(model.parameters(), lr=1)"
   ]
  },
  {
   "cell_type": "code",
   "execution_count": 220,
   "metadata": {
    "collapsed": true
   },
   "outputs": [],
   "source": [
    "train_accuracy = []\n",
    "test_accuracy = []"
   ]
  },
  {
   "cell_type": "code",
   "execution_count": 221,
   "metadata": {
    "collapsed": true
   },
   "outputs": [],
   "source": [
    "def train(x_train, y_train, epochs_num, step=10, is_print=True):\n",
    "    data = np.asarray(x_train)\n",
    "    data = torch.from_numpy(x_train)\n",
    "    data = data.float()\n",
    "    \n",
    "    target = np.asarray(y_train)\n",
    "    target = torch.from_numpy(target)\n",
    "    target = target.long()\n",
    "    for epoch in range(epochs_num):\n",
    "        optimizer.zero_grad()\n",
    "        output = model(data)\n",
    "        criterion = nn.CrossEntropyLoss()\n",
    "        loss = criterion(output, torch.max(target, 1)[1])\n",
    "        loss.backward()\n",
    "        optimizer.step()\n",
    "        \n",
    "        \n",
    "        if epoch % step == 0:            \n",
    "            _, predicted_train = torch.max(output, 1)\n",
    "            predicted_train = predicted_train.numpy()\n",
    "            labels_train = np.argmax(y_train, axis=1)\n",
    "            is_equal_train = (predicted_train == labels_train)\n",
    "            acc_train = 100*np.sum(is_equal_train)/len(is_equal_train)\n",
    "            train_accuracy.append(acc_train)\n",
    "            \n",
    "            output_test = model(torch.from_numpy(np.asarray(x_test)).float())\n",
    "            _, predicted_test = torch.max(output_test, 1)\n",
    "            predicted_test = predicted_test.numpy()\n",
    "            labels_test = np.argmax(y_test, axis=1)\n",
    "            is_equal_test = (predicted_test == labels_test)\n",
    "            acc_test = 100*np.sum(is_equal_test)/len(is_equal_test)\n",
    "            test_accuracy.append(acc_test)\n",
    "            \n",
    "            if is_print:\n",
    "                print(\"Epoch\", epoch)\n",
    "                print(\"Train Accuracy = \", acc_train, \"%\", sep='')"
   ]
  },
  {
   "cell_type": "code",
   "execution_count": 222,
   "metadata": {
    "scrolled": true
   },
   "outputs": [
    {
     "name": "stdout",
     "output_type": "stream",
     "text": [
      "Epoch 0\n",
      "Train Accuracy = 15.170909090909092%\n",
      "Epoch 10\n",
      "Train Accuracy = 31.207272727272727%\n",
      "Epoch 20\n",
      "Train Accuracy = 55.052727272727275%\n"
     ]
    },
    {
     "ename": "KeyboardInterrupt",
     "evalue": "",
     "output_type": "error",
     "traceback": [
      "\u001b[0;31m---------------------------------------------------------------------------\u001b[0m",
      "\u001b[0;31mKeyboardInterrupt\u001b[0m                         Traceback (most recent call last)",
      "\u001b[0;32m<ipython-input-222-ce1ed65d8f83>\u001b[0m in \u001b[0;36m<module>\u001b[0;34m()\u001b[0m\n\u001b[0;32m----> 1\u001b[0;31m \u001b[0mtrain\u001b[0m\u001b[0;34m(\u001b[0m\u001b[0mx_train\u001b[0m\u001b[0;34m,\u001b[0m \u001b[0my_train\u001b[0m\u001b[0;34m,\u001b[0m \u001b[0;36m1000\u001b[0m\u001b[0;34m)\u001b[0m\u001b[0;34m\u001b[0m\u001b[0;34m\u001b[0m\u001b[0m\n\u001b[0m",
      "\u001b[0;32m<ipython-input-221-43a92efdd14a>\u001b[0m in \u001b[0;36mtrain\u001b[0;34m(x_train, y_train, epochs_num, step, is_print)\u001b[0m\n\u001b[1;32m     12\u001b[0m         \u001b[0mcriterion\u001b[0m \u001b[0;34m=\u001b[0m \u001b[0mnn\u001b[0m\u001b[0;34m.\u001b[0m\u001b[0mCrossEntropyLoss\u001b[0m\u001b[0;34m(\u001b[0m\u001b[0;34m)\u001b[0m\u001b[0;34m\u001b[0m\u001b[0;34m\u001b[0m\u001b[0m\n\u001b[1;32m     13\u001b[0m         \u001b[0mloss\u001b[0m \u001b[0;34m=\u001b[0m \u001b[0mcriterion\u001b[0m\u001b[0;34m(\u001b[0m\u001b[0moutput\u001b[0m\u001b[0;34m,\u001b[0m \u001b[0mtorch\u001b[0m\u001b[0;34m.\u001b[0m\u001b[0mmax\u001b[0m\u001b[0;34m(\u001b[0m\u001b[0mtarget\u001b[0m\u001b[0;34m,\u001b[0m \u001b[0;36m1\u001b[0m\u001b[0;34m)\u001b[0m\u001b[0;34m[\u001b[0m\u001b[0;36m1\u001b[0m\u001b[0;34m]\u001b[0m\u001b[0;34m)\u001b[0m\u001b[0;34m\u001b[0m\u001b[0;34m\u001b[0m\u001b[0m\n\u001b[0;32m---> 14\u001b[0;31m         \u001b[0mloss\u001b[0m\u001b[0;34m.\u001b[0m\u001b[0mbackward\u001b[0m\u001b[0;34m(\u001b[0m\u001b[0;34m)\u001b[0m\u001b[0;34m\u001b[0m\u001b[0;34m\u001b[0m\u001b[0m\n\u001b[0m\u001b[1;32m     15\u001b[0m         \u001b[0moptimizer\u001b[0m\u001b[0;34m.\u001b[0m\u001b[0mstep\u001b[0m\u001b[0;34m(\u001b[0m\u001b[0;34m)\u001b[0m\u001b[0;34m\u001b[0m\u001b[0;34m\u001b[0m\u001b[0m\n\u001b[1;32m     16\u001b[0m \u001b[0;34m\u001b[0m\u001b[0m\n",
      "\u001b[0;32m~/anaconda3/lib/python3.6/site-packages/torch/tensor.py\u001b[0m in \u001b[0;36mbackward\u001b[0;34m(self, gradient, retain_graph, create_graph)\u001b[0m\n\u001b[1;32m     91\u001b[0m                 \u001b[0mproducts\u001b[0m\u001b[0;34m.\u001b[0m \u001b[0mDefaults\u001b[0m \u001b[0mto\u001b[0m\u001b[0;31m \u001b[0m\u001b[0;31m`\u001b[0m\u001b[0;31m`\u001b[0m\u001b[0;32mFalse\u001b[0m\u001b[0;31m`\u001b[0m\u001b[0;31m`\u001b[0m\u001b[0;34m.\u001b[0m\u001b[0;34m\u001b[0m\u001b[0;34m\u001b[0m\u001b[0m\n\u001b[1;32m     92\u001b[0m         \"\"\"\n\u001b[0;32m---> 93\u001b[0;31m         \u001b[0mtorch\u001b[0m\u001b[0;34m.\u001b[0m\u001b[0mautograd\u001b[0m\u001b[0;34m.\u001b[0m\u001b[0mbackward\u001b[0m\u001b[0;34m(\u001b[0m\u001b[0mself\u001b[0m\u001b[0;34m,\u001b[0m \u001b[0mgradient\u001b[0m\u001b[0;34m,\u001b[0m \u001b[0mretain_graph\u001b[0m\u001b[0;34m,\u001b[0m \u001b[0mcreate_graph\u001b[0m\u001b[0;34m)\u001b[0m\u001b[0;34m\u001b[0m\u001b[0;34m\u001b[0m\u001b[0m\n\u001b[0m\u001b[1;32m     94\u001b[0m \u001b[0;34m\u001b[0m\u001b[0m\n\u001b[1;32m     95\u001b[0m     \u001b[0;32mdef\u001b[0m \u001b[0mregister_hook\u001b[0m\u001b[0;34m(\u001b[0m\u001b[0mself\u001b[0m\u001b[0;34m,\u001b[0m \u001b[0mhook\u001b[0m\u001b[0;34m)\u001b[0m\u001b[0;34m:\u001b[0m\u001b[0;34m\u001b[0m\u001b[0;34m\u001b[0m\u001b[0m\n",
      "\u001b[0;32m~/anaconda3/lib/python3.6/site-packages/torch/autograd/__init__.py\u001b[0m in \u001b[0;36mbackward\u001b[0;34m(tensors, grad_tensors, retain_graph, create_graph, grad_variables)\u001b[0m\n\u001b[1;32m     88\u001b[0m     Variable._execution_engine.run_backward(\n\u001b[1;32m     89\u001b[0m         \u001b[0mtensors\u001b[0m\u001b[0;34m,\u001b[0m \u001b[0mgrad_tensors\u001b[0m\u001b[0;34m,\u001b[0m \u001b[0mretain_graph\u001b[0m\u001b[0;34m,\u001b[0m \u001b[0mcreate_graph\u001b[0m\u001b[0;34m,\u001b[0m\u001b[0;34m\u001b[0m\u001b[0;34m\u001b[0m\u001b[0m\n\u001b[0;32m---> 90\u001b[0;31m         allow_unreachable=True)  # allow_unreachable flag\n\u001b[0m\u001b[1;32m     91\u001b[0m \u001b[0;34m\u001b[0m\u001b[0m\n\u001b[1;32m     92\u001b[0m \u001b[0;34m\u001b[0m\u001b[0m\n",
      "\u001b[0;31mKeyboardInterrupt\u001b[0m: "
     ]
    }
   ],
   "source": [
    "train(x_train, y_train, 1000)"
   ]
  },
  {
   "cell_type": "markdown",
   "metadata": {},
   "source": [
    "### Now let's check accuracy on test dataset:"
   ]
  },
  {
   "cell_type": "code",
   "execution_count": 203,
   "metadata": {},
   "outputs": [
    {
     "name": "stdout",
     "output_type": "stream",
     "text": [
      "Test Accuracy = 94.1%\n"
     ]
    }
   ],
   "source": [
    "output = model(torch.from_numpy(np.asarray(x_test)).float())\n",
    "_, predicted = torch.max(output, 1)\n",
    "predicted = predicted.numpy()\n",
    "labels = np.argmax(y_test, axis=1)\n",
    "is_equal = (predicted == labels)\n",
    "print(\"Test Accuracy = \", 100*np.sum(is_equal)/len(is_equal), \"%\", sep='')"
   ]
  },
  {
   "cell_type": "markdown",
   "metadata": {},
   "source": [
    "#### Not so bad!"
   ]
  },
  {
   "cell_type": "markdown",
   "metadata": {},
   "source": [
    "### It's time to figure out how accuracy depends on epochs number:"
   ]
  },
  {
   "cell_type": "code",
   "execution_count": 223,
   "metadata": {},
   "outputs": [
    {
     "name": "stdout",
     "output_type": "stream",
     "text": [
      "Epoch 0\n",
      "Train Accuracy = 9.876363636363637%\n",
      "Epoch 10\n",
      "Train Accuracy = 29.043636363636363%\n",
      "Epoch 20\n",
      "Train Accuracy = 48.018181818181816%\n",
      "Epoch 30\n",
      "Train Accuracy = 59.60363636363636%\n",
      "Epoch 40\n",
      "Train Accuracy = 77.36727272727273%\n",
      "Epoch 50\n",
      "Train Accuracy = 79.76181818181819%\n",
      "Epoch 60\n",
      "Train Accuracy = 78.66181818181818%\n",
      "Epoch 70\n",
      "Train Accuracy = 80.41636363636364%\n",
      "Epoch 80\n",
      "Train Accuracy = 81.78363636363636%\n",
      "Epoch 90\n",
      "Train Accuracy = 82.32181818181819%\n",
      "Epoch 100\n",
      "Train Accuracy = 82.61636363636363%\n",
      "Epoch 110\n",
      "Train Accuracy = 82.86545454545454%\n",
      "Epoch 120\n",
      "Train Accuracy = 83.03454545454545%\n",
      "Epoch 130\n",
      "Train Accuracy = 83.23818181818181%\n",
      "Epoch 140\n",
      "Train Accuracy = 83.37636363636364%\n",
      "Epoch 150\n",
      "Train Accuracy = 83.54545454545455%\n",
      "Epoch 160\n",
      "Train Accuracy = 83.65454545454546%\n",
      "Epoch 170\n",
      "Train Accuracy = 83.74363636363637%\n",
      "Epoch 180\n",
      "Train Accuracy = 83.84545454545454%\n",
      "Epoch 190\n",
      "Train Accuracy = 83.92181818181818%\n",
      "Epoch 200\n",
      "Train Accuracy = 84.00363636363636%\n",
      "Epoch 210\n",
      "Train Accuracy = 84.08%\n",
      "Epoch 220\n",
      "Train Accuracy = 84.16727272727273%\n",
      "Epoch 230\n",
      "Train Accuracy = 84.24545454545455%\n",
      "Epoch 240\n",
      "Train Accuracy = 84.32545454545455%\n",
      "Epoch 250\n",
      "Train Accuracy = 84.38363636363637%\n",
      "Epoch 260\n",
      "Train Accuracy = 84.45636363636363%\n",
      "Epoch 270\n",
      "Train Accuracy = 84.52%\n",
      "Epoch 280\n",
      "Train Accuracy = 84.58545454545454%\n",
      "Epoch 290\n",
      "Train Accuracy = 84.62181818181818%\n",
      "Epoch 300\n",
      "Train Accuracy = 84.65818181818182%\n",
      "Epoch 310\n",
      "Train Accuracy = 84.71636363636364%\n",
      "Epoch 320\n",
      "Train Accuracy = 84.76545454545455%\n",
      "Epoch 330\n",
      "Train Accuracy = 84.81090909090909%\n",
      "Epoch 340\n",
      "Train Accuracy = 84.84545454545454%\n",
      "Epoch 350\n",
      "Train Accuracy = 84.88545454545455%\n",
      "Epoch 360\n",
      "Train Accuracy = 84.92545454545454%\n",
      "Epoch 370\n",
      "Train Accuracy = 84.95636363636363%\n",
      "Epoch 380\n",
      "Train Accuracy = 84.99090909090908%\n",
      "Epoch 390\n",
      "Train Accuracy = 85.03818181818181%\n",
      "Epoch 400\n",
      "Train Accuracy = 85.06727272727272%\n",
      "Epoch 410\n",
      "Train Accuracy = 85.09272727272727%\n",
      "Epoch 420\n",
      "Train Accuracy = 85.13272727272727%\n",
      "Epoch 430\n",
      "Train Accuracy = 85.17454545454545%\n",
      "Epoch 440\n",
      "Train Accuracy = 85.21454545454546%\n",
      "Epoch 450\n",
      "Train Accuracy = 85.25272727272727%\n",
      "Epoch 460\n",
      "Train Accuracy = 85.27818181818182%\n",
      "Epoch 470\n",
      "Train Accuracy = 85.29636363636364%\n",
      "Epoch 480\n",
      "Train Accuracy = 85.31818181818181%\n",
      "Epoch 490\n",
      "Train Accuracy = 85.36363636363636%\n",
      "Epoch 500\n",
      "Train Accuracy = 85.40545454545455%\n",
      "Epoch 510\n",
      "Train Accuracy = 85.43272727272728%\n",
      "Epoch 520\n",
      "Train Accuracy = 85.46727272727273%\n",
      "Epoch 530\n",
      "Train Accuracy = 85.5%\n",
      "Epoch 540\n",
      "Train Accuracy = 85.53454545454545%\n",
      "Epoch 550\n",
      "Train Accuracy = 85.5490909090909%\n",
      "Epoch 560\n",
      "Train Accuracy = 85.58909090909091%\n",
      "Epoch 570\n",
      "Train Accuracy = 85.61818181818182%\n",
      "Epoch 580\n",
      "Train Accuracy = 85.64%\n",
      "Epoch 590\n",
      "Train Accuracy = 85.65818181818182%\n",
      "Epoch 600\n",
      "Train Accuracy = 85.68545454545455%\n",
      "Epoch 610\n",
      "Train Accuracy = 85.7090909090909%\n",
      "Epoch 620\n",
      "Train Accuracy = 85.73636363636363%\n",
      "Epoch 630\n",
      "Train Accuracy = 85.76363636363637%\n",
      "Epoch 640\n",
      "Train Accuracy = 85.80545454545455%\n",
      "Epoch 650\n",
      "Train Accuracy = 85.84%\n",
      "Epoch 660\n",
      "Train Accuracy = 85.8709090909091%\n",
      "Epoch 670\n",
      "Train Accuracy = 85.89636363636363%\n",
      "Epoch 680\n",
      "Train Accuracy = 85.90545454545455%\n",
      "Epoch 690\n",
      "Train Accuracy = 85.92545454545454%\n",
      "Epoch 700\n",
      "Train Accuracy = 85.94%\n",
      "Epoch 710\n",
      "Train Accuracy = 85.96545454545455%\n",
      "Epoch 720\n",
      "Train Accuracy = 85.98363636363636%\n",
      "Epoch 730\n",
      "Train Accuracy = 86.07454545454546%\n",
      "Epoch 740\n",
      "Train Accuracy = 89.86363636363636%\n",
      "Epoch 750\n",
      "Train Accuracy = 89.85636363636364%\n",
      "Epoch 760\n",
      "Train Accuracy = 91.35272727272728%\n",
      "Epoch 770\n",
      "Train Accuracy = 91.91272727272727%\n",
      "Epoch 780\n",
      "Train Accuracy = 92.0909090909091%\n",
      "Epoch 790\n",
      "Train Accuracy = 92.25454545454545%\n",
      "Epoch 800\n",
      "Train Accuracy = 92.38909090909091%\n",
      "Epoch 810\n",
      "Train Accuracy = 92.55818181818182%\n",
      "Epoch 820\n",
      "Train Accuracy = 92.67818181818181%\n",
      "Epoch 830\n",
      "Train Accuracy = 92.76727272727273%\n",
      "Epoch 840\n",
      "Train Accuracy = 92.88545454545455%\n",
      "Epoch 850\n",
      "Train Accuracy = 92.95818181818181%\n",
      "Epoch 860\n",
      "Train Accuracy = 93.03272727272727%\n",
      "Epoch 870\n",
      "Train Accuracy = 93.12%\n",
      "Epoch 880\n",
      "Train Accuracy = 93.19272727272727%\n",
      "Epoch 890\n",
      "Train Accuracy = 93.27818181818182%\n",
      "Epoch 900\n",
      "Train Accuracy = 93.32909090909091%\n",
      "Epoch 910\n",
      "Train Accuracy = 93.41818181818182%\n",
      "Epoch 920\n",
      "Train Accuracy = 93.47090909090909%\n",
      "Epoch 930\n",
      "Train Accuracy = 93.52181818181818%\n",
      "Epoch 940\n",
      "Train Accuracy = 93.57818181818182%\n",
      "Epoch 950\n",
      "Train Accuracy = 93.63090909090909%\n",
      "Epoch 960\n",
      "Train Accuracy = 93.69090909090909%\n",
      "Epoch 970\n",
      "Train Accuracy = 93.72363636363636%\n",
      "Epoch 980\n",
      "Train Accuracy = 93.76727272727273%\n",
      "Epoch 990\n",
      "Train Accuracy = 93.80909090909091%\n"
     ]
    }
   ],
   "source": [
    "model = firstNet()\n",
    "optimizer = optim.SGD(model.parameters(), lr=1)\n",
    "train_accuracy = []\n",
    "test_accuracy = []\n",
    "epochs_num = 1000\n",
    "\n",
    "train(x_train, y_train, epochs_num)"
   ]
  },
  {
   "cell_type": "code",
   "execution_count": 226,
   "metadata": {
    "scrolled": false
   },
   "outputs": [
    {
     "data": {
      "image/png": "[encoded data removed]",
      "text/plain": [
       "<Figure size 432x288 with 1 Axes>"
      ]
     },
     "metadata": {},
     "output_type": "display_data"
    }
   ],
   "source": [
    "epochs = np.arange(0, 1000, 10)\n",
    "plt.title(\"Accuracy dependence on epochs num\")\n",
    "plt.plot(epochs, train_accuracy, color='blue')\n",
    "plt.plot(epochs, test_accuracy, color='orange')\n",
    "plt.legend(('Train', 'Test'),\n",
    "           loc='lower right')\n",
    "plt.show()\n"
   ]
  },
  {
   "cell_type": "markdown",
   "metadata": {},
   "source": [
    "Let's briefly touch on themes of regularization. As was discussed before, there are different approaches. We focus on the modification of loss function.\n",
    "\n",
    "$$\\arg\\min_W -\\frac{1}{\\mathcal{l}}\\sum_y\\sum_i [y = i] \\cdot \\ln(p_i(W)) + \\lambda_1 L_1(W) + \\lambda_2 L_2(W)$$\n",
    "\n",
    "1. $L_1(W) = sum_{i,j} |w_{i,j}|$ - sparsify weights (force to not use uncorrelated features)\n",
    "2. $L_2(W) = sum_{i,j} w_{i,j}^2$ - minimize weights (force to not overfit)\n",
    "\n",
    "#### Exercises\n",
    "1. Train model again using both type of regularization.\n",
    "2. Plot matrix of weights.\n",
    "3. Which pixels have zero weights? What does it mean?\n",
    "4. Have you improved accuracy on validation?"
   ]
  },
  {
   "cell_type": "code",
   "execution_count": 108,
   "metadata": {
    "collapsed": true
   },
   "outputs": [],
   "source": [
    "class regNet(nn.Module):\n",
    "    def __init__(self):\n",
    "        super(regNet, self).__init__()\n",
    "        self.fc1 = nn.Linear(784, 100) # params - 2D-Tensor 28*28x100\n",
    "        self.fc2 = nn.Linear(100, 10) # params - 2D-Tensor 28*28x100\n",
    "        \n",
    "    def forward(self, x):\n",
    "        # x.shape = [50, 1, 28, 28] => [50, 784] => [50, 100] => [50, 10]\n",
    "        #x = x.view(-1, 28*28)\n",
    "        x = F.relu(self.fc1(x))\n",
    "        x = self.fc2(x)\n",
    "        x = F.softmax(x, dim=1)\n",
    "        return x"
   ]
  },
  {
   "cell_type": "code",
   "execution_count": 204,
   "metadata": {},
   "outputs": [],
   "source": [
    "modelReg = regNet()\n",
    "optimizer = optim.SGD(modelReg.parameters(), lr=1)"
   ]
  },
  {
   "cell_type": "code",
   "execution_count": 205,
   "metadata": {
    "collapsed": true
   },
   "outputs": [],
   "source": [
    "def trainReg(x_train, y_train, epochs_num, lambda1, lambda2, is_print=True):\n",
    "    data = np.asarray(x_train)\n",
    "    data = torch.from_numpy(x_train)\n",
    "    data = data.float()\n",
    "    \n",
    "    target = np.asarray(y_train)\n",
    "    target = torch.from_numpy(target)\n",
    "    target = target.long()\n",
    "    for epoch in range(epochs_num):\n",
    "        optimizer.zero_grad()\n",
    "        output = modelReg(data)\n",
    "        criterion = nn.CrossEntropyLoss()\n",
    "        loss = criterion(output, torch.max(target, 1)[1])\n",
    "        \n",
    "        lossL1 = torch.sum(torch.abs(modelReg.fc1.weight)) + torch.sum(torch.abs(modelReg.fc2.weight))\n",
    "        lossL2 = torch.sum(modelReg.fc1.weight**2) + torch.sum(modelReg.fc2.weight**2)\n",
    "        loss += lambda1 * lossL1 + lambda2 * lossL2\n",
    "        \n",
    "        loss.backward()\n",
    "        optimizer.step()\n",
    "        \n",
    "        if is_print and epoch % 10 == 0:\n",
    "            print(\"Epoch\", epoch, \":\")\n",
    "            _, predicted = torch.max(output, 1)\n",
    "            predicted = predicted.numpy()\n",
    "            labels = np.argmax(y_train, axis=1)\n",
    "            is_equal = (predicted == labels)\n",
    "            print(\"Train Accuracy = \", 100*np.sum(is_equal)/len(is_equal), \"%\", sep='')"
   ]
  },
  {
   "cell_type": "code",
   "execution_count": 206,
   "metadata": {
    "scrolled": true
   },
   "outputs": [
    {
     "name": "stdout",
     "output_type": "stream",
     "text": [
      "Epoch 0 :\n",
      "Train Accuracy = 9.661818181818182%\n",
      "Epoch 10 :\n",
      "Train Accuracy = 39.10181818181818%\n",
      "Epoch 20 :\n",
      "Train Accuracy = 44.56181818181818%\n",
      "Epoch 30 :\n",
      "Train Accuracy = 60.77272727272727%\n",
      "Epoch 40 :\n",
      "Train Accuracy = 76.82181818181819%\n",
      "Epoch 50 :\n",
      "Train Accuracy = 79.31454545454545%\n",
      "Epoch 60 :\n",
      "Train Accuracy = 80.74363636363637%\n",
      "Epoch 70 :\n",
      "Train Accuracy = 81.36363636363636%\n",
      "Epoch 80 :\n",
      "Train Accuracy = 80.74727272727273%\n",
      "Epoch 90 :\n",
      "Train Accuracy = 82.01272727272728%\n",
      "Epoch 100 :\n",
      "Train Accuracy = 82.48%\n",
      "Epoch 110 :\n",
      "Train Accuracy = 82.71818181818182%\n",
      "Epoch 120 :\n",
      "Train Accuracy = 82.89454545454545%\n",
      "Epoch 130 :\n",
      "Train Accuracy = 83.0490909090909%\n",
      "Epoch 140 :\n",
      "Train Accuracy = 83.18909090909091%\n",
      "Epoch 150 :\n",
      "Train Accuracy = 83.30181818181818%\n",
      "Epoch 160 :\n",
      "Train Accuracy = 83.42545454545454%\n",
      "Epoch 170 :\n",
      "Train Accuracy = 83.52363636363637%\n",
      "Epoch 180 :\n",
      "Train Accuracy = 83.59454545454545%\n",
      "Epoch 190 :\n",
      "Train Accuracy = 83.64727272727272%\n",
      "Epoch 200 :\n",
      "Train Accuracy = 83.71272727272728%\n",
      "Epoch 210 :\n",
      "Train Accuracy = 83.74363636363637%\n",
      "Epoch 220 :\n",
      "Train Accuracy = 83.79636363636364%\n",
      "Epoch 230 :\n",
      "Train Accuracy = 83.88363636363637%\n",
      "Epoch 240 :\n",
      "Train Accuracy = 83.92%\n",
      "Epoch 250 :\n",
      "Train Accuracy = 83.95272727272727%\n",
      "Epoch 260 :\n",
      "Train Accuracy = 83.97818181818182%\n",
      "Epoch 270 :\n",
      "Train Accuracy = 84.02%\n",
      "Epoch 280 :\n",
      "Train Accuracy = 84.05636363636364%\n",
      "Epoch 290 :\n",
      "Train Accuracy = 84.10181818181819%\n",
      "Epoch 300 :\n",
      "Train Accuracy = 84.13818181818182%\n",
      "Epoch 310 :\n",
      "Train Accuracy = 84.16%\n",
      "Epoch 320 :\n",
      "Train Accuracy = 85.02909090909091%\n",
      "Epoch 330 :\n",
      "Train Accuracy = 88.50181818181818%\n",
      "Epoch 340 :\n",
      "Train Accuracy = 88.43454545454546%\n",
      "Epoch 350 :\n",
      "Train Accuracy = 89.59636363636363%\n",
      "Epoch 360 :\n",
      "Train Accuracy = 89.99090909090908%\n",
      "Epoch 370 :\n",
      "Train Accuracy = 90.22363636363636%\n",
      "Epoch 380 :\n",
      "Train Accuracy = 90.36545454545454%\n",
      "Epoch 390 :\n",
      "Train Accuracy = 90.4890909090909%\n",
      "Epoch 400 :\n",
      "Train Accuracy = 90.6%\n",
      "Epoch 410 :\n",
      "Train Accuracy = 90.68727272727273%\n",
      "Epoch 420 :\n",
      "Train Accuracy = 90.82%\n",
      "Epoch 430 :\n",
      "Train Accuracy = 90.92%\n",
      "Epoch 440 :\n",
      "Train Accuracy = 91.02727272727273%\n",
      "Epoch 450 :\n",
      "Train Accuracy = 91.09636363636363%\n",
      "Epoch 460 :\n",
      "Train Accuracy = 91.16363636363636%\n",
      "Epoch 470 :\n",
      "Train Accuracy = 91.22545454545454%\n",
      "Epoch 480 :\n",
      "Train Accuracy = 91.3%\n",
      "Epoch 490 :\n",
      "Train Accuracy = 91.37636363636364%\n",
      "Epoch 500 :\n",
      "Train Accuracy = 91.44%\n",
      "Epoch 510 :\n",
      "Train Accuracy = 91.48727272727272%\n",
      "Epoch 520 :\n",
      "Train Accuracy = 91.54%\n",
      "Epoch 530 :\n",
      "Train Accuracy = 91.58363636363636%\n",
      "Epoch 540 :\n",
      "Train Accuracy = 91.63272727272727%\n",
      "Epoch 550 :\n",
      "Train Accuracy = 91.68727272727273%\n",
      "Epoch 560 :\n",
      "Train Accuracy = 91.71636363636364%\n",
      "Epoch 570 :\n",
      "Train Accuracy = 91.75272727272727%\n",
      "Epoch 580 :\n",
      "Train Accuracy = 91.78727272727272%\n",
      "Epoch 590 :\n",
      "Train Accuracy = 91.82363636363637%\n",
      "Epoch 600 :\n",
      "Train Accuracy = 91.87272727272727%\n",
      "Epoch 610 :\n",
      "Train Accuracy = 91.91818181818182%\n",
      "Epoch 620 :\n",
      "Train Accuracy = 91.96%\n",
      "Epoch 630 :\n",
      "Train Accuracy = 92.00363636363636%\n",
      "Epoch 640 :\n",
      "Train Accuracy = 92.02909090909091%\n",
      "Epoch 650 :\n",
      "Train Accuracy = 92.0690909090909%\n",
      "Epoch 660 :\n",
      "Train Accuracy = 92.1%\n",
      "Epoch 670 :\n",
      "Train Accuracy = 92.13636363636364%\n",
      "Epoch 680 :\n",
      "Train Accuracy = 92.17090909090909%\n",
      "Epoch 690 :\n",
      "Train Accuracy = 92.20545454545454%\n",
      "Epoch 700 :\n",
      "Train Accuracy = 92.24545454545455%\n",
      "Epoch 710 :\n",
      "Train Accuracy = 92.2690909090909%\n",
      "Epoch 720 :\n",
      "Train Accuracy = 92.29272727272728%\n",
      "Epoch 730 :\n",
      "Train Accuracy = 92.31090909090909%\n",
      "Epoch 740 :\n",
      "Train Accuracy = 92.34%\n",
      "Epoch 750 :\n",
      "Train Accuracy = 92.36181818181818%\n",
      "Epoch 760 :\n",
      "Train Accuracy = 92.39636363636363%\n",
      "Epoch 770 :\n",
      "Train Accuracy = 92.42363636363636%\n",
      "Epoch 780 :\n",
      "Train Accuracy = 92.45636363636363%\n",
      "Epoch 790 :\n",
      "Train Accuracy = 92.48545454545454%\n",
      "Epoch 800 :\n",
      "Train Accuracy = 92.51272727272728%\n",
      "Epoch 810 :\n",
      "Train Accuracy = 92.54363636363637%\n",
      "Epoch 820 :\n",
      "Train Accuracy = 92.57272727272728%\n",
      "Epoch 830 :\n",
      "Train Accuracy = 92.5909090909091%\n",
      "Epoch 840 :\n",
      "Train Accuracy = 92.61818181818182%\n",
      "Epoch 850 :\n",
      "Train Accuracy = 92.64181818181818%\n",
      "Epoch 860 :\n",
      "Train Accuracy = 92.66181818181818%\n",
      "Epoch 870 :\n",
      "Train Accuracy = 92.68727272727273%\n",
      "Epoch 880 :\n",
      "Train Accuracy = 92.70363636363636%\n",
      "Epoch 890 :\n",
      "Train Accuracy = 92.72181818181818%\n",
      "Epoch 900 :\n",
      "Train Accuracy = 92.76181818181819%\n",
      "Epoch 910 :\n",
      "Train Accuracy = 92.77454545454546%\n",
      "Epoch 920 :\n",
      "Train Accuracy = 92.8%\n",
      "Epoch 930 :\n",
      "Train Accuracy = 92.82909090909091%\n",
      "Epoch 940 :\n",
      "Train Accuracy = 92.85272727272728%\n",
      "Epoch 950 :\n",
      "Train Accuracy = 92.8709090909091%\n",
      "Epoch 960 :\n",
      "Train Accuracy = 92.89090909090909%\n",
      "Epoch 970 :\n",
      "Train Accuracy = 92.89272727272727%\n",
      "Epoch 980 :\n",
      "Train Accuracy = 92.91090909090909%\n",
      "Epoch 990 :\n",
      "Train Accuracy = 92.92727272727272%\n"
     ]
    }
   ],
   "source": [
    "trainReg(x_train, y_train, 1000, 0.0001, 0.0001)"
   ]
  },
  {
   "cell_type": "code",
   "execution_count": 208,
   "metadata": {
    "scrolled": true
   },
   "outputs": [
    {
     "name": "stdout",
     "output_type": "stream",
     "text": [
      "Test Accuracy = 93.16%\n"
     ]
    }
   ],
   "source": [
    "output = modelReg(torch.from_numpy(np.asarray(x_test)).float())\n",
    "_, predicted = torch.max(output, 1)\n",
    "predicted = predicted.numpy()\n",
    "labels = np.argmax(y_test, axis=1)\n",
    "is_equal = (predicted == labels)\n",
    "print(\"Test Accuracy = \", 100*np.sum(is_equal)/len(is_equal), \"%\", sep='')\n"
   ]
  },
  {
   "cell_type": "code",
   "execution_count": 209,
   "metadata": {},
   "outputs": [
    {
     "name": "stdout",
     "output_type": "stream",
     "text": [
      "Train Accuracy = 92.94545454545455%\n"
     ]
    }
   ],
   "source": [
    "output = modelReg(torch.from_numpy(np.asarray(x_train)).float())\n",
    "_, predicted = torch.max(output, 1)\n",
    "predicted = predicted.numpy()\n",
    "labels = np.argmax(y_train, axis=1)\n",
    "is_equal = (predicted == labels)\n",
    "print(\"Train Accuracy = \", 100*np.sum(is_equal)/len(is_equal), \"%\", sep='')\n"
   ]
  },
  {
   "cell_type": "markdown",
   "metadata": {},
   "source": [
    "### Now let's take a look at matrix of weights:"
   ]
  },
  {
   "cell_type": "code",
   "execution_count": 172,
   "metadata": {
    "collapsed": true
   },
   "outputs": [],
   "source": [
    "W1 = modelReg.fc1.weight\n",
    "W2 = modelReg.fc2.weight\n",
    "\n",
    "W1 = W1.detach().numpy()\n",
    "W2 = W2.detach().numpy()"
   ]
  },
  {
   "cell_type": "code",
   "execution_count": 234,
   "metadata": {},
   "outputs": [
    {
     "name": "stdout",
     "output_type": "stream",
     "text": [
      "[[ 1.13983770e-05 -3.89791239e-06 -3.16206279e-05 ...  1.57546892e-05\n",
      "   6.54786563e-05  3.57446552e-05]\n",
      " [ 1.98274938e-06  9.23234620e-05 -8.39678687e-05 ... -1.58407638e-05\n",
      "   2.74637132e-05 -1.11767804e-05]\n",
      " [ 3.43311185e-05  6.07199836e-05 -5.99676350e-05 ... -3.13697819e-05\n",
      "   8.98657308e-05 -1.15218354e-05]\n",
      " ...\n",
      " [ 2.18670539e-05 -5.38208915e-05 -9.65139552e-05 ... -3.07412629e-05\n",
      "  -2.13658423e-05  1.53112342e-05]\n",
      " [ 9.56488293e-05 -3.77358738e-05 -5.43175775e-05 ... -5.13984487e-05\n",
      "   9.29160742e-05 -8.66006230e-05]\n",
      " [ 2.36684355e-05 -4.06207109e-05 -9.75568400e-05 ...  2.00130162e-05\n",
      "  -1.14978175e-05  9.71607005e-05]]\n"
     ]
    }
   ],
   "source": [
    "print(W1)"
   ]
  },
  {
   "cell_type": "code",
   "execution_count": 243,
   "metadata": {
    "scrolled": true
   },
   "outputs": [
    {
     "data": {
      "image/png": "[encoded data removed]",
      "text/plain": [
       "<Figure size 432x288 with 1 Axes>"
      ]
     },
     "metadata": {},
     "output_type": "display_data"
    }
   ],
   "source": [
    "plt.title(\"First layer\")\n",
    "plt.imshow(W1, cmap='rainbow')\n",
    "plt.show()"
   ]
  },
  {
   "cell_type": "code",
   "execution_count": 244,
   "metadata": {},
   "outputs": [
    {
     "data": {
      "image/png": "[encoded data removed]",
      "text/plain": [
       "<Figure size 432x288 with 1 Axes>"
      ]
     },
     "metadata": {},
     "output_type": "display_data"
    }
   ],
   "source": [
    "plt.title(\"Second layer\")\n",
    "plt.imshow(W2, cmap='rainbow', interpolation='nearest')\n",
    "plt.show()"
   ]
  },
  {
   "cell_type": "markdown",
   "metadata": {},
   "source": [
    "#### As we can see zero weights on the first layer have those pixels that don't have valuable information about digit (those pixels, that are the same at all images, such as pixels close to edges)"
   ]
  },
  {
   "cell_type": "markdown",
   "metadata": {},
   "source": [
    "#### Test accurracy without regularization = 91.16% (I used 200 epoches)\n",
    "#### Test accuracy with regularization = 90.7% (I used 500 epoches)\n",
    "#### As we can see regularization didn't really help, results are practically the same"
   ]
  },
  {
   "cell_type": "markdown",
   "metadata": {},
   "source": [
    "### 2. Universal approximation theorem\n",
    "\n",
    "What if we add more layers to our model? Namely, we train two matrix $W_2$ and $W_1$\n",
    "$$softmax(W_2\\cdot(W_1x)).$$\n",
    "\n",
    "At first glance adding more parameters helps to increase the generalizing ability of the model. Buy actually we have the same model $softmax(Wx)$, where $W = W_2\\cdot W_1$. But everyting changes with adding ome more layer. Let's add nonlinear function $\\sigma$ between $W_2$ and $W_1$\n",
    "\n",
    "$$softmax(W_2\\cdot \\sigma(W_1x)).$$\n",
    "\n",
    "Kurt Hornik showed in 1991 that it is not the specific choice of the nonlinear function, but rather the multilayer feedforward architecture itself which gives neural networks the potential of being universal approximators. The output units are always assumed to be linear. For notational convenience, only the single output case will be shown. The general case can easily be deduced from the single output case.\n",
    "\n",
    "Let $\\sigma(\\cdot)$ be a nonconstant, bounded, and monotonically-increasing continuous function.\n",
    "Let $\\mathcal{S}_m \\subset \\mathbb{R}^m$ denote any compact set. \n",
    "Then, given any $\\varepsilon > 0$ and any coninuous function $f$ on $\\mathcal{S}_m$, there exist an integer $N$ and real constants $v_i$, $b_i$ amd real vectors $w_i$ that\n",
    "\n",
    "$$\\left| \\sum _{i=1}^{N}v_{i}\\sigma \\left( w_i^{T} x+b_i \\right) - f(x) \\right| < \\varepsilon, ~~~ \\forall x \\in \\mathcal{S}_m.$$\n",
    "\n",
    "The theorem has non-constructive proof, it meams that no estimates for $N$ and no method to find approximation's parameters.\n",
    "\n",
    "#### Exercises\n",
    "1. Let $\\sigma$ – [heaviside step function](https://en.wikipedia.org/wiki/Heaviside_step_function) and $x \\in \\{0, 1\\}^2$. Prove that $y = \\sigma(wx + b)$ can approximate boolean function **OR** (hint: use constructive proof).\n",
    "2. What about **AND** function?\n",
    "3. Is it possible to implement **XOR**? Prove your words.\n",
    "4. Prove that 2-layer network can implement any boolean function.\n",
    "\n",
    "#### More useful facts:\n",
    "1. A 2-layer network in in $\\mathbb{R}^n$ allows to define convex polyhedron..\n",
    "2. A 3-layer network in в $\\mathbb{R}^n$ allows to define a not necessarily convex and not even necessarily connected area."
   ]
  },
  {
   "cell_type": "markdown",
   "metadata": {},
   "source": [
    "### 3. Backpropagation\n",
    "Backpropagation is a method used to calculate the error contribution of each layer after a batch of data. It is a special case of an older and more general technique called automatic differentiation. In the context of learning, backpropagation is commonly used by the gradient descent optimization algorithm to adjust the weight of layers by calculating the gradient of the loss function. This technique is also sometimes called backward propagation of errors, because the error is calculated at the output and distributed back through the network layers. The main motivation of method is simplify evaluation of gradient which is complex problem for multilayer nets.\n",
    "\n",
    "We need the following notation. Let $(y^1,\\dots,y^n) = f(x^1,\\dots,x^n)$ is some differentiable function and $\\frac{dy}{dx}$ is matrix\n",
    "$$\\frac{dy}{dx} = \\Big[ J_{ij} = \\frac{\\partial y^i}{\\partial x^j} \\Big]$$\n",
    "\n",
    "Without violating the generality, we can assume that each layer is a function $x_{i} = f(x_{i-1}, w_i)$. As last layer we add loss function, so we can assume our multi-layer net as function $Q(x_0) = Q(f_n(f_{n-1}(\\dots, w_{n-1}), w_n))$.\n",
    "\n",
    "#### Forward step\n",
    "Propagation forward through the network to generate the output values. Calculation of the loss function.\n",
    "\n",
    "#### Backward step\n",
    "Let's look at last layer. We can simply find $\\frac{dQ}{dx_n}$. Now we can evaluate \n",
    "\n",
    "$$\\frac{dQ}{dw_n} = \\frac{dQ}{dx_n}\\frac{dx_n}{dw_n} \\text{ and } \\frac{dQ}{dx_{n-1}} = \\frac{dQ}{dx_n}\\frac{dx_n}{dx_{n-1}}$$\n",
    "\n",
    "Now we need calculate $\\frac{dQ}{dw_{n-2}}$ и $\\frac{dQ}{dx_{n-2}}$. But we have the same situation. We know $\\frac{dQ}{dx_k}$, so can evaluate $\\frac{dQ}{dw_k}$ and $\\frac{dQ}{dx_{k-1}}$. Repeating this operation we find all the gradients. Now it's only remains to make a gradient step to update weights.\n",
    "\n",
    "#### Exercises\n",
    "1. Read more about [vanishing gradient](https://en.wikipedia.org/wiki/Vanishing_gradient_problem).\n",
    "2. Train 2 layer net. Use sigmoid as nonlinearity.\n",
    "3. Check accuracy on validation set.\n",
    "4. Use [ReLu](https://en.wikipedia.org/wiki/Rectifier_(neural_networks) or LeakyReLu as nonlinearity. Compare accuracy and convergence with previous model.\n",
    "5. Play with different architectures (add more layers, regularization and etc).\n",
    "6. Show your best model.\n",
    "7. How does quality change with adding layers. Prove your words, train model for 2, 3, 5, 7 and 10 layers.\n",
    "8. Using backpropagation find optimal  digit 8 for your net.*"
   ]
  },
  {
   "cell_type": "markdown",
   "metadata": {},
   "source": [
    "### 4. Autoencoders\n",
    "An autoencoder is an network used for unsupervised learning of efficient codings. The aim of an autoencoder is to learn a representation (encoding) for a set of data, typically for the purpose of dimensionality reduction. Also, this technique can be used to train deep nets.\n",
    "\n",
    "Architecturally, the simplest form of an autoencoder is a feedforward net very similar to the multilayer perceptron (MLP), but with the output layer having the same number of nodes as the input layer, and with the purpose of reconstructing its own inputs. Therefore, autoencoders are unsupervised learning models. An autoencoder always consists of two parts, the encoder and the decoder. Encoder returns latent representation of the object (compressed representation, usuallu smaller dimension), but decoder restores object from this latent representation. Autoencoders are also trained to minimise reconstruction errors (e.g. MSE).\n",
    "\n",
    "Various techniques exist to prevent autoencoders from learning the identity and to improve their ability to capture important information:\n",
    "1. Denoising autoencoder - take a partially corrupted input.\n",
    "2. Sparse autoencoder - impose sparsity on the hidden units during training (whilst having a larger number of hidden units than inputs).\n",
    "3. Variational autoencoder models inherit autoencoder architecture, but make strong assumptions concerning the distribution of latent variables.\n",
    "4. Contractive autoencoder - add an explicit regularizer in objective function that forces the model to learn a function that is robust to slight variations of input values.\n",
    "\n",
    "#### Exercises\n",
    "1. Train 2 layers autoencoder that compressed mnist images to $\\mathbb{R}^3$ space.\n",
    "2. For each digit plot several samples in 3D axis (use \"%matplotlib notebook\" mode or plotly). How do digits group?\n",
    "3. Train autoencoder with more layers. What are results?\n",
    "4. Use autoencoder to pretrain 2 layers (unsupervised) and then train the following layers with supervised method."
   ]
  }
 ],
 "metadata": {
  "kernelspec": {
   "display_name": "Python 3",
   "language": "python",
   "name": "python3"
  },
  "language_info": {
   "codemirror_mode": {
    "name": "ipython",
    "version": 3
   },
   "file_extension": ".py",
   "mimetype": "text/x-python",
   "name": "python",
   "nbconvert_exporter": "python",
   "pygments_lexer": "ipython3",
   "version": "3.6.7"
  }
 },
 "nbformat": 4,
 "nbformat_minor": 1
}
