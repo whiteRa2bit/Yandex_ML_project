{
 "cells": [
  {
   "cell_type": "markdown",
   "metadata": {},
   "source": [
    "# L2 – Multilayer perceptron\n",
    "\n",
    "### PyTorch\n",
    "1. [Installing PyTorch](https://pytorch.org/get-started/locally/)\n",
    "2. [What is PyTorch?](https://pytorch.org/tutorials/beginner/blitz/tensor_tutorial.html#sphx-glr-beginner-blitz-tensor-tutorial-py)\n",
    "3. [Autograd](https://pytorch.org/tutorials/beginner/blitz/autograd_tutorial.html#sphx-glr-beginner-blitz-autograd-tutorial-py)\n",
    "4. [Useful examples](https://pytorch.org/tutorials/beginner/pytorch_with_examples.html)\n",
    "5. [Mnist example](https://habr.com/company/otus/blog/358096/)\n",
    "\n",
    "\n",
    "### One more thing\n",
    "1. [Jupyter tutorial](https://habrahabr.ru/company/wunderfund/blog/316826/)\n",
    "2. [Plot.ly](https://plot.ly/python/)\n",
    "3. [Widgets](http://jupyter.org/widgets.html)"
   ]
  },
  {
   "cell_type": "code",
   "execution_count": 1,
   "metadata": {},
   "outputs": [],
   "source": [
    "import sys\n",
    "sys.path.append('../')\n",
    "\n",
    "import numpy as np\n",
    "import matplotlib.pyplot as plt\n",
    "import pandas as pd\n",
    "from sklearn.linear_model import LinearRegression\n",
    "from tensorflow.examples.tutorials.mnist import input_data\n",
    "from sklearn.model_selection import train_test_split\n",
    "import time\n",
    "\n",
    "from matplotlib import animation\n",
    "from mpl_toolkits.mplot3d import Axes3D\n",
    "from matplotlib import cm\n",
    "\n",
    "import utils\n",
    "import torch\n",
    "import torch.nn as nn\n",
    "import torch.nn.functional as F\n",
    "import torch.optim as optim\n",
    "from torch.autograd import Variable"
   ]
  },
  {
   "cell_type": "markdown",
   "metadata": {},
   "source": [
    "### 1. Linear multi-classification problem\n",
    "\n",
    "We have already learned binary linear classifier\n",
    "$$y = \\text{sign}(w^Tx).$$\n",
    "There are [several approaches](https://en.wikipedia.org/wiki/Multiclass_classification) to solve the problem of multi-class classification. For example [reduction](https://en.wikipedia.org/wiki/Multiclass_classification#Transformation_to_Binary) of problem to binary classifier or [modification](https://en.wikipedia.org/wiki/Support_vector_machine#Multiclass_SVM) of the known model. However we are interested in approaches that is applied in neural networks.\n",
    "\n",
    "For each class $c \\in 1, \\dots, |C|$ we have an individual row $w_i$ of matrix $W$. Then the probability of $x$ belonging to a particular class is equal to\n",
    "$$p_i = \\frac{\\exp(w^T_ix)}{\\sum_j \\exp(w^T_jx)}.$$\n",
    "This is nothing, but [softmax](https://en.wikipedia.org/wiki/Softmax_function) function of $Wx$.\n",
    "$$(p_1, \\dots, p_{|C|}) = \\text{softmax}(Wx).$$\n",
    "\n",
    "If you look closely, $\\text{softmax}$ is a more general variant of sigmoid. To see this, it suffices to consider the case $|C|=2$. As usual the training can be reduced to minimization of the empirical risk, namely, optimization problem\n",
    "$$\\arg\\min_W Q(W) = \\arg\\min_W -\\frac{1}{\\mathcal{l}}\\sum_y\\sum_i [y = i] \\cdot \\ln(p_i(W)).$$\n",
    "Actually, the maximization of the log-likelihood is written above.\n",
    "\n",
    "#### Exercises\n",
    "1. Find $\\frac{dQ}{dW}$ in matrix form (hint: start with $\\frac{dQ}{dw_i}$ for begining).\n",
    "2. Please plot several mnist images (e.g using grid 5x5).\n",
    "3. Train linear multi-label classifier for [mnist](https://www.kaggle.com/c/digit-recognizer) dataset (possible, [this tutorial](https://habr.com/company/otus/blog/358096/) can help you).\n",
    "4. Chek accuracy on train and validation sets (visualize resulted graph)."
   ]
  },
  {
   "cell_type": "markdown",
   "metadata": {},
   "source": [
    "$$ p_{i} = \\frac{\\exp(w_i^{T} x)}{{\\sum_j \\exp(w^T_jx)}}$$\n",
    "$$ Q(W) = -\\frac{1}{\\mathcal{l}}\\sum_y\\sum_i [y = i] \\cdot \\ln\\left(\\frac{\\exp(w_i^{T} x)}{{\\sum_j \\exp(w^T_jx)}}\\right) = -\\frac{1}{\\mathcal{l}}\\sum_y\\sum_i [y = i] \\cdot \\left( w_i^{T} x - \\ln\\left({{\\sum_j \\exp(w^T_jx)}}\\right) \\right)$$"
   ]
  },
  {
   "cell_type": "markdown",
   "metadata": {},
   "source": [
    "So we need to count $ \\frac{d w_i ^T x}{d w_i} $ and $ \\frac{d\\ln\\left({{\\sum_j \\exp(w^T_jx)}}\\right)} {d w_i} $:"
   ]
  },
  {
   "cell_type": "markdown",
   "metadata": {},
   "source": [
    "$$ \\frac{d w_i ^T x}{d w_i} = x$$\n",
    "$$\\frac{d\\ln\\left({{\\sum_j \\exp(w^T_jx)}}\\right)} {d w_i} = \\frac{1}{{\\sum_j \\exp(w^T_jx)}}  \\cdot \\exp({w^T_i x}) \\cdot x = p_i \\cdot x$$"
   ]
  },
  {
   "cell_type": "markdown",
   "metadata": {},
   "source": [
    "Finally:"
   ]
  },
  {
   "cell_type": "markdown",
   "metadata": {},
   "source": [
    "$$ \\frac{dQ}{dw_i} = -\\frac{1}{\\mathcal{l}}\\sum_y\\sum_i [y = i] \\cdot x \\cdot (1-p_i)$$"
   ]
  },
  {
   "cell_type": "markdown",
   "metadata": {},
   "source": [
    "##### SET THIS AS TRUE IF YOU WANT TO USE PRETRAINED MODELS, AND CHANGE THE PATH TO THE THE PATH TO THE MODELS AT YOUR COMPUTER!!!"
   ]
  },
  {
   "cell_type": "code",
   "execution_count": 2,
   "metadata": {},
   "outputs": [],
   "source": [
    "use_pretrained_models = False\n",
    "path = \"/home/pavel/MyDocs/MachineLearning/Yandex_ML_project/lecture2/Models/\""
   ]
  },
  {
   "cell_type": "markdown",
   "metadata": {},
   "source": [
    "#### Downloading data"
   ]
  },
  {
   "cell_type": "code",
   "execution_count": 3,
   "metadata": {},
   "outputs": [],
   "source": [
    "def display_digit(num):\n",
    "    label = y_train[num].argmax(axis=0)\n",
    "    image = x_train[num].reshape([28,28])\n",
    "    plt.title('Example: %d  Label: %d' % (num, label))\n",
    "    plt.imshow(image, cmap=plt.get_cmap('gray_r'))\n",
    "    plt.show()"
   ]
  },
  {
   "cell_type": "code",
   "execution_count": 4,
   "metadata": {
    "scrolled": true
   },
   "outputs": [
    {
     "name": "stdout",
     "output_type": "stream",
     "text": [
      "WARNING:tensorflow:From <ipython-input-4-c834e915530e>:1: read_data_sets (from tensorflow.contrib.learn.python.learn.datasets.mnist) is deprecated and will be removed in a future version.\n",
      "Instructions for updating:\n",
      "Please use alternatives such as official/mnist/dataset.py from tensorflow/models.\n",
      "WARNING:tensorflow:From /home/pavel/anaconda3/envs/py36/lib/python3.6/site-packages/tensorflow/contrib/learn/python/learn/datasets/mnist.py:260: maybe_download (from tensorflow.contrib.learn.python.learn.datasets.base) is deprecated and will be removed in a future version.\n",
      "Instructions for updating:\n",
      "Please write your own downloading logic.\n",
      "WARNING:tensorflow:From /home/pavel/anaconda3/envs/py36/lib/python3.6/site-packages/tensorflow/contrib/learn/python/learn/datasets/mnist.py:262: extract_images (from tensorflow.contrib.learn.python.learn.datasets.mnist) is deprecated and will be removed in a future version.\n",
      "Instructions for updating:\n",
      "Please use tf.data to implement this functionality.\n",
      "Extracting MNIST_data/train-images-idx3-ubyte.gz\n",
      "WARNING:tensorflow:From /home/pavel/anaconda3/envs/py36/lib/python3.6/site-packages/tensorflow/contrib/learn/python/learn/datasets/mnist.py:267: extract_labels (from tensorflow.contrib.learn.python.learn.datasets.mnist) is deprecated and will be removed in a future version.\n",
      "Instructions for updating:\n",
      "Please use tf.data to implement this functionality.\n",
      "Extracting MNIST_data/train-labels-idx1-ubyte.gz\n",
      "WARNING:tensorflow:From /home/pavel/anaconda3/envs/py36/lib/python3.6/site-packages/tensorflow/contrib/learn/python/learn/datasets/mnist.py:110: dense_to_one_hot (from tensorflow.contrib.learn.python.learn.datasets.mnist) is deprecated and will be removed in a future version.\n",
      "Instructions for updating:\n",
      "Please use tf.one_hot on tensors.\n",
      "Extracting MNIST_data/t10k-images-idx3-ubyte.gz\n",
      "Extracting MNIST_data/t10k-labels-idx1-ubyte.gz\n",
      "WARNING:tensorflow:From /home/pavel/anaconda3/envs/py36/lib/python3.6/site-packages/tensorflow/contrib/learn/python/learn/datasets/mnist.py:290: DataSet.__init__ (from tensorflow.contrib.learn.python.learn.datasets.mnist) is deprecated and will be removed in a future version.\n",
      "Instructions for updating:\n",
      "Please use alternatives such as official/mnist/dataset.py from tensorflow/models.\n",
      "x_train Examples Loaded = (55000, 784)\n",
      "y_train Examples Loaded = (55000, 10)\n",
      "x_test Examples Loaded = (10000, 784)\n",
      "y_test Examples Loaded = (10000, 10)\n"
     ]
    }
   ],
   "source": [
    "mnist = input_data.read_data_sets('MNIST_data', one_hot=True)\n",
    "x_train = mnist.train.images\n",
    "print ('x_train Examples Loaded = ' + str(x_train.shape))\n",
    "y_train = mnist.train.labels\n",
    "print ('y_train Examples Loaded = ' + str(y_train.shape))\n",
    "x_test = mnist.test.images\n",
    "print ('x_test Examples Loaded = ' + str(x_test.shape))\n",
    "y_test = mnist.test.labels\n",
    "print ('y_test Examples Loaded = ' + str(y_test.shape))"
   ]
  },
  {
   "cell_type": "markdown",
   "metadata": {},
   "source": [
    "### Some images examples:"
   ]
  },
  {
   "cell_type": "code",
   "execution_count": 5,
   "metadata": {
    "scrolled": false
   },
   "outputs": [
    {
     "name": "stdout",
     "output_type": "stream",
     "text": [
      "Examples number: [967 128 759  94 623]\n"
     ]
    },
    {
     "data": {
      "image/png": "[encoded data removed]",
      "text/plain": [
       "<Figure size 432x288 with 1 Axes>"
      ]
     },
     "metadata": {
      "needs_background": "light"
     },
     "output_type": "display_data"
    },
    {
     "data": {
      "image/png": "[encoded data removed]",
      "text/plain": [
       "<Figure size 432x288 with 1 Axes>"
      ]
     },
     "metadata": {
      "needs_background": "light"
     },
     "output_type": "display_data"
    },
    {
     "data": {
      "image/png": "[encoded data removed]",
      "text/plain": [
       "<Figure size 432x288 with 1 Axes>"
      ]
     },
     "metadata": {
      "needs_background": "light"
     },
     "output_type": "display_data"
    },
    {
     "data": {
      "image/png": "[encoded data removed]",
      "text/plain": [
       "<Figure size 432x288 with 1 Axes>"
      ]
     },
     "metadata": {
      "needs_background": "light"
     },
     "output_type": "display_data"
    },
    {
     "data": {
      "image/png": "[encoded data removed]",
      "text/plain": [
       "<Figure size 432x288 with 1 Axes>"
      ]
     },
     "metadata": {
      "needs_background": "light"
     },
     "output_type": "display_data"
    }
   ],
   "source": [
    "img_examples = np.random.randint(0, 1000, 5)\n",
    "print(\"Examples number:\", img_examples)\n",
    "for num in img_examples:\n",
    "    display_digit(num)"
   ]
  },
  {
   "cell_type": "markdown",
   "metadata": {},
   "source": [
    "### Let's train our first model:"
   ]
  },
  {
   "cell_type": "code",
   "execution_count": 6,
   "metadata": {},
   "outputs": [],
   "source": [
    "class oneLayerNet(nn.Module):\n",
    "    def __init__(self):\n",
    "        super(oneLayerNet, self).__init__()\n",
    "        self.fc1 = nn.Linear(784, 10) # params - 2D-Tensor 28*28x10\n",
    "        \n",
    "    def forward(self, x):\n",
    "        # x.shape = [50, 1, 28, 28] => [50, 784] => [50, 100] => [50, 10]\n",
    "        #x = x.view(-1, 28*28)\n",
    "        x = self.fc1(x)\n",
    "        x = F.softmax(x, dim=1)\n",
    "        return x"
   ]
  },
  {
   "cell_type": "code",
   "execution_count": 7,
   "metadata": {},
   "outputs": [],
   "source": [
    "def train(model, x_train, y_train, epochs_num, is_print=True, step=10):\n",
    "    data = np.asarray(x_train)\n",
    "    data = torch.from_numpy(x_train)\n",
    "    data = data.float()\n",
    "    \n",
    "    target = np.asarray(y_train)\n",
    "    target = torch.from_numpy(target)\n",
    "    target = target.long()\n",
    "    for epoch in range(epochs_num):\n",
    "        optimizer.zero_grad()\n",
    "        output = model(data)\n",
    "        criterion = nn.CrossEntropyLoss()\n",
    "        loss = criterion(output, torch.max(target, 1)[1])\n",
    "        loss.backward()\n",
    "        optimizer.step()\n",
    "        \n",
    "        if is_print and epoch % step == 0:\n",
    "            print(\"Epoch\", epoch)\n",
    "            _, predicted = torch.max(output, 1)\n",
    "            predicted = predicted.numpy()\n",
    "            labels = np.argmax(y_train, axis=1)\n",
    "            is_equal = (predicted == labels)\n",
    "            print(\"Train Accuracy = \", 100*np.sum(is_equal)/len(is_equal), \"%\", sep='')"
   ]
  },
  {
   "cell_type": "code",
   "execution_count": 8,
   "metadata": {},
   "outputs": [],
   "source": [
    "def getAccuracy(model, x_data, y_data):\n",
    "    output = model(torch.from_numpy(np.asarray(x_data)).float())\n",
    "    _, predicted = torch.max(output, 1)\n",
    "    predicted = predicted.numpy()\n",
    "    labels = np.argmax(y_data, axis=1)\n",
    "    is_equal = (predicted == labels)\n",
    "    return 100*np.sum(is_equal)/len(is_equal)"
   ]
  },
  {
   "cell_type": "code",
   "execution_count": 9,
   "metadata": {
    "scrolled": true
   },
   "outputs": [
    {
     "name": "stdout",
     "output_type": "stream",
     "text": [
      "Epoch 0\n",
      "Train Accuracy = 8.861818181818181%\n",
      "Epoch 10\n",
      "Train Accuracy = 78.34727272727272%\n",
      "Epoch 20\n",
      "Train Accuracy = 85.29454545454546%\n",
      "Epoch 30\n",
      "Train Accuracy = 87.68%\n",
      "Epoch 40\n",
      "Train Accuracy = 88.87454545454545%\n",
      "Epoch 50\n",
      "Train Accuracy = 89.68%\n",
      "Epoch 60\n",
      "Train Accuracy = 90.21090909090908%\n",
      "Epoch 70\n",
      "Train Accuracy = 90.6509090909091%\n",
      "Epoch 80\n",
      "Train Accuracy = 91.03272727272727%\n",
      "Epoch 90\n",
      "Train Accuracy = 91.31090909090909%\n",
      "Epoch 100\n",
      "Train Accuracy = 91.52545454545455%\n",
      "Epoch 110\n",
      "Train Accuracy = 91.71454545454546%\n",
      "Epoch 120\n",
      "Train Accuracy = 91.89818181818181%\n",
      "Epoch 130\n",
      "Train Accuracy = 92.01818181818182%\n",
      "Epoch 140\n",
      "Train Accuracy = 92.14181818181818%\n",
      "Epoch 150\n",
      "Train Accuracy = 92.29272727272728%\n",
      "Epoch 160\n",
      "Train Accuracy = 92.41272727272727%\n",
      "Epoch 170\n",
      "Train Accuracy = 92.51272727272728%\n",
      "Epoch 180\n",
      "Train Accuracy = 92.62363636363636%\n",
      "Epoch 190\n",
      "Train Accuracy = 92.71090909090908%\n"
     ]
    }
   ],
   "source": [
    "if use_pretrained_models:\n",
    "    model_one_layer = oneLayerNet()\n",
    "    model_one_layer.load_state_dict(torch.load(path + \"model_one_layer\"))\n",
    "    model_one_layer.eval()\n",
    "else:\n",
    "    model_one_layer = oneLayerNet()\n",
    "    optimizer = optim.Adam(model_one_layer.parameters(), lr=0.01)\n",
    "    train(model_one_layer, x_train, y_train, 200)\n",
    "    torch.save(model_one_layer.state_dict(), path + \"model_one_layer\")"
   ]
  },
  {
   "cell_type": "markdown",
   "metadata": {},
   "source": [
    "### Now let's check accuracy:"
   ]
  },
  {
   "cell_type": "code",
   "execution_count": 10,
   "metadata": {},
   "outputs": [
    {
     "name": "stdout",
     "output_type": "stream",
     "text": [
      "Train accuracy = 92.79454545454546 %\n",
      "Test accuracy = 92.53 %\n"
     ]
    }
   ],
   "source": [
    "train_accuracy = getAccuracy(model_one_layer, x_train, y_train)\n",
    "test_accuracy = getAccuracy(model_one_layer, x_test, y_test)\n",
    "print(\"Train accuracy =\", train_accuracy, \"%\")\n",
    "print(\"Test accuracy =\", test_accuracy, \"%\")"
   ]
  },
  {
   "cell_type": "markdown",
   "metadata": {},
   "source": [
    "#### Not so bad!"
   ]
  },
  {
   "cell_type": "markdown",
   "metadata": {},
   "source": [
    "### It's time to figure out how accuracy depends on epochs number:"
   ]
  },
  {
   "cell_type": "code",
   "execution_count": 11,
   "metadata": {},
   "outputs": [
    {
     "name": "stdout",
     "output_type": "stream",
     "text": [
      "Epochs num = 5 finished, progress = 0.12195121951219512%\n",
      "Epochs num = 10 finished, progress = 0.36585365853658536%\n",
      "Epochs num = 15 finished, progress = 0.7317073170731707%\n",
      "Epochs num = 20 finished, progress = 1.2195121951219512%\n",
      "Epochs num = 25 finished, progress = 1.829268292682927%\n",
      "Epochs num = 30 finished, progress = 2.5609756097560976%\n",
      "Epochs num = 35 finished, progress = 3.4146341463414633%\n",
      "Epochs num = 40 finished, progress = 4.390243902439025%\n",
      "Epochs num = 45 finished, progress = 5.487804878048781%\n",
      "Epochs num = 50 finished, progress = 6.7073170731707314%\n",
      "Epochs num = 55 finished, progress = 8.048780487804878%\n",
      "Epochs num = 60 finished, progress = 9.512195121951219%\n",
      "Epochs num = 65 finished, progress = 11.097560975609756%\n",
      "Epochs num = 70 finished, progress = 12.804878048780488%\n",
      "Epochs num = 75 finished, progress = 14.634146341463415%\n",
      "Epochs num = 80 finished, progress = 16.585365853658537%\n",
      "Epochs num = 85 finished, progress = 18.658536585365855%\n",
      "Epochs num = 90 finished, progress = 20.853658536585368%\n",
      "Epochs num = 95 finished, progress = 23.170731707317074%\n",
      "Epochs num = 100 finished, progress = 25.609756097560975%\n",
      "Epochs num = 105 finished, progress = 28.170731707317074%\n",
      "Epochs num = 110 finished, progress = 30.853658536585368%\n",
      "Epochs num = 115 finished, progress = 33.65853658536585%\n",
      "Epochs num = 120 finished, progress = 36.58536585365854%\n",
      "Epochs num = 125 finished, progress = 39.63414634146341%\n",
      "Epochs num = 130 finished, progress = 42.80487804878049%\n",
      "Epochs num = 135 finished, progress = 46.09756097560975%\n",
      "Epochs num = 140 finished, progress = 49.51219512195122%\n",
      "Epochs num = 145 finished, progress = 53.048780487804876%\n",
      "Epochs num = 150 finished, progress = 56.707317073170735%\n",
      "Epochs num = 155 finished, progress = 60.48780487804878%\n",
      "Epochs num = 160 finished, progress = 64.39024390243902%\n",
      "Epochs num = 165 finished, progress = 68.41463414634147%\n",
      "Epochs num = 170 finished, progress = 72.5609756097561%\n",
      "Epochs num = 175 finished, progress = 76.82926829268293%\n",
      "Epochs num = 180 finished, progress = 81.21951219512195%\n",
      "Epochs num = 185 finished, progress = 85.73170731707317%\n",
      "Epochs num = 190 finished, progress = 90.36585365853658%\n",
      "Epochs num = 195 finished, progress = 95.1219512195122%\n"
     ]
    }
   ],
   "source": [
    "epochs = np.arange(5, 200, 5)\n",
    "train_accuracy_data = []\n",
    "test_accuracy_data = []\n",
    "\n",
    "for epochs_num in epochs:\n",
    "    model = oneLayerNet()\n",
    "    optimizer = optim.Adam(model.parameters(), lr=0.01)\n",
    "    \n",
    "    train(model, x_train, y_train, epochs_num, False)\n",
    "    output_test = model(torch.from_numpy(np.asarray(x_test)).float())\n",
    "    output_train = model(torch.from_numpy(np.asarray(x_train)).float())\n",
    "    _, predicted_test = torch.max(output_test, 1)\n",
    "    _, predicted_train = torch.max(output_train, 1)\n",
    "    predicted_test = predicted_test.numpy()\n",
    "    predicted_train = predicted_train.numpy()\n",
    "    labels_test = np.argmax(y_test, axis=1)\n",
    "    labels_train = np.argmax(y_train, axis=1)\n",
    "    is_equal_test = (predicted_test == labels_test)\n",
    "    is_equal_train = (predicted_train == labels_train)\n",
    "    accuracy_test = 100*np.sum(is_equal_test)/len(is_equal_test)\n",
    "    accuracy_train = 100*np.sum(is_equal_train)/len(is_equal_train)\n",
    "    test_accuracy_data.append(accuracy_test)\n",
    "    train_accuracy_data.append(accuracy_train)\n",
    "    print(\"Epochs num = \", epochs_num, \" finished, \", \"progress = \", 100*epochs_num*(epochs_num+5)/(40*41*25), \"%\", sep='')"
   ]
  },
  {
   "cell_type": "code",
   "execution_count": 12,
   "metadata": {
    "scrolled": false
   },
   "outputs": [
    {
     "data": {
      "image/png": "[encoded data removed]",
      "text/plain": [
       "<Figure size 432x288 with 1 Axes>"
      ]
     },
     "metadata": {
      "needs_background": "light"
     },
     "output_type": "display_data"
    }
   ],
   "source": [
    "plt.title(\"Accuracy dependence on epochs num\")\n",
    "plt.plot(epochs, train_accuracy_data, color='blue')\n",
    "plt.plot(epochs, test_accuracy_data, color='orange')\n",
    "plt.legend(('Train', 'Test'),\n",
    "           loc='lower right')\n",
    "plt.show()\n"
   ]
  },
  {
   "cell_type": "markdown",
   "metadata": {},
   "source": [
    "Let's briefly touch on themes of regularization. As was discussed before, there are different approaches. We focus on the modification of loss function.\n",
    "\n",
    "$$\\arg\\min_W -\\frac{1}{\\mathcal{l}}\\sum_y\\sum_i [y = i] \\cdot \\ln(p_i(W)) + \\lambda_1 L_1(W) + \\lambda_2 L_2(W)$$\n",
    "\n",
    "1. $L_1(W) = sum_{i,j} |w_{i,j}|$ - sparsify weights (force to not use uncorrelated features)\n",
    "2. $L_2(W) = sum_{i,j} w_{i,j}^2$ - minimize weights (force to not overfit)\n",
    "\n",
    "#### Exercises\n",
    "1. Train model again using both type of regularization.\n",
    "2. Plot matrix of weights.\n",
    "3. Which pixels have zero weights? What does it mean?\n",
    "4. Have you improved accuracy on validation?"
   ]
  },
  {
   "cell_type": "code",
   "execution_count": 13,
   "metadata": {},
   "outputs": [],
   "source": [
    "class regOneLayerNet(nn.Module):\n",
    "    def __init__(self):\n",
    "        super(regOneLayerNet, self).__init__()\n",
    "        self.fc1 = nn.Linear(784, 10) # params - 2D-Tensor 28*28x100\n",
    "        \n",
    "    def forward(self, x):\n",
    "        # x.shape = [50, 1, 28, 28] => [50, 784] => [50, 100] => [50, 10]\n",
    "        #x = x.view(-1, 28*28)\n",
    "        x = self.fc1(x)\n",
    "        x = F.softmax(x, dim=1)\n",
    "        return x"
   ]
  },
  {
   "cell_type": "code",
   "execution_count": 14,
   "metadata": {},
   "outputs": [],
   "source": [
    "def trainReg(model, x_train, y_train, epochs_num, lambda1, lambda2, is_print=True, step=10):\n",
    "    data = np.asarray(x_train)\n",
    "    data = torch.from_numpy(x_train)\n",
    "    data = data.float()\n",
    "    \n",
    "    target = np.asarray(y_train)\n",
    "    target = torch.from_numpy(target)\n",
    "    target = target.long()\n",
    "    for epoch in range(epochs_num):\n",
    "        optimizer.zero_grad()\n",
    "        output = model(data)\n",
    "        criterion = nn.CrossEntropyLoss()\n",
    "        loss = criterion(output, torch.max(target, 1)[1])\n",
    "        \n",
    "        lossL1 = torch.sum(torch.abs(model.fc1.weight))\n",
    "        lossL2 = torch.sum(model.fc1.weight**2)\n",
    "        loss += lambda1 * lossL1 + lambda2 * lossL2\n",
    "        \n",
    "        loss.backward()\n",
    "        optimizer.step()\n",
    "        \n",
    "        if is_print and epoch % step == 0:\n",
    "            print(\"Epoch\", epoch, \":\")\n",
    "            _, predicted = torch.max(output, 1)\n",
    "            predicted = predicted.numpy()\n",
    "            labels = np.argmax(y_train, axis=1)\n",
    "            is_equal = (predicted == labels)\n",
    "            print(\"Train Accuracy = \", 100*np.sum(is_equal)/len(is_equal), \"%\", sep='')"
   ]
  },
  {
   "cell_type": "code",
   "execution_count": 15,
   "metadata": {
    "scrolled": false
   },
   "outputs": [
    {
     "name": "stdout",
     "output_type": "stream",
     "text": [
      "Epoch 0 :\n",
      "Train Accuracy = 8.872727272727273%\n",
      "Epoch 10 :\n",
      "Train Accuracy = 76.9509090909091%\n",
      "Epoch 20 :\n",
      "Train Accuracy = 85.45272727272727%\n",
      "Epoch 30 :\n",
      "Train Accuracy = 87.66727272727273%\n",
      "Epoch 40 :\n",
      "Train Accuracy = 88.63454545454546%\n",
      "Epoch 50 :\n",
      "Train Accuracy = 89.40727272727273%\n",
      "Epoch 60 :\n",
      "Train Accuracy = 89.8709090909091%\n",
      "Epoch 70 :\n",
      "Train Accuracy = 90.17272727272727%\n",
      "Epoch 80 :\n",
      "Train Accuracy = 90.38%\n",
      "Epoch 90 :\n",
      "Train Accuracy = 90.52181818181818%\n",
      "Epoch 100 :\n",
      "Train Accuracy = 90.61272727272727%\n",
      "Epoch 110 :\n",
      "Train Accuracy = 90.74181818181818%\n",
      "Epoch 120 :\n",
      "Train Accuracy = 90.82%\n",
      "Epoch 130 :\n",
      "Train Accuracy = 90.86727272727273%\n",
      "Epoch 140 :\n",
      "Train Accuracy = 90.91818181818182%\n",
      "Epoch 150 :\n",
      "Train Accuracy = 90.95818181818181%\n",
      "Epoch 160 :\n",
      "Train Accuracy = 90.97272727272727%\n",
      "Epoch 170 :\n",
      "Train Accuracy = 91.0109090909091%\n",
      "Epoch 180 :\n",
      "Train Accuracy = 91.0690909090909%\n",
      "Epoch 190 :\n",
      "Train Accuracy = 91.10909090909091%\n"
     ]
    }
   ],
   "source": [
    "if use_pretrained_models:\n",
    "    model_reg_one_layer = regOneLayerNet()\n",
    "    model_reg_one_layer.load_state_dict(torch.load(path + \"model_reg_one_layer\"))\n",
    "    model_reg_one_layer.eval()\n",
    "else:\n",
    "    model_reg_one_layer = regOneLayerNet()\n",
    "    optimizer = optim.Adam(model_reg_one_layer.parameters(), lr=0.01)\n",
    "    trainReg(model_reg_one_layer, x_train, y_train, 200, 0.00009, 0.00009)\n",
    "    torch.save(model_reg_one_layer.state_dict(), path +\"model_reg_one_layer\")"
   ]
  },
  {
   "cell_type": "code",
   "execution_count": 16,
   "metadata": {
    "scrolled": true
   },
   "outputs": [
    {
     "name": "stdout",
     "output_type": "stream",
     "text": [
      "Train accuracy = 91.12181818181818 %\n",
      "Test accuracy = 91.7 %\n"
     ]
    }
   ],
   "source": [
    "train_accuracy_reg = getAccuracy(model_reg_one_layer, x_train, y_train)\n",
    "test_accuracy_reg = getAccuracy(model_reg_one_layer, x_test, y_test)\n",
    "print(\"Train accuracy =\", train_accuracy_reg, \"%\")\n",
    "print(\"Test accuracy =\", test_accuracy_reg, \"%\")"
   ]
  },
  {
   "cell_type": "markdown",
   "metadata": {},
   "source": [
    "### Now let's take a look at matrix of weights:"
   ]
  },
  {
   "cell_type": "code",
   "execution_count": 17,
   "metadata": {},
   "outputs": [],
   "source": [
    "W1 = model_reg_one_layer.fc1.weight\n",
    "W1 = W1.detach().numpy()"
   ]
  },
  {
   "cell_type": "code",
   "execution_count": 18,
   "metadata": {
    "scrolled": true
   },
   "outputs": [
    {
     "data": {
      "image/png": "[encoded data removed]",
      "text/plain": [
       "<Figure size 432x288 with 1 Axes>"
      ]
     },
     "metadata": {
      "needs_background": "light"
     },
     "output_type": "display_data"
    }
   ],
   "source": [
    "plt.title(\"First layer\")\n",
    "plt.imshow(W1, cmap='hot')\n",
    "plt.show()"
   ]
  },
  {
   "cell_type": "markdown",
   "metadata": {},
   "source": [
    "#### As we can see zero weights on the first layer have those pixels that don't have valuable information about digit (those pixels, that are the same at all images, such as pixels close to edges)"
   ]
  },
  {
   "cell_type": "code",
   "execution_count": 19,
   "metadata": {
    "scrolled": true
   },
   "outputs": [
    {
     "name": "stdout",
     "output_type": "stream",
     "text": [
      "Test accuracy without regularization = 92.53 %\n",
      "Test accuracy with regularization = 91.7 %\n"
     ]
    }
   ],
   "source": [
    "print(\"Test accuracy without regularization =\", test_accuracy, \"%\")\n",
    "print(\"Test accuracy with regularization =\", test_accuracy_reg, \"%\")"
   ]
  },
  {
   "cell_type": "markdown",
   "metadata": {},
   "source": [
    "#### As we can see regularization only deteriorated the results, but not much"
   ]
  },
  {
   "cell_type": "markdown",
   "metadata": {},
   "source": [
    "### 2. Universal approximation theorem\n",
    "\n",
    "What if we add more layers to our model? Namely, we train two matrix $W_2$ and $W_1$\n",
    "$$softmax(W_2\\cdot(W_1x)).$$\n",
    "\n",
    "At first glance adding more parameters helps to increase the generalizing ability of the model. Buy actually we have the same model $softmax(Wx)$, where $W = W_2\\cdot W_1$. But everyting changes with adding ome more layer. Let's add nonlinear function $\\sigma$ between $W_2$ and $W_1$\n",
    "\n",
    "$$softmax(W_2\\cdot \\sigma(W_1x)).$$\n",
    "\n",
    "Kurt Hornik showed in 1991 that it is not the specific choice of the nonlinear function, but rather the multilayer feedforward architecture itself which gives neural networks the potential of being universal approximators. The output units are always assumed to be linear. For notational convenience, only the single output case will be shown. The general case can easily be deduced from the single output case.\n",
    "\n",
    "Let $\\sigma(\\cdot)$ be a nonconstant, bounded, and monotonically-increasing continuous function.\n",
    "Let $\\mathcal{S}_m \\subset \\mathbb{R}^m$ denote any compact set. \n",
    "Then, given any $\\varepsilon > 0$ and any coninuous function $f$ on $\\mathcal{S}_m$, there exist an integer $N$ and real constants $v_i$, $b_i$ amd real vectors $w_i$ that\n",
    "\n",
    "$$\\left| \\sum _{i=1}^{N}v_{i}\\sigma \\left( w_i^{T} x+b_i \\right) - f(x) \\right| < \\varepsilon, ~~~ \\forall x \\in \\mathcal{S}_m.$$\n",
    "\n",
    "The theorem has non-constructive proof, it meams that no estimates for $N$ and no method to find approximation's parameters.\n",
    "\n",
    "#### Exercises\n",
    "1. Let $\\sigma$ – [heaviside step function](https://en.wikipedia.org/wiki/Heaviside_step_function) and $x \\in \\{0, 1\\}^2$. Prove that $y = \\sigma(wx + b)$ can approximate boolean function **OR** (hint: use constructive proof).\n",
    "2. What about **AND** function?\n",
    "3. Is it possible to implement **XOR**? Prove your words.\n",
    "4. Prove that 2-layer network can implement any boolean function.\n",
    "\n",
    "#### More useful facts:\n",
    "1. A 2-layer network in in $\\mathbb{R}^n$ allows to define convex polyhedron..\n",
    "2. A 3-layer network in в $\\mathbb{R}^n$ allows to define a not necessarily convex and not even necessarily connected area."
   ]
  },
  {
   "cell_type": "markdown",
   "metadata": {},
   "source": [
    "#### Let's try to approximate OR:\n",
    "Let $$ y = \\sigma (x_{1} + x_{2} - 0.5)$$\n",
    "Then if at least one of $x_{1}, x_{2}$ equals to 1, then $$\\sigma(x_{1} + x_{2} - 0.5) \\geq \\sigma(0.5) = 1$$\n",
    "If both $x_{1}, x_{2}$ equal to 0, then $$\\sigma(x_{1} + x_{2} - 0.5) = \\sigma(-0.5) = 0$$"
   ]
  },
  {
   "cell_type": "markdown",
   "metadata": {},
   "source": [
    "#### Now it's time for AND:\n",
    "Let $$y = \\sigma(x_{1} + x_{2} - 1.5)$$\n",
    "Then if both $x_{1}, x_{2}$ equal to 1 $$ \\sigma(x_{1} + x_{2} - 1.5) = \\sigma(0.5) = 1$$\n",
    "Otherwise, $$\\sigma(x_{1} + x_{2} - 1.5) \\leq \\sigma(-0.5) = 0$$"
   ]
  },
  {
   "cell_type": "markdown",
   "metadata": {},
   "source": [
    "#### Let's prove that $y = \\sigma(wx + b)$ can separate only data that is linearly separable on plane:\n",
    "We can notice that $y = \\sigma(wx + b)$ = 1 only if $wx + b \\geq 0$\n",
    "\n",
    "So $wx + b$ is our separating hyperlane.\n",
    "\n",
    "It's left to notice that XOR is not linearly syperable on plane"
   ]
  },
  {
   "cell_type": "markdown",
   "metadata": {},
   "source": [
    "#### A few words about any boolean function:\n",
    "We can just use Conjunctive normal form here, as we have shown how to implement OR and AND"
   ]
  },
  {
   "cell_type": "markdown",
   "metadata": {},
   "source": [
    "### 3. Backpropagation\n",
    "Backpropagation is a method used to calculate the error contribution of each layer after a batch of data. It is a special case of an older and more general technique called automatic differentiation. In the context of learning, backpropagation is commonly used by the gradient descent optimization algorithm to adjust the weight of layers by calculating the gradient of the loss function. This technique is also sometimes called backward propagation of errors, because the error is calculated at the output and distributed back through the network layers. The main motivation of method is simplify evaluation of gradient which is complex problem for multilayer nets.\n",
    "\n",
    "We need the following notation. Let $(y^1,\\dots,y^n) = f(x^1,\\dots,x^n)$ is some differentiable function and $\\frac{dy}{dx}$ is matrix\n",
    "$$\\frac{dy}{dx} = \\Big[ J_{ij} = \\frac{\\partial y^i}{\\partial x^j} \\Big]$$\n",
    "\n",
    "Without violating the generality, we can assume that each layer is a function $x_{i} = f(x_{i-1}, w_i)$. As last layer we add loss function, so we can assume our multi-layer net as function $Q(x_0) = Q(f_n(f_{n-1}(\\dots, w_{n-1}), w_n))$.\n",
    "\n",
    "#### Forward step\n",
    "Propagation forward through the network to generate the output values. Calculation of the loss function.\n",
    "\n",
    "#### Backward step\n",
    "Let's look at last layer. We can simply find $\\frac{dQ}{dx_n}$. Now we can evaluate \n",
    "\n",
    "$$\\frac{dQ}{dw_n} = \\frac{dQ}{dx_n}\\frac{dx_n}{dw_n} \\text{ and } \\frac{dQ}{dx_{n-1}} = \\frac{dQ}{dx_n}\\frac{dx_n}{dx_{n-1}}$$\n",
    "\n",
    "Now we need calculate $\\frac{dQ}{dw_{n-2}}$ и $\\frac{dQ}{dx_{n-2}}$. But we have the same situation. We know $\\frac{dQ}{dx_k}$, so can evaluate $\\frac{dQ}{dw_k}$ and $\\frac{dQ}{dx_{k-1}}$. Repeating this operation we find all the gradients. Now it's only remains to make a gradient step to update weights.\n",
    "\n",
    "#### Exercises\n",
    "1. Read more about [vanishing gradient](https://en.wikipedia.org/wiki/Vanishing_gradient_problem).\n",
    "2. Train 2 layer net. Use sigmoid as nonlinearity.\n",
    "3. Check accuracy on validation set.\n",
    "4. Use [ReLu](https://en.wikipedia.org/wiki/Rectifier_(neural_networks) or LeakyReLu as nonlinearity. Compare accuracy and convergence with previous model.\n",
    "5. Play with different architectures (add more layers, regularization and etc).\n",
    "6. Show your best model.\n",
    "7. How does quality change with adding layers. Prove your words, train model for 2, 3, 5, 7 and 10 layers.\n",
    "8. Using backpropagation find optimal  digit 8 for your net.*"
   ]
  },
  {
   "cell_type": "code",
   "execution_count": 20,
   "metadata": {},
   "outputs": [],
   "source": [
    "class twoLayerNet(nn.Module):\n",
    "    def __init__(self):\n",
    "        super(twoLayerNet, self).__init__()\n",
    "        self.fc1 = nn.Linear(784, 100) # params - 2D-Tensor 28*28x100\n",
    "        self.fc2 = nn.Linear(100, 10) # params - 2D-Tensor 28*28x100\n",
    "        \n",
    "    def forward(self, x):\n",
    "        # x.shape = [50, 1, 28, 28] => [50, 784] => [50, 100] => [50, 10]\n",
    "        #x = x.view(-1, 28*28)\n",
    "        x = F.sigmoid(self.fc1(x))\n",
    "        x = self.fc2(x)\n",
    "        x = F.softmax(x, dim=1)\n",
    "        return x"
   ]
  },
  {
   "cell_type": "code",
   "execution_count": 21,
   "metadata": {},
   "outputs": [
    {
     "name": "stderr",
     "output_type": "stream",
     "text": [
      "/home/pavel/anaconda3/envs/py36/lib/python3.6/site-packages/torch/nn/functional.py:1006: UserWarning: nn.functional.sigmoid is deprecated. Use torch.sigmoid instead.\n",
      "  warnings.warn(\"nn.functional.sigmoid is deprecated. Use torch.sigmoid instead.\")\n"
     ]
    },
    {
     "name": "stdout",
     "output_type": "stream",
     "text": [
      "Epoch 0\n",
      "Train Accuracy = 9.84909090909091%\n",
      "Epoch 10\n",
      "Train Accuracy = 59.834545454545456%\n",
      "Epoch 20\n",
      "Train Accuracy = 72.57454545454546%\n",
      "Epoch 30\n",
      "Train Accuracy = 75.13636363636364%\n",
      "Epoch 40\n",
      "Train Accuracy = 76.08363636363636%\n",
      "Epoch 50\n",
      "Train Accuracy = 76.54545454545455%\n",
      "Epoch 60\n",
      "Train Accuracy = 77.10727272727273%\n",
      "Epoch 70\n",
      "Train Accuracy = 77.44727272727273%\n",
      "Epoch 80\n",
      "Train Accuracy = 83.90363636363637%\n",
      "Epoch 90\n",
      "Train Accuracy = 84.9%\n",
      "Epoch 100\n",
      "Train Accuracy = 85.35636363636364%\n",
      "Epoch 110\n",
      "Train Accuracy = 85.84727272727272%\n",
      "Epoch 120\n",
      "Train Accuracy = 86.23636363636363%\n",
      "Epoch 130\n",
      "Train Accuracy = 86.4890909090909%\n",
      "Epoch 140\n",
      "Train Accuracy = 86.72%\n",
      "Epoch 150\n",
      "Train Accuracy = 86.91818181818182%\n",
      "Epoch 160\n",
      "Train Accuracy = 87.13818181818182%\n",
      "Epoch 170\n",
      "Train Accuracy = 89.05272727272727%\n",
      "Epoch 180\n",
      "Train Accuracy = 94.6%\n",
      "Epoch 190\n",
      "Train Accuracy = 95.3709090909091%\n"
     ]
    }
   ],
   "source": [
    "if use_pretrained_models:\n",
    "    model_two_layers = twoLayerNet()\n",
    "    model_two_layers.load_state_dict(torch.load(path  + \"model_two_layers\"))\n",
    "    model_two_layers.eval()\n",
    "else:\n",
    "    model_two_layers = twoLayerNet()\n",
    "    optimizer = optim.Adam(model_two_layers.parameters(), lr=0.01)\n",
    "    train(model_two_layers, x_train, y_train, 200, step=10)\n",
    "    torch.save(model_two_layers.state_dict(), path + \"model_two_layers\")"
   ]
  },
  {
   "cell_type": "code",
   "execution_count": 22,
   "metadata": {},
   "outputs": [
    {
     "name": "stdout",
     "output_type": "stream",
     "text": [
      "Train accuracy = 95.83272727272727 %\n",
      "Test accuracy = 94.78 %\n"
     ]
    }
   ],
   "source": [
    "print(\"Train accuracy =\", getAccuracy(model_two_layers, x_train, y_train), \"%\")\n",
    "print(\"Test accuracy =\", getAccuracy(model_two_layers, x_test, y_test), \"%\")"
   ]
  },
  {
   "cell_type": "markdown",
   "metadata": {},
   "source": [
    "#### Let's replace sigmoid with leaky relu:"
   ]
  },
  {
   "cell_type": "code",
   "execution_count": 23,
   "metadata": {},
   "outputs": [],
   "source": [
    "class twoLayerNetLeakyRelu(nn.Module):\n",
    "    def __init__(self):\n",
    "        super(twoLayerNetLeakyRelu, self).__init__()\n",
    "        self.fc1 = nn.Linear(784, 100) # params - 2D-Tensor 28*28x100\n",
    "        self.fc2 = nn.Linear(100, 10) # params - 2D-Tensor 28*28x100\n",
    "        \n",
    "    def forward(self, x):\n",
    "        # x.shape = [50, 1, 28, 28] => [50, 784] => [50, 100] => [50, 10]\n",
    "        #x = x.view(-1, 28*28)\n",
    "        x = F.leaky_relu(self.fc1(x))\n",
    "        x = self.fc2(x)\n",
    "        x = F.softmax(x, dim=1)\n",
    "        return x"
   ]
  },
  {
   "cell_type": "code",
   "execution_count": 24,
   "metadata": {
    "scrolled": true
   },
   "outputs": [
    {
     "name": "stdout",
     "output_type": "stream",
     "text": [
      "Epoch 0\n",
      "Train Accuracy = 11.905454545454546%\n",
      "Epoch 10\n",
      "Train Accuracy = 83.80181818181818%\n",
      "Epoch 20\n",
      "Train Accuracy = 89.27636363636364%\n",
      "Epoch 30\n",
      "Train Accuracy = 91.07454545454546%\n",
      "Epoch 40\n",
      "Train Accuracy = 92.34545454545454%\n",
      "Epoch 50\n",
      "Train Accuracy = 93.25090909090909%\n",
      "Epoch 60\n",
      "Train Accuracy = 94.04727272727273%\n",
      "Epoch 70\n",
      "Train Accuracy = 94.7%\n",
      "Epoch 80\n",
      "Train Accuracy = 95.23454545454545%\n",
      "Epoch 90\n",
      "Train Accuracy = 95.68%\n",
      "Epoch 100\n",
      "Train Accuracy = 96.04727272727273%\n",
      "Epoch 110\n",
      "Train Accuracy = 96.32%\n",
      "Epoch 120\n",
      "Train Accuracy = 96.53272727272727%\n",
      "Epoch 130\n",
      "Train Accuracy = 96.74909090909091%\n",
      "Epoch 140\n",
      "Train Accuracy = 96.9290909090909%\n",
      "Epoch 150\n",
      "Train Accuracy = 97.11818181818182%\n",
      "Epoch 160\n",
      "Train Accuracy = 97.2690909090909%\n",
      "Epoch 170\n",
      "Train Accuracy = 97.36363636363636%\n",
      "Epoch 180\n",
      "Train Accuracy = 97.48363636363636%\n",
      "Epoch 190\n",
      "Train Accuracy = 97.58181818181818%\n"
     ]
    }
   ],
   "source": [
    "if use_pretrained_models:\n",
    "    model_two_layers_leaky_relu = twoLayerNetLeakyRelu()\n",
    "    model_two_layers_leaky_relu.load_state_dict(torch.load(path + \"model_two_layers_leaky_relu\"))\n",
    "    model_two_layers_leaky_relu.eval()\n",
    "else:\n",
    "    model_two_layers_leaky_relu = twoLayerNetLeakyRelu()\n",
    "    optimizer = optim.Adam(model_two_layers_leaky_relu.parameters(), lr=0.01)\n",
    "    train(model_two_layers_leaky_relu, x_train, y_train, 200, step=10)\n",
    "    torch.save(model_two_layers_leaky_relu.state_dict(), path + \"model_two_layers_leaky_relu\")"
   ]
  },
  {
   "cell_type": "code",
   "execution_count": 25,
   "metadata": {},
   "outputs": [
    {
     "name": "stdout",
     "output_type": "stream",
     "text": [
      "Train accuracy = 97.66545454545455 %\n",
      "Test accuracy = 95.92 %\n"
     ]
    }
   ],
   "source": [
    "print(\"Train accuracy =\", getAccuracy(model_two_layers_leaky_relu, x_train, y_train), \"%\")\n",
    "print(\"Test accuracy =\", getAccuracy(model_two_layers_leaky_relu, x_test, y_test), \"%\")"
   ]
  },
  {
   "cell_type": "markdown",
   "metadata": {},
   "source": [
    "#### Let's try this model with regularization:"
   ]
  },
  {
   "cell_type": "code",
   "execution_count": 26,
   "metadata": {},
   "outputs": [
    {
     "name": "stdout",
     "output_type": "stream",
     "text": [
      "Epoch 0 :\n",
      "Train Accuracy = 11.483636363636364%\n",
      "Epoch 10 :\n",
      "Train Accuracy = 82.55090909090909%\n",
      "Epoch 20 :\n",
      "Train Accuracy = 88.97818181818182%\n",
      "Epoch 30 :\n",
      "Train Accuracy = 90.24727272727273%\n",
      "Epoch 40 :\n",
      "Train Accuracy = 91.12727272727273%\n",
      "Epoch 50 :\n",
      "Train Accuracy = 91.75818181818182%\n",
      "Epoch 60 :\n",
      "Train Accuracy = 92.04%\n",
      "Epoch 70 :\n",
      "Train Accuracy = 92.6%\n",
      "Epoch 80 :\n",
      "Train Accuracy = 93.21454545454546%\n",
      "Epoch 90 :\n",
      "Train Accuracy = 93.69818181818182%\n",
      "Epoch 100 :\n",
      "Train Accuracy = 94.11636363636363%\n",
      "Epoch 110 :\n",
      "Train Accuracy = 93.61090909090909%\n",
      "Epoch 120 :\n",
      "Train Accuracy = 94.45454545454545%\n",
      "Epoch 130 :\n",
      "Train Accuracy = 94.77454545454546%\n",
      "Epoch 140 :\n",
      "Train Accuracy = 95.08727272727273%\n",
      "Epoch 150 :\n",
      "Train Accuracy = 94.85818181818182%\n",
      "Epoch 160 :\n",
      "Train Accuracy = 94.88727272727273%\n",
      "Epoch 170 :\n",
      "Train Accuracy = 95.47272727272727%\n",
      "Epoch 180 :\n",
      "Train Accuracy = 95.64181818181818%\n",
      "Epoch 190 :\n",
      "Train Accuracy = 95.78363636363636%\n"
     ]
    }
   ],
   "source": [
    "if use_pretrained_models:\n",
    "    model_two_layers_leaky_relu_reg = twoLayerNetLeakyRelu()\n",
    "    model_two_layers_leaky_relu_reg.load_state_dict(torch.load(path + \"model_two_layers_leaky_relu_reg\"))\n",
    "    model_two_layers_leaky_relu_reg.eval()\n",
    "else:\n",
    "    model_two_layers_leaky_relu_reg = twoLayerNetLeakyRelu()\n",
    "    optimizer = optim.Adam(model_two_layers_leaky_relu_reg.parameters(), lr=0.01)\n",
    "    trainReg(model_two_layers_leaky_relu_reg, x_train, y_train, 200, 0.00009, 0.00009)\n",
    "    torch.save(model_two_layers_leaky_relu_reg.state_dict(), path + \"model_two_layers_leaky_relu_reg\")"
   ]
  },
  {
   "cell_type": "code",
   "execution_count": 27,
   "metadata": {},
   "outputs": [
    {
     "name": "stdout",
     "output_type": "stream",
     "text": [
      "Train accuracy = 95.69454545454545 %\n",
      "Test accuracy = 95.36 %\n"
     ]
    }
   ],
   "source": [
    "print(\"Train accuracy =\", getAccuracy(model_two_layers_leaky_relu_reg, x_train, y_train), \"%\")\n",
    "print(\"Test accuracy =\", getAccuracy(model_two_layers_leaky_relu_reg, x_test, y_test), \"%\")"
   ]
  },
  {
   "cell_type": "markdown",
   "metadata": {},
   "source": [
    "#### As we can see the model with leaky relu has higher accuracy than the model with sigmoid, and it converges faster"
   ]
  },
  {
   "cell_type": "markdown",
   "metadata": {},
   "source": [
    "#### After some experiments I can sum up that the model withl leaky relu gives us the best accuracy for two layers models"
   ]
  },
  {
   "cell_type": "markdown",
   "metadata": {},
   "source": [
    "### Now let's figure out whether models with more layers can help me to improve the accuracy"
   ]
  },
  {
   "cell_type": "markdown",
   "metadata": {},
   "source": [
    "#### Three layers model"
   ]
  },
  {
   "cell_type": "code",
   "execution_count": 28,
   "metadata": {},
   "outputs": [],
   "source": [
    "class threeLayerNetLeakyRelu(nn.Module):\n",
    "    def __init__(self):\n",
    "        super(threeLayerNetLeakyRelu, self).__init__()\n",
    "        self.fc1 = nn.Linear(784, 200) # params - 2D-Tensor 28*28x100\n",
    "        self.fc2 = nn.Linear(200, 50) # params - 2D-Tensor 28*28x100\n",
    "        self.fc3 = nn.Linear(50, 10)\n",
    "        \n",
    "        \n",
    "    def forward(self, x):\n",
    "        # x.shape = [50, 1, 28, 28] => [50, 784] => [50, 100] => [50, 10]\n",
    "        #x = x.view(-1, 28*28)\n",
    "        x = F.leaky_relu(self.fc1(x))\n",
    "        x = F.leaky_relu(self.fc2(x))\n",
    "        x = self.fc3(x)\n",
    "        x = F.softmax(x, dim=1)\n",
    "        \n",
    "        return x"
   ]
  },
  {
   "cell_type": "markdown",
   "metadata": {},
   "source": [
    "#### Here I decided to decrease a learning rate, because this model stucks in local minimum with learning rate = 0.01"
   ]
  },
  {
   "cell_type": "code",
   "execution_count": 29,
   "metadata": {
    "scrolled": true
   },
   "outputs": [
    {
     "name": "stdout",
     "output_type": "stream",
     "text": [
      "Epoch 0\n",
      "Train Accuracy = 12.501818181818182%\n",
      "Epoch 10\n",
      "Train Accuracy = 68.91272727272727%\n",
      "Epoch 20\n",
      "Train Accuracy = 79.77090909090909%\n",
      "Epoch 30\n",
      "Train Accuracy = 82.72909090909091%\n",
      "Epoch 40\n",
      "Train Accuracy = 84.09636363636363%\n",
      "Epoch 50\n",
      "Train Accuracy = 89.29454545454546%\n",
      "Epoch 60\n",
      "Train Accuracy = 91.2090909090909%\n",
      "Epoch 70\n",
      "Train Accuracy = 92.17818181818181%\n",
      "Epoch 80\n",
      "Train Accuracy = 92.90181818181819%\n",
      "Epoch 90\n",
      "Train Accuracy = 93.44727272727273%\n",
      "Epoch 100\n",
      "Train Accuracy = 93.9090909090909%\n",
      "Epoch 110\n",
      "Train Accuracy = 94.34727272727272%\n",
      "Epoch 120\n",
      "Train Accuracy = 94.75454545454545%\n",
      "Epoch 130\n",
      "Train Accuracy = 95.19454545454545%\n",
      "Epoch 140\n",
      "Train Accuracy = 95.5109090909091%\n",
      "Epoch 150\n",
      "Train Accuracy = 95.75818181818182%\n",
      "Epoch 160\n",
      "Train Accuracy = 96.02363636363637%\n",
      "Epoch 170\n",
      "Train Accuracy = 96.24363636363637%\n",
      "Epoch 180\n",
      "Train Accuracy = 96.45272727272727%\n",
      "Epoch 190\n",
      "Train Accuracy = 96.63636363636364%\n"
     ]
    }
   ],
   "source": [
    "if use_pretrained_models:\n",
    "    model_three_layers_leaky_relu = threeLayerNetLeakyRelu()\n",
    "    model_three_layers_leaky_relu.load_state_dict(torch.load(path + \"model_three_layers_leaky_relu\"))\n",
    "    model_three_layers_leaky_relu.eval()\n",
    "else:\n",
    "    model_three_layers_leaky_relu = threeLayerNetLeakyRelu()\n",
    "    optimizer = optim.Adam(model_three_layers_leaky_relu.parameters(), lr=0.003)\n",
    "    train(model_three_layers_leaky_relu, x_train, y_train, 200)\n",
    "    torch.save(model_three_layers_leaky_relu.state_dict(), path + \"model_three_layers_leaky_relu\")"
   ]
  },
  {
   "cell_type": "code",
   "execution_count": 30,
   "metadata": {
    "scrolled": true
   },
   "outputs": [
    {
     "name": "stdout",
     "output_type": "stream",
     "text": [
      "Train accuracy = 96.83636363636364 %\n",
      "Test accuracy = 95.61 %\n"
     ]
    }
   ],
   "source": [
    "print(\"Train accuracy =\", getAccuracy(model_three_layers_leaky_relu, x_train, y_train), \"%\")\n",
    "print(\"Test accuracy =\", getAccuracy(model_three_layers_leaky_relu, x_test, y_test), \"%\")"
   ]
  },
  {
   "cell_type": "markdown",
   "metadata": {},
   "source": [
    "#### Five layers model"
   ]
  },
  {
   "cell_type": "code",
   "execution_count": 31,
   "metadata": {},
   "outputs": [],
   "source": [
    "class fiveLayerNetLeakyRelu(nn.Module):\n",
    "    def __init__(self):\n",
    "        super(fiveLayerNetLeakyRelu, self).__init__()\n",
    "        self.fc1 = nn.Linear(784, 300) # params - 2D-Tensor 28*28x100\n",
    "        self.fc2 = nn.Linear(300, 200) # params - 2D-Tensor 28*28x100\n",
    "        self.fc3 = nn.Linear(200, 100)\n",
    "        self.fc4 = nn.Linear(100, 50)\n",
    "        self.fc5 = nn.Linear(50, 10)\n",
    "        \n",
    "        \n",
    "        \n",
    "    def forward(self, x):\n",
    "        # x.shape = [50, 1, 28, 28] => [50, 784] => [50, 100] => [50, 10]\n",
    "        #x = x.view(-1, 28*28)\n",
    "        x = F.leaky_relu(self.fc1(x))\n",
    "        x = F.leaky_relu(self.fc2(x))\n",
    "        x = F.leaky_relu(self.fc3(x))\n",
    "        x = F.leaky_relu(self.fc4(x))\n",
    "        x = self.fc5(x)\n",
    "        x = F.softmax(x, dim=1)\n",
    "        return x"
   ]
  },
  {
   "cell_type": "code",
   "execution_count": 37,
   "metadata": {
    "scrolled": true
   },
   "outputs": [
    {
     "name": "stdout",
     "output_type": "stream",
     "text": [
      "Epoch 0\n",
      "Train Accuracy = 9.84909090909091%\n",
      "Epoch 10\n",
      "Train Accuracy = 48.03272727272727%\n",
      "Epoch 20\n",
      "Train Accuracy = 69.2090909090909%\n",
      "Epoch 30\n",
      "Train Accuracy = 73.55090909090909%\n",
      "Epoch 40\n",
      "Train Accuracy = 81.44909090909091%\n",
      "Epoch 50\n",
      "Train Accuracy = 84.96727272727273%\n",
      "Epoch 60\n",
      "Train Accuracy = 94.92727272727272%\n",
      "Epoch 70\n",
      "Train Accuracy = 96.39454545454545%\n",
      "Epoch 80\n",
      "Train Accuracy = 97.20727272727272%\n",
      "Epoch 90\n",
      "Train Accuracy = 97.55454545454545%\n",
      "Epoch 100\n",
      "Train Accuracy = 97.79454545454546%\n",
      "Epoch 110\n",
      "Train Accuracy = 97.94181818181818%\n",
      "Epoch 120\n",
      "Train Accuracy = 98.08545454545454%\n",
      "Epoch 130\n",
      "Train Accuracy = 98.17818181818181%\n",
      "Epoch 140\n",
      "Train Accuracy = 98.25454545454545%\n",
      "Epoch 150\n",
      "Train Accuracy = 98.30545454545455%\n",
      "Epoch 160\n",
      "Train Accuracy = 98.33636363636364%\n",
      "Epoch 170\n",
      "Train Accuracy = 98.36909090909091%\n",
      "Epoch 180\n",
      "Train Accuracy = 98.4%\n",
      "Epoch 190\n",
      "Train Accuracy = 98.43454545454546%\n"
     ]
    }
   ],
   "source": [
    "if use_pretrained_models:\n",
    "    model_five_layers_leaky_relu = fiveLayerNetLeakyRelu()\n",
    "    model_five_layers_leaky_relu.load_state_dict(torch.load(path + \"model_five_layers_leaky_relu\"))\n",
    "    model_five_layers_leaky_relu.eval()\n",
    "else:\n",
    "    model_five_layers_leaky_relu = fiveLayerNetLeakyRelu()\n",
    "    optimizer = optim.Adam(model_five_layers_leaky_relu.parameters(), lr=0.01)\n",
    "    train(model_five_layers_leaky_relu, x_train, y_train, 200)\n",
    "    torch.save(model_five_layers_leaky_relu.state_dict(), path + \"model_five_layers_leaky_relu\")"
   ]
  },
  {
   "cell_type": "code",
   "execution_count": 38,
   "metadata": {
    "scrolled": true
   },
   "outputs": [
    {
     "name": "stdout",
     "output_type": "stream",
     "text": [
      "Train accuracy = 98.46363636363637 %\n",
      "Test accuracy = 96.84 %\n"
     ]
    }
   ],
   "source": [
    "print(\"Train accuracy =\", getAccuracy(model_five_layers_leaky_relu, x_train, y_train), \"%\")\n",
    "print(\"Test accuracy =\", getAccuracy(model_five_layers_leaky_relu, x_test, y_test), \"%\")"
   ]
  },
  {
   "cell_type": "markdown",
   "metadata": {},
   "source": [
    "#### Accuracy is practically the same as for model with 3 layers, but it takes more time to train"
   ]
  },
  {
   "cell_type": "markdown",
   "metadata": {},
   "source": [
    "#### 7 layers model"
   ]
  },
  {
   "cell_type": "code",
   "execution_count": 39,
   "metadata": {},
   "outputs": [],
   "source": [
    "class sevenLayerNetLeakyRelu(nn.Module):\n",
    "    def __init__(self):\n",
    "        super(sevenLayerNetLeakyRelu, self).__init__()\n",
    "        self.fc1 = nn.Linear(784, 500) \n",
    "        self.fc2 = nn.Linear(500, 400) \n",
    "        self.fc3 = nn.Linear(400, 300)\n",
    "        self.fc4 = nn.Linear(300, 150)\n",
    "        self.fc5 = nn.Linear(150, 75)\n",
    "        self.fc6 = nn.Linear(75, 50)\n",
    "        self.fc7 = nn.Linear(50, 10)\n",
    "        \n",
    "        \n",
    "        \n",
    "    def forward(self, x):\n",
    "        x = F.leaky_relu(self.fc1(x))\n",
    "        x = F.leaky_relu(self.fc2(x))\n",
    "        x = F.leaky_relu(self.fc3(x))\n",
    "        x = F.leaky_relu(self.fc4(x))\n",
    "        x = F.leaky_relu(self.fc5(x))\n",
    "        x = F.leaky_relu(self.fc6(x))\n",
    "        x = self.fc7(x)\n",
    "        x = F.softmax(x, dim=1)\n",
    "        return x"
   ]
  },
  {
   "cell_type": "code",
   "execution_count": 43,
   "metadata": {
    "scrolled": true
   },
   "outputs": [
    {
     "name": "stdout",
     "output_type": "stream",
     "text": [
      "Epoch 0\n",
      "Train Accuracy = 10.39090909090909%\n",
      "Epoch 10\n",
      "Train Accuracy = 37.903636363636366%\n",
      "Epoch 20\n",
      "Train Accuracy = 66.49090909090908%\n",
      "Epoch 30\n",
      "Train Accuracy = 71.81272727272727%\n",
      "Epoch 40\n",
      "Train Accuracy = 74.12%\n",
      "Epoch 50\n",
      "Train Accuracy = 75.82545454545455%\n",
      "Epoch 60\n",
      "Train Accuracy = 78.85636363636364%\n",
      "Epoch 70\n",
      "Train Accuracy = 83.75272727272727%\n",
      "Epoch 80\n",
      "Train Accuracy = 85.63090909090909%\n",
      "Epoch 90\n",
      "Train Accuracy = 86.62363636363636%\n",
      "Epoch 100\n",
      "Train Accuracy = 87.28%\n",
      "Epoch 110\n",
      "Train Accuracy = 87.72909090909091%\n",
      "Epoch 120\n",
      "Train Accuracy = 88.09818181818181%\n",
      "Epoch 130\n",
      "Train Accuracy = 88.35090909090908%\n",
      "Epoch 140\n",
      "Train Accuracy = 88.5709090909091%\n",
      "Epoch 150\n",
      "Train Accuracy = 88.74727272727273%\n",
      "Epoch 160\n",
      "Train Accuracy = 88.8709090909091%\n",
      "Epoch 170\n",
      "Train Accuracy = 88.9509090909091%\n",
      "Epoch 180\n",
      "Train Accuracy = 89.01818181818182%\n",
      "Epoch 190\n",
      "Train Accuracy = 93.60909090909091%\n"
     ]
    }
   ],
   "source": [
    "if use_pretrained_models:\n",
    "    model_seven_layers_leaky_relu = sevenLayerNetLeakyRelu()\n",
    "    model_seven_layers_leaky_relu.load_state_dict(torch.load(path + \"model_seven_layers_leaky_relu\"))\n",
    "    model_seven_layers_leaky_relu.eval()\n",
    "else:\n",
    "    model_seven_layers_leaky_relu = sevenLayerNetLeakyRelu()\n",
    "    optimizer = optim.Adam(model_seven_layers_leaky_relu.parameters(), lr=0.003)\n",
    "    train(model_seven_layers_leaky_relu, x_train, y_train, 200)\n",
    "    torch.save(model_seven_layers_leaky_relu.state_dict(), path + \"model_seven_layers_leaky_relu\")"
   ]
  },
  {
   "cell_type": "code",
   "execution_count": 44,
   "metadata": {},
   "outputs": [
    {
     "name": "stdout",
     "output_type": "stream",
     "text": [
      "Train accuracy = 96.13636363636364 %\n",
      "Test accuracy = 95.6 %\n"
     ]
    }
   ],
   "source": [
    "print(\"Train accuracy =\", getAccuracy(model_seven_layers_leaky_relu, x_train, y_train), \"%\")\n",
    "print(\"Test accuracy =\", getAccuracy(model_seven_layers_leaky_relu, x_test, y_test), \"%\")"
   ]
  },
  {
   "cell_type": "markdown",
   "metadata": {},
   "source": [
    "### 4. Autoencoders\n",
    "An autoencoder is an network used for unsupervised learning of efficient codings. The aim of an autoencoder is to learn a representation (encoding) for a set of data, typically for the purpose of dimensionality reduction. Also, this technique can be used to train deep nets.\n",
    "\n",
    "Architecturally, the simplest form of an autoencoder is a feedforward net very similar to the multilayer perceptron (MLP), but with the output layer having the same number of nodes as the input layer, and with the purpose of reconstructing its own inputs. Therefore, autoencoders are unsupervised learning models. An autoencoder always consists of two parts, the encoder and the decoder. Encoder returns latent representation of the object (compressed representation, usuallu smaller dimension), but decoder restores object from this latent representation. Autoencoders are also trained to minimise reconstruction errors (e.g. MSE).\n",
    "\n",
    "Various techniques exist to prevent autoencoders from learning the identity and to improve their ability to capture important information:\n",
    "1. Denoising autoencoder - take a partially corrupted input.\n",
    "2. Sparse autoencoder - impose sparsity on the hidden units during training (whilst having a larger number of hidden units than inputs).\n",
    "3. Variational autoencoder models inherit autoencoder architecture, but make strong assumptions concerning the distribution of latent variables.\n",
    "4. Contractive autoencoder - add an explicit regularizer in objective function that forces the model to learn a function that is robust to slight variations of input values.\n",
    "\n",
    "#### Exercises\n",
    "1. Train 2 layers autoencoder that compressed mnist images to $\\mathbb{R}^3$ space.\n",
    "2. For each digit plot several samples in 3D axis (use \"%matplotlib notebook\" mode or plotly). How do digits group?\n",
    "3. Train autoencoder with more layers. What are results?\n",
    "4. Use autoencoder to pretrain 2 layers (unsupervised) and then train the following layers with supervised method."
   ]
  },
  {
   "cell_type": "code",
   "execution_count": 62,
   "metadata": {},
   "outputs": [],
   "source": [
    "class autoencoderTwoLayer(nn.Module):\n",
    "    def __init__(self):\n",
    "        super(autoencoderTwoLayer, self).__init__()\n",
    "        self.encoder = nn.Sequential(\n",
    "            nn.Linear(28 * 28, 100),\n",
    "            nn.ReLU(True),\n",
    "            nn.Linear(100, 3))\n",
    "        self.decoder = nn.Sequential(\n",
    "            nn.Linear(3, 100),\n",
    "            nn.ReLU(True),\n",
    "            nn.Linear(100, 28*28), nn.Sigmoid())\n",
    "\n",
    "    def forward(self, x):\n",
    "        x = self.encoder(x)\n",
    "        x = self.decoder(x)\n",
    "        return x"
   ]
  },
  {
   "cell_type": "code",
   "execution_count": 87,
   "metadata": {},
   "outputs": [],
   "source": [
    "def trainAutoencoder(model, x_train, y_train, epochs_num, is_print=True, step=10):\n",
    "    data = np.asarray(x_train)\n",
    "    data = torch.from_numpy(x_train)\n",
    "    data = data.float()\n",
    "    \n",
    "    target = np.asarray(y_train)\n",
    "    target = torch.from_numpy(target)\n",
    "    target = target.long()\n",
    "    \n",
    "    for epoch in range(epochs_num):\n",
    "        optimizer.zero_grad()\n",
    "        output = model(data)\n",
    "        criterion = nn.MSELoss()\n",
    "        loss = criterion(output, data)\n",
    "        \n",
    "        \n",
    "        loss.backward()\n",
    "        optimizer.step()\n",
    "        \n",
    "        if is_print and epoch % step == 0:\n",
    "            print(\"Epoch\", epoch)\n",
    "            print(\"MSE = \", loss.detach().numpy())"
   ]
  },
  {
   "cell_type": "code",
   "execution_count": 89,
   "metadata": {
    "scrolled": true
   },
   "outputs": [
    {
     "name": "stdout",
     "output_type": "stream",
     "text": [
      "Epoch 0\n",
      "MSE =  0.23310828\n",
      "Epoch 10\n",
      "MSE =  0.071059234\n",
      "Epoch 20\n",
      "MSE =  0.061131436\n",
      "Epoch 30\n",
      "MSE =  0.055328015\n",
      "Epoch 40\n",
      "MSE =  0.051905345\n",
      "Epoch 50\n",
      "MSE =  0.04915641\n",
      "Epoch 60\n",
      "MSE =  0.047456205\n",
      "Epoch 70\n",
      "MSE =  0.045934346\n",
      "Epoch 80\n",
      "MSE =  0.04464049\n",
      "Epoch 90\n",
      "MSE =  0.04363588\n",
      "Epoch 100\n",
      "MSE =  0.0428647\n",
      "Epoch 110\n",
      "MSE =  0.042121205\n",
      "Epoch 120\n",
      "MSE =  0.041538432\n",
      "Epoch 130\n",
      "MSE =  0.040996753\n",
      "Epoch 140\n",
      "MSE =  0.040529758\n",
      "Epoch 150\n",
      "MSE =  0.040110826\n",
      "Epoch 160\n",
      "MSE =  0.03977499\n",
      "Epoch 170\n",
      "MSE =  0.0394127\n",
      "Epoch 180\n",
      "MSE =  0.039125476\n",
      "Epoch 190\n",
      "MSE =  0.038876653\n"
     ]
    }
   ],
   "source": [
    "if use_pretrained_models:\n",
    "    autoencoder_model = autoencoderTwoLayer()\n",
    "    autoencoder_model.load_state_dict(torch.load(path + \"autoencoder_model\"))\n",
    "    autoencoder_model.eval()\n",
    "else:\n",
    "    autoencoder_model = autoencoderTwoLayer()\n",
    "    optimizer = optim.Adam(autoencoder_model.parameters(), lr=0.01)\n",
    "    trainAutoencoder(autoencoder_model, x_train, y_train, 200, step=10)\n",
    "    torch.save(autoencoder_model.state_dict(), path + \"autoencoder_model\")"
   ]
  },
  {
   "cell_type": "code",
   "execution_count": 90,
   "metadata": {},
   "outputs": [
    {
     "data": {
      "image/png": "[encoded data removed]",
      "text/plain": [
       "<Figure size 360x360 with 16 Axes>"
      ]
     },
     "metadata": {
      "needs_background": "light"
     },
     "output_type": "display_data"
    }
   ],
   "source": [
    "fig = plt.figure(figsize=(5, 5))\n",
    "\n",
    "data = np.asarray(x_train)\n",
    "data = torch.from_numpy(x_train)\n",
    "data = data.float()\n",
    "    \n",
    "target = np.asarray(y_train)\n",
    "target = torch.from_numpy(target)\n",
    "target = target.long()\n",
    "\n",
    "for i in range(16):\n",
    "    fig.add_subplot(4, 4, i + 1)\n",
    "    plt.imshow(data[i].reshape(28, 28), cmap='gray')\n",
    "plt.show()"
   ]
  },
  {
   "cell_type": "code",
   "execution_count": 91,
   "metadata": {},
   "outputs": [
    {
     "data": {
      "image/png": "[encoded data removed]",
      "text/plain": [
       "<Figure size 360x360 with 16 Axes>"
      ]
     },
     "metadata": {
      "needs_background": "light"
     },
     "output_type": "display_data"
    }
   ],
   "source": [
    "fig = plt.figure(figsize=(5, 5))\n",
    "data = np.asarray(x_train)\n",
    "data = torch.from_numpy(x_train)\n",
    "data = data.float()\n",
    "data = data.view(data.size(0), -1)\n",
    "\n",
    "result = autoencoder_model(data).detach().numpy()\n",
    "\n",
    "for i in range(16):\n",
    "    fig.add_subplot(4, 4, i + 1)\n",
    "    plt.imshow(result[i].reshape(28, 28), cmap='Greys')\n",
    "plt.show()"
   ]
  },
  {
   "cell_type": "code",
   "execution_count": 92,
   "metadata": {},
   "outputs": [],
   "source": [
    "def generateDigitsSamples(x_train_3d, y_train, digits_in_class):\n",
    "    digits_codes = np.unique(y_train, axis=0)\n",
    "    generated_samples = np.zeros((10, digits_in_class, 3))\n",
    "    print(generated_samples.shape)\n",
    "    for digit_code in digits_codes:\n",
    "        count_digits = 0\n",
    "        counter = 0\n",
    "        digit = np.argmax(digit_code)\n",
    "        while count_digits < digits_in_class:\n",
    "            if np.argmax(y_train[counter]) == digit:\n",
    "                digit = np.argmax(y_train[counter])\n",
    "                generated_samples[digit][count_digits] = x_train_3d[counter].detach().numpy()\n",
    "                count_digits += 1\n",
    "            counter += 1\n",
    "    return generated_samples"
   ]
  },
  {
   "cell_type": "code",
   "execution_count": 93,
   "metadata": {},
   "outputs": [],
   "source": [
    "x_train_3d = autoencoder_model.encoder(data)"
   ]
  },
  {
   "cell_type": "code",
   "execution_count": 94,
   "metadata": {},
   "outputs": [
    {
     "name": "stdout",
     "output_type": "stream",
     "text": [
      "(10, 50, 3)\n"
     ]
    }
   ],
   "source": [
    "generated = generateDigitsSamples(x_train_3d, y_train, 50)"
   ]
  },
  {
   "cell_type": "code",
   "execution_count": 119,
   "metadata": {},
   "outputs": [],
   "source": [
    "import matplotlib\n",
    "matplotlib.use('Qt4Agg')"
   ]
  },
  {
   "cell_type": "code",
   "execution_count": 121,
   "metadata": {},
   "outputs": [
    {
     "data": {
      "image/png": "[encoded data removed]",
      "text/plain": [
       "<Figure size 432x288 with 1 Axes>"
      ]
     },
     "metadata": {
      "needs_background": "light"
     },
     "output_type": "display_data"
    },
    {
     "data": {
      "image/png": "[encoded data removed]",
      "text/plain": [
       "<Figure size 432x288 with 1 Axes>"
      ]
     },
     "metadata": {
      "needs_background": "light"
     },
     "output_type": "display_data"
    }
   ],
   "source": [
    "fig1 = plt.figure()\n",
    "fig2 = plt.figure()\n",
    "#ax1.plot_surface(generated[0, :, 0], generated[0, :, 1], generated[0, :, 2], alpha=0.7, rstride=3, cstride=3, cmap = cm.jet)\n",
    "colors = ['red', 'orange', 'blue', 'yellow', 'black', 'purple', 'brown', 'navy', 'lime', 'grey']\n",
    "ax1 = Axes3D(fig1)\n",
    "ax2 = Axes3D(fig2)\n",
    "\n",
    "\n",
    "for i in range(5):    \n",
    "    ax1.plot(10*generated[i, :, 0], 10*generated[i, :, 1], 10*generated[i, :, 2], 'ro', color=colors[i], linewidth=3)\n",
    "\n",
    "for i in range(5, 10):    \n",
    "    ax2.plot(10*generated[i, :, 0], 10*generated[i, :, 1], 10*generated[i, :, 2], 'ro', color=colors[i], linewidth=3)\n",
    "\n",
    "ax1.set_title(\"red - 0,\\n orange - 1,\\n blue - 2,\\n yellow - 3,\\n black - 4,\\n\")\n",
    "ax2.set_title(\"purple - 5,\\n brown - 6,\\n navy - 7,\\n lime - 8,\\n grey - 9\")\n",
    "\n",
    "for angle in range(0, 360):\n",
    "    ax1.view_init(30, angle)\n",
    "    plt.draw()\n",
    "    plt.pause(.001)\n",
    "for angle in range(0, 360):\n",
    "    ax2.view_init(30, angle)\n",
    "    plt.draw()\n",
    "    plt.pause(.001)\n",
    "\n",
    "\n",
    "plt.show()\n"
   ]
  }
 ],
 "metadata": {
  "kernelspec": {
   "display_name": "Python 3",
   "language": "python",
   "name": "python3"
  },
  "language_info": {
   "codemirror_mode": {
    "name": "ipython",
    "version": 3
   },
   "file_extension": ".py",
   "mimetype": "text/x-python",
   "name": "python",
   "nbconvert_exporter": "python",
   "pygments_lexer": "ipython3",
   "version": "3.6.7"
  }
 },
 "nbformat": 4,
 "nbformat_minor": 1
}
