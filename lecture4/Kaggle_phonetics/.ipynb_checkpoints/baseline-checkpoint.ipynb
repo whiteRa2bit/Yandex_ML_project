{
 "cells": [
  {
   "cell_type": "code",
   "execution_count": 1,
   "metadata": {},
   "outputs": [],
   "source": [
    "from __future__ import unicode_literals, print_function, division\n",
    "from io import open\n",
    "import unicodedata\n",
    "import string\n",
    "import re\n",
    "import random\n",
    "\n",
    "import torch\n",
    "import torch.nn as nn\n",
    "from torch import optim\n",
    "import torch.nn.functional as F\n",
    "\n",
    "device = torch.device(\"cuda\" if torch.cuda.is_available() else \"cpu\")"
   ]
  },
  {
   "cell_type": "markdown",
   "metadata": {},
   "source": [
    "### Downloading data"
   ]
  },
  {
   "cell_type": "code",
   "execution_count": 2,
   "metadata": {
    "scrolled": true
   },
   "outputs": [],
   "source": [
    "train_file = open(\"/home/pavel/MyDocs/MachineLearning/Yandex_ML_project/lecture4/Kaggle_phonetics/train.txt\",\"r\")\n",
    "train = train_file.read()"
   ]
  },
  {
   "cell_type": "code",
   "execution_count": 3,
   "metadata": {},
   "outputs": [
    {
     "name": "stdout",
     "output_type": "stream",
     "text": [
      "Examples in test dataset: 83194\n"
     ]
    }
   ],
   "source": [
    "train = train.split('\\n')\n",
    "train = train[:-1]\n",
    "print(\"Examples in test dataset:\", len(train))\n",
    "x_train = [data_example.split(' ')[0] for data_example in train]\n",
    "y_train = [data_example.split(' ')[1] for data_example in train]"
   ]
  },
  {
   "cell_type": "code",
   "execution_count": 4,
   "metadata": {},
   "outputs": [
    {
     "name": "stdout",
     "output_type": "stream",
     "text": [
      "Examples in x_train =  83194\n",
      "Examples in y_train =  83194\n",
      "['LEMIEUX', 'MINDING', 'STRIPED', 'KEN', 'CONFERENCE']\n",
      "['L_AH_M_Y_UW', 'M_AY_N_D_IH_NG', 'S_T_R_AY_P_T', 'K_EH_N', 'K_AA_N_F_ER_AH_N_S']\n"
     ]
    }
   ],
   "source": [
    "print(\"Examples in x_train = \", len(x_train))\n",
    "print(\"Examples in y_train = \", len(y_train))\n",
    "print(x_train[:5])\n",
    "print\n",
    "print(y_train[:5])"
   ]
  },
  {
   "cell_type": "code",
   "execution_count": 5,
   "metadata": {},
   "outputs": [
    {
     "name": "stdout",
     "output_type": "stream",
     "text": [
      "Longest word in x_train - SUPERCALIFRAGILISTICEXPIALIDOCIOUS with len = 34\n",
      "Longest word in y_train - S_UW_P_ER_K_AE_L_AH_F_R_AE_JH_AH_L_IH_S_T_IH_K_EH_K_S_P_IY_AE_L_AH_D_OW_SH_AH_S with len = 79\n"
     ]
    }
   ],
   "source": [
    "print(\"Longest word in x_train -\", max(x_train, key=len), \"with len =\", len(max(x_train, key=len)))\n",
    "print(\"Longest word in y_train -\", max(y_train, key=len), \"with len =\", len(max(y_train, key=len)))"
   ]
  },
  {
   "cell_type": "markdown",
   "metadata": {},
   "source": [
    "### First model architecture:\n",
    "Represent each char as one-hot, use seq2seq without attention"
   ]
  },
  {
   "cell_type": "markdown",
   "metadata": {},
   "source": [
    "### Second model architecture:\n",
    "Represent each char as embedding, use seq2seq without attention"
   ]
  },
  {
   "cell_type": "markdown",
   "metadata": {},
   "source": [
    "### Third model architecture:\n",
    "Represent each char as embedding, use seq2seq with attention"
   ]
  },
  {
   "cell_type": "markdown",
   "metadata": {},
   "source": [
    "### EXTRA Improvements:\n",
    "Train biderectional rnn"
   ]
  },
  {
   "cell_type": "markdown",
   "metadata": {},
   "source": [
    "### Preprocessing"
   ]
  },
  {
   "cell_type": "code",
   "execution_count": 198,
   "metadata": {
    "scrolled": true
   },
   "outputs": [],
   "source": [
    "SOS_token = 0\n",
    "EOS_token = 1\n",
    "MAX_LENGTH = 100\n",
    "\n",
    "class Vocab:\n",
    "    def __init__(self):\n",
    "        self.char2idx = {'s': 0, 'e': 1}\n",
    "        self.idx2char = {0: 's', 1: 'e'}\n",
    "        self.n_words = 2\n",
    "    \n",
    "    def addWord(self, word):\n",
    "        for char in word:\n",
    "            self.addChar(char)\n",
    "            \n",
    "    def addChar(self, char):\n",
    "        if char not in self.char2idx:\n",
    "            self.char2idx[char] = self.n_words\n",
    "            self.idx2char[self.n_words] = char\n",
    "            self.n_words += 1\n",
    "        \n",
    "    def tokenize(self, sequence):\n",
    "        return [self.char2idx[sym] for sym in sequence]\n",
    "    \n",
    "    def detokenize(self, sequence):\n",
    "        return ''.join([self.idx2char[num] for num in sequence])"
   ]
  },
  {
   "cell_type": "code",
   "execution_count": 199,
   "metadata": {},
   "outputs": [],
   "source": [
    "def readLang(x_train, y_train, reverse=False):\n",
    "    input_lang = Vocab()\n",
    "    output_lang = Vocab()\n",
    "    \n",
    "    pairs = []\n",
    "    for word in x_train:\n",
    "        input_lang.addWord(word)\n",
    "    for word in y_train:\n",
    "        output_lang.addWord(word)\n",
    "        \n",
    "    for i in range(len(x_train)):\n",
    "         pairs.append([x_train[i], y_train[i]])\n",
    "                       \n",
    "    return input_lang, output_lang, pairs"
   ]
  },
  {
   "cell_type": "code",
   "execution_count": 200,
   "metadata": {},
   "outputs": [],
   "source": [
    "input_lang, output_lang, pairs = readLang(x_train, y_train)"
   ]
  },
  {
   "cell_type": "code",
   "execution_count": 201,
   "metadata": {},
   "outputs": [
    {
     "name": "stdout",
     "output_type": "stream",
     "text": [
      "[['LEMIEUX', 'L_AH_M_Y_UW'], ['MINDING', 'M_AY_N_D_IH_NG'], ['STRIPED', 'S_T_R_AY_P_T'], ['KEN', 'K_EH_N'], ['CONFERENCE', 'K_AA_N_F_ER_AH_N_S'], ['IMMOLATE', 'IH_M_AH_L_EY_T'], ['TRANSGRESS', 'T_R_AE_N_Z_G_R_EH_S'], ['RABBLE', 'R_AE_B_AH_L'], ['AIRSHARE', 'EH_R_SH_EH_R'], ['INTOLERANCE', 'IH_N_T_AA_L_ER_AH_N_S']]\n"
     ]
    }
   ],
   "source": [
    "print(pairs[:10])"
   ]
  },
  {
   "cell_type": "code",
   "execution_count": 202,
   "metadata": {},
   "outputs": [
    {
     "name": "stdout",
     "output_type": "stream",
     "text": [
      "['PATRIDGE', 'P_AE_T_R_IH_JH']\n"
     ]
    }
   ],
   "source": [
    "print(random.choice(pairs))"
   ]
  },
  {
   "cell_type": "code",
   "execution_count": 203,
   "metadata": {
    "scrolled": true
   },
   "outputs": [
    {
     "name": "stdout",
     "output_type": "stream",
     "text": [
      "s  -  0\n",
      "e  -  1\n",
      "L  -  2\n",
      "E  -  3\n",
      "M  -  4\n",
      "I  -  5\n",
      "U  -  6\n",
      "X  -  7\n",
      "N  -  8\n",
      "D  -  9\n",
      "G  -  10\n",
      "S  -  11\n",
      "T  -  12\n",
      "R  -  13\n",
      "P  -  14\n",
      "K  -  15\n",
      "C  -  16\n",
      "O  -  17\n",
      "F  -  18\n",
      "A  -  19\n",
      "B  -  20\n",
      "H  -  21\n",
      "V  -  22\n",
      "Y  -  23\n",
      "W  -  24\n",
      "J  -  25\n",
      "'  -  26\n",
      "Q  -  27\n",
      "Z  -  28\n",
      "-  -  29\n"
     ]
    }
   ],
   "source": [
    "for key,value in input_lang.char2idx.items():\n",
    "    print(key, \" - \", value)"
   ]
  },
  {
   "cell_type": "code",
   "execution_count": 204,
   "metadata": {
    "scrolled": true
   },
   "outputs": [
    {
     "name": "stdout",
     "output_type": "stream",
     "text": [
      "s  -  0\n",
      "e  -  1\n",
      "L  -  2\n",
      "_  -  3\n",
      "A  -  4\n",
      "H  -  5\n",
      "M  -  6\n",
      "Y  -  7\n",
      "U  -  8\n",
      "W  -  9\n",
      "N  -  10\n",
      "D  -  11\n",
      "I  -  12\n",
      "G  -  13\n",
      "S  -  14\n",
      "T  -  15\n",
      "R  -  16\n",
      "P  -  17\n",
      "K  -  18\n",
      "E  -  19\n",
      "F  -  20\n",
      "Z  -  21\n",
      "B  -  22\n",
      "V  -  23\n",
      "O  -  24\n",
      "J  -  25\n",
      "C  -  26\n"
     ]
    }
   ],
   "source": [
    "for key,value in output_lang.char2idx.items():\n",
    "    print(key, \" - \", value)"
   ]
  },
  {
   "cell_type": "code",
   "execution_count": 162,
   "metadata": {},
   "outputs": [],
   "source": [
    "class EncoderRNN(nn.Module):\n",
    "    def __init__(self, input_size, hidden_size):\n",
    "        super(EncoderRNN, self).__init__()\n",
    "        self.hidden_size = hidden_size\n",
    "\n",
    "        self.embedding = nn.Embedding(input_size, hidden_size)\n",
    "        self.gru = nn.GRU(hidden_size, hidden_size)\n",
    "\n",
    "    def forward(self, input, hidden):\n",
    "        embedded = self.embedding(input).view(1, 1, -1)\n",
    "        output = embedded\n",
    "        output, hidden = self.gru(output, hidden)\n",
    "        return output, hidden\n",
    "\n",
    "    def initHidden(self):\n",
    "        return torch.zeros(1, 1, self.hidden_size, device=device)"
   ]
  },
  {
   "cell_type": "code",
   "execution_count": 163,
   "metadata": {},
   "outputs": [],
   "source": [
    "class DecoderRNN(nn.Module):\n",
    "    def __init__(self, hidden_size, output_size):\n",
    "        super(DecoderRNN, self).__init__()\n",
    "        self.hidden_size = hidden_size\n",
    "\n",
    "        self.embedding = nn.Embedding(output_size, hidden_size)\n",
    "        self.gru = nn.GRU(hidden_size, hidden_size)\n",
    "        self.out = nn.Linear(hidden_size, output_size)\n",
    "        self.softmax = nn.LogSoftmax(dim=1)\n",
    "\n",
    "    def forward(self, input, hidden):\n",
    "        output = self.embedding(input).view(1, 1, -1)\n",
    "        output = F.relu(output)\n",
    "        output, hidden = self.gru(output, hidden)\n",
    "        output = self.softmax(self.out(output[0]))\n",
    "        return output, hidden\n",
    "\n",
    "    def initHidden(self):\n",
    "        return torch.zeros(1, 1, self.hidden_size, device=device)"
   ]
  },
  {
   "cell_type": "code",
   "execution_count": 164,
   "metadata": {},
   "outputs": [],
   "source": [
    "    class AttnDecoderRNN(nn.Module):\n",
    "        def __init__(self, hidden_size, output_size, dropout_p=0.1, max_length=MAX_LENGTH):\n",
    "            super(AttnDecoderRNN, self).__init__()\n",
    "            self.hidden_size = hidden_size\n",
    "            self.output_size = output_size\n",
    "            self.dropout_p = dropout_p\n",
    "            self.max_length = max_length\n",
    "\n",
    "            self.embedding = nn.Embedding(self.output_size, self.hidden_size)\n",
    "            self.attn = nn.Linear(self.hidden_size * 2, self.max_length)\n",
    "            self.attn_combine = nn.Linear(self.hidden_size * 2, self.hidden_size)\n",
    "            self.dropout = nn.Dropout(self.dropout_p)\n",
    "            self.gru = nn.GRU(self.hidden_size, self.hidden_size)\n",
    "            self.out = nn.Linear(self.hidden_size, self.output_size)\n",
    "\n",
    "        def forward(self, input, hidden, encoder_outputs):\n",
    "            embedded = self.embedding(input).view(1, 1, -1)\n",
    "            embedded = self.dropout(embedded)\n",
    "\n",
    "            attn_weights = F.softmax(\n",
    "                self.attn(torch.cat((embedded[0], hidden[0]), 1)), dim=1)\n",
    "            attn_applied = torch.bmm(attn_weights.unsqueeze(0),\n",
    "                                     encoder_outputs.unsqueeze(0))\n",
    "\n",
    "            output = torch.cat((embedded[0], attn_applied[0]), 1)\n",
    "            output = self.attn_combine(output).unsqueeze(0)\n",
    "\n",
    "            output = F.relu(output)\n",
    "            output, hidden = self.gru(output, hidden)\n",
    "\n",
    "            output = F.log_softmax(self.out(output[0]), dim=1)\n",
    "            return output, hidden, attn_weights\n",
    "\n",
    "        def initHidden(self):\n",
    "            return torch.zeros(1, 1, self.hidden_size, device=device)"
   ]
  },
  {
   "cell_type": "markdown",
   "metadata": {},
   "source": [
    "## Training"
   ]
  },
  {
   "cell_type": "code",
   "execution_count": 165,
   "metadata": {},
   "outputs": [],
   "source": [
    "def indexesFromWord(vocab, word):\n",
    "    return [vocab.char2idx[char] for char in word]\n",
    "\n",
    "def tensorFromWord(vocab, word):\n",
    "    indexes = indexesFromWord(vocab, word)\n",
    "    indexes.append(EOS_token)\n",
    "    return torch.tensor(indexes, dtype=torch.long, device=device).view(-1, 1)\n",
    "\n",
    "def tensorsFromPair(pair):\n",
    "    input_tensor = tensorFromWord(input_lang, pair[0])\n",
    "    target_tensor = tensorFromWord(output_lang, pair[1])\n",
    "    return (input_tensor, target_tensor)"
   ]
  },
  {
   "cell_type": "code",
   "execution_count": 240,
   "metadata": {},
   "outputs": [],
   "source": [
    "teacher_forcing_ratio = 0.5\n",
    "\n",
    "\n",
    "def train(input_tensor, target_tensor, encoder, decoder, encoder_optimizer, decoder_optimizer, criterion, max_length=MAX_LENGTH):\n",
    "    encoder_hidden = encoder.initHidden()\n",
    "\n",
    "    encoder_optimizer.zero_grad()\n",
    "    decoder_optimizer.zero_grad()\n",
    "\n",
    "    input_length = input_tensor.size(0)\n",
    "    target_length = target_tensor.size(0)\n",
    "\n",
    "    encoder_outputs = torch.zeros(max_length, encoder.hidden_size, device=device)\n",
    "\n",
    "    loss = 0\n",
    "\n",
    "    for ei in range(input_length):\n",
    "        encoder_output, encoder_hidden = encoder(\n",
    "            input_tensor[ei], encoder_hidden)\n",
    "        encoder_outputs[ei] = encoder_output[0, 0]\n",
    "\n",
    "    decoder_input = torch.tensor([[SOS_token]], device=device)\n",
    "\n",
    "    decoder_hidden = encoder_hidden\n",
    "\n",
    "    use_teacher_forcing = True if random.random() < teacher_forcing_ratio else False\n",
    "\n",
    "    if use_teacher_forcing:\n",
    "        # Teacher forcing: Feed the target as the next input\n",
    "        for di in range(target_length):\n",
    "            decoder_output, decoder_hidden, decoder_attention = decoder(\n",
    "                decoder_input, decoder_hidden, encoder_outputs)\n",
    "            loss += criterion(decoder_output, target_tensor[di])\n",
    "            decoder_input = target_tensor[di]  # Teacher forcing\n",
    "\n",
    "    else:\n",
    "        # Without teacher forcing: use its own predictions as the next input\n",
    "        for di in range(target_length):\n",
    "            decoder_output, decoder_hidden, decoder_attention = decoder(\n",
    "                decoder_input, decoder_hidden, encoder_outputs)\n",
    "            topv, topi = decoder_output.topk(1)\n",
    "            decoder_input = topi.squeeze().detach()  # detach from history as input\n",
    "\n",
    "            loss += criterion(decoder_output, target_tensor[di])\n",
    "            if decoder_input.item() == EOS_token:\n",
    "                break\n",
    "\n",
    "    loss.backward()\n",
    "\n",
    "    encoder_optimizer.step()\n",
    "    decoder_optimizer.step()\n",
    "\n",
    "    return loss.item() / target_length"
   ]
  },
  {
   "cell_type": "code",
   "execution_count": 241,
   "metadata": {},
   "outputs": [],
   "source": [
    "import time\n",
    "import math\n",
    "\n",
    "\n",
    "def asMinutes(s):\n",
    "    m = math.floor(s / 60)\n",
    "    s -= m * 60\n",
    "    return '%dm %ds' % (m, s)\n",
    "\n",
    "\n",
    "def timeSince(since, percent):\n",
    "    now = time.time()\n",
    "    s = now - since\n",
    "    es = s / (percent)\n",
    "    rs = es - s\n",
    "    return '%s (- %s)' % (asMinutes(s), asMinutes(rs))\n"
   ]
  },
  {
   "cell_type": "code",
   "execution_count": 242,
   "metadata": {},
   "outputs": [],
   "source": [
    "def trainIters(encoder, decoder, n_iters, print_every=1000, plot_every=100, learning_rate=0.01):\n",
    "    start = time.time()\n",
    "    plot_losses = []\n",
    "    print_loss_total = 0  # Reset every print_every\n",
    "    plot_loss_total = 0  # Reset every plot_every\n",
    "\n",
    "    encoder_optimizer = optim.SGD(encoder.parameters(), lr=learning_rate)\n",
    "    decoder_optimizer = optim.SGD(decoder.parameters(), lr=learning_rate)\n",
    "    training_pairs = [tensorsFromPair(random.choice(pairs))\n",
    "                      for i in range(n_iters)]\n",
    "    criterion = nn.NLLLoss()\n",
    "\n",
    "    for iter in range(1, n_iters + 1):\n",
    "        training_pair = training_pairs[iter - 1]\n",
    "        input_tensor = training_pair[0]\n",
    "        target_tensor = training_pair[1]\n",
    "\n",
    "        loss = train(input_tensor, target_tensor, encoder, decoder, encoder_optimizer, decoder_optimizer, criterion)\n",
    "        print_loss_total += loss\n",
    "        plot_loss_total += loss\n",
    "\n",
    "        if iter % print_every == 0:\n",
    "            print_loss_avg = print_loss_total / print_every\n",
    "            print_loss_total = 0\n",
    "            print('%s (%d %d%%) %.4f' % (timeSince(start, iter / n_iters),\n",
    "                                         iter, iter / n_iters * 100, print_loss_avg))\n",
    "\n",
    "        if iter % plot_every == 0:\n",
    "            plot_loss_avg = plot_loss_total / plot_every\n",
    "            plot_losses.append(plot_loss_avg)\n",
    "            plot_loss_total = 0\n",
    "\n",
    "    showPlot(plot_losses)"
   ]
  },
  {
   "cell_type": "code",
   "execution_count": 243,
   "metadata": {},
   "outputs": [],
   "source": [
    "import matplotlib.pyplot as plt\n",
    "plt.switch_backend('agg')\n",
    "import matplotlib.ticker as ticker\n",
    "import numpy as np\n",
    "\n",
    "\n",
    "def showPlot(points):\n",
    "    plt.figure()\n",
    "    fig, ax = plt.subplots()\n",
    "    # this locator puts ticks at regular intervals\n",
    "    loc = ticker.MultipleLocator(base=0.2)\n",
    "    ax.yaxis.set_major_locator(loc)\n",
    "    plt.plot(points)"
   ]
  },
  {
   "cell_type": "code",
   "execution_count": 244,
   "metadata": {},
   "outputs": [],
   "source": [
    "def evaluate(encoder, decoder, sentence, max_length=MAX_LENGTH):\n",
    "    with torch.no_grad():\n",
    "        input_tensor = tensorFromWord(input_lang, sentence)\n",
    "        input_length = input_tensor.size()[0]\n",
    "        encoder_hidden = encoder.initHidden()\n",
    "\n",
    "        encoder_outputs = torch.zeros(max_length, encoder.hidden_size, device=device)\n",
    "\n",
    "        for ei in range(input_length):\n",
    "            encoder_output, encoder_hidden = encoder(input_tensor[ei],\n",
    "                                                     encoder_hidden)\n",
    "            encoder_outputs[ei] += encoder_output[0, 0]\n",
    "\n",
    "        decoder_input = torch.tensor([[SOS_token]], device=device)  # SOS\n",
    "\n",
    "        decoder_hidden = encoder_hidden\n",
    "\n",
    "        decoded_words = []\n",
    "        decoder_attentions = torch.zeros(max_length, max_length)\n",
    "\n",
    "        for di in range(max_length):\n",
    "            decoder_output, decoder_hidden, decoder_attention = decoder(\n",
    "                decoder_input, decoder_hidden, encoder_outputs)\n",
    "            decoder_attentions[di] = decoder_attention.data\n",
    "            topv, topi = decoder_output.data.topk(1)\n",
    "            if topi.item() == EOS_token:\n",
    "                #decoded_words.append('<EOS>')\n",
    "                break\n",
    "            else:\n",
    "                decoded_words.append(output_lang.idx2char[topi.item()])\n",
    "\n",
    "            decoder_input = topi.squeeze().detach()\n",
    "\n",
    "        return decoded_words, decoder_attentions[:di + 1]\n",
    "    \n",
    "def evaluateRandomly(encoder, decoder, n=10):\n",
    "    for i in range(n):\n",
    "        pair = random.choice(pairs)\n",
    "        print('>', pair[0])\n",
    "        print('=', pair[1])\n",
    "        output_words, attentions = evaluate(encoder, decoder, pair[0])\n",
    "        output_sentence = ''.join(output_words)\n",
    "        print('<', output_sentence)\n",
    "        print('')"
   ]
  },
  {
   "cell_type": "code",
   "execution_count": 245,
   "metadata": {},
   "outputs": [],
   "source": [
    "def predict(encoder, decoder, x):\n",
    "    y = []\n",
    "    for i in range(len(x)):\n",
    "        if i % 1000 == 0:\n",
    "            print(\"Progress:\", i, \"/\", len(x))\n",
    "        output_words, _ = evaluate(encoder, decoder, x[i])\n",
    "        output_sentence = ''.join(output_words)\n",
    "        output_sentence = output_sentence\n",
    "        y.append(output_sentence)\n",
    "    print(\"Finished!!! \")\n",
    "    return y"
   ]
  },
  {
   "cell_type": "code",
   "execution_count": 246,
   "metadata": {
    "scrolled": true
   },
   "outputs": [],
   "source": [
    "hidden_size = 512\n",
    "encoder1 = EncoderRNN(input_lang.n_words, hidden_size).to(device)\n",
    "attn_decoder1 = AttnDecoderRNN(hidden_size, output_lang.n_words, dropout_p=0.1).to(device)"
   ]
  },
  {
   "cell_type": "code",
   "execution_count": 247,
   "metadata": {},
   "outputs": [
    {
     "name": "stdout",
     "output_type": "stream",
     "text": [
      "2m 6s (- 208m 43s) (1000 1%) 2.0674\n",
      "4m 5s (- 200m 15s) (2000 2%) 1.9046\n",
      "6m 5s (- 196m 48s) (3000 3%) 1.8758\n",
      "8m 5s (- 194m 11s) (4000 4%) 1.9015\n",
      "10m 4s (- 191m 34s) (5000 5%) 1.6106\n",
      "12m 3s (- 188m 47s) (6000 6%) 1.3537\n",
      "14m 1s (- 186m 16s) (7000 7%) 1.2378\n",
      "16m 0s (- 184m 3s) (8000 8%) 1.1200\n",
      "17m 56s (- 181m 28s) (9000 9%) 1.0387\n",
      "19m 56s (- 179m 25s) (10000 10%) 1.0385\n",
      "21m 57s (- 177m 37s) (11000 11%) 1.0017\n",
      "23m 57s (- 175m 40s) (12000 12%) 0.9784\n",
      "25m 57s (- 173m 43s) (13000 13%) 0.9217\n",
      "27m 57s (- 171m 44s) (14000 14%) 0.9129\n",
      "29m 56s (- 169m 39s) (15000 15%) 0.8540\n",
      "31m 55s (- 167m 34s) (16000 16%) 0.8322\n",
      "33m 55s (- 165m 38s) (17000 17%) 0.8119\n",
      "35m 54s (- 163m 34s) (18000 18%) 0.8124\n",
      "37m 54s (- 161m 35s) (19000 19%) 0.7855\n",
      "39m 54s (- 159m 36s) (20000 20%) 0.8090\n",
      "41m 54s (- 157m 40s) (21000 21%) 0.7989\n",
      "43m 53s (- 155m 36s) (22000 22%) 0.7391\n",
      "45m 52s (- 153m 36s) (23000 23%) 0.7250\n",
      "47m 52s (- 151m 36s) (24000 24%) 0.7563\n",
      "49m 52s (- 149m 38s) (25000 25%) 0.7483\n",
      "51m 50s (- 147m 34s) (26000 26%) 0.7349\n",
      "53m 49s (- 145m 32s) (27000 27%) 0.7540\n",
      "55m 48s (- 143m 31s) (28000 28%) 0.7114\n",
      "57m 48s (- 141m 32s) (29000 28%) 0.7119\n",
      "59m 46s (- 139m 28s) (30000 30%) 0.6552\n",
      "61m 46s (- 137m 29s) (31000 31%) 0.6539\n",
      "63m 46s (- 135m 31s) (32000 32%) 0.6261\n",
      "65m 47s (- 133m 33s) (33000 33%) 0.6934\n",
      "67m 48s (- 131m 37s) (34000 34%) 0.6286\n",
      "69m 47s (- 129m 35s) (35000 35%) 0.5934\n",
      "71m 41s (- 127m 27s) (36000 36%) 0.6200\n",
      "73m 30s (- 125m 9s) (37000 37%) 0.6079\n",
      "75m 16s (- 122m 49s) (38000 38%) 0.5961\n",
      "77m 4s (- 120m 33s) (39000 39%) 0.6604\n",
      "78m 53s (- 118m 20s) (40000 40%) 0.6575\n",
      "80m 41s (- 116m 7s) (41000 41%) 0.6093\n",
      "82m 28s (- 113m 53s) (42000 42%) 0.6068\n",
      "84m 16s (- 111m 43s) (43000 43%) 0.6174\n",
      "86m 4s (- 109m 33s) (44000 44%) 0.6005\n",
      "87m 53s (- 107m 25s) (45000 45%) 0.5665\n",
      "89m 40s (- 105m 16s) (46000 46%) 0.5943\n",
      "91m 28s (- 103m 9s) (47000 47%) 0.5930\n",
      "93m 17s (- 101m 3s) (48000 48%) 0.5694\n",
      "95m 7s (- 99m 0s) (49000 49%) 0.5449\n",
      "96m 55s (- 96m 55s) (50000 50%) 0.5646\n",
      "98m 44s (- 94m 51s) (51000 51%) 0.5598\n",
      "100m 32s (- 92m 48s) (52000 52%) 0.5877\n",
      "102m 21s (- 90m 46s) (53000 53%) 0.5595\n",
      "104m 9s (- 88m 43s) (54000 54%) 0.5348\n",
      "105m 57s (- 86m 41s) (55000 55%) 0.5637\n",
      "107m 45s (- 84m 39s) (56000 56%) 0.5499\n",
      "109m 34s (- 82m 39s) (57000 56%) 0.5781\n",
      "111m 22s (- 80m 39s) (58000 57%) 0.5526\n",
      "113m 13s (- 78m 40s) (59000 59%) 0.5547\n",
      "114m 59s (- 76m 39s) (60000 60%) 0.5326\n",
      "116m 47s (- 74m 40s) (61000 61%) 0.5654\n",
      "118m 35s (- 72m 41s) (62000 62%) 0.5610\n",
      "120m 25s (- 70m 43s) (63000 63%) 0.5670\n",
      "122m 14s (- 68m 45s) (64000 64%) 0.5220\n",
      "124m 2s (- 66m 47s) (65000 65%) 0.5269\n",
      "125m 48s (- 64m 48s) (66000 66%) 0.5217\n",
      "127m 37s (- 62m 51s) (67000 67%) 0.5595\n",
      "129m 26s (- 60m 54s) (68000 68%) 0.5321\n",
      "131m 15s (- 58m 58s) (69000 69%) 0.5123\n",
      "133m 4s (- 57m 1s) (70000 70%) 0.5605\n",
      "134m 52s (- 55m 5s) (71000 71%) 0.5585\n",
      "136m 40s (- 53m 9s) (72000 72%) 0.5203\n",
      "138m 29s (- 51m 13s) (73000 73%) 0.4896\n",
      "140m 17s (- 49m 17s) (74000 74%) 0.5271\n",
      "142m 5s (- 47m 21s) (75000 75%) 0.5256\n",
      "143m 54s (- 45m 26s) (76000 76%) 0.5266\n",
      "145m 43s (- 43m 31s) (77000 77%) 0.5304\n",
      "147m 32s (- 41m 36s) (78000 78%) 0.5181\n",
      "149m 20s (- 39m 41s) (79000 79%) 0.5071\n",
      "151m 7s (- 37m 46s) (80000 80%) 0.5123\n",
      "152m 56s (- 35m 52s) (81000 81%) 0.5132\n",
      "154m 44s (- 33m 58s) (82000 82%) 0.5162\n",
      "156m 32s (- 32m 3s) (83000 83%) 0.5225\n",
      "158m 21s (- 30m 9s) (84000 84%) 0.5055\n",
      "160m 9s (- 28m 15s) (85000 85%) 0.5048\n",
      "161m 59s (- 26m 22s) (86000 86%) 0.5345\n",
      "163m 47s (- 24m 28s) (87000 87%) 0.5090\n",
      "165m 36s (- 22m 35s) (88000 88%) 0.4915\n",
      "167m 26s (- 20m 41s) (89000 89%) 0.4943\n",
      "169m 15s (- 18m 48s) (90000 90%) 0.4813\n",
      "171m 1s (- 16m 54s) (91000 91%) 0.4668\n",
      "172m 50s (- 15m 1s) (92000 92%) 0.4973\n",
      "174m 38s (- 13m 8s) (93000 93%) 0.4940\n",
      "176m 26s (- 11m 15s) (94000 94%) 0.5173\n",
      "178m 18s (- 9m 23s) (95000 95%) 0.4641\n",
      "180m 7s (- 7m 30s) (96000 96%) 0.4650\n",
      "181m 55s (- 5m 37s) (97000 97%) 0.4942\n",
      "183m 44s (- 3m 44s) (98000 98%) 0.5100\n",
      "185m 32s (- 1m 52s) (99000 99%) 0.4663\n",
      "187m 19s (- 0m 0s) (100000 100%) 0.4903\n"
     ]
    },
    {
     "data": {
      "text/plain": [
       "<Figure size 432x288 with 0 Axes>"
      ]
     },
     "metadata": {},
     "output_type": "display_data"
    },
    {
     "data": {
      "image/png": "[encoded data removed]",
      "text/plain": [
       "<Figure size 432x288 with 1 Axes>"
      ]
     },
     "metadata": {
      "needs_background": "light"
     },
     "output_type": "display_data"
    }
   ],
   "source": [
    "trainIters(encoder1, attn_decoder1, 100000, print_every=1000)"
   ]
  },
  {
   "cell_type": "code",
   "execution_count": 249,
   "metadata": {},
   "outputs": [],
   "source": [
    "path = \"/home/pavel/MyDocs/MachineLearning/Yandex_ML_project/lecture4/Kaggle_phonetics/Models/\"\n",
    "torch.save(encoder1.state_dict(), path + \"encoder_baseline_hd=512\")\n",
    "torch.save(attn_decoder1.state_dict(), path + \"decoder_baseline_hd=512\")"
   ]
  },
  {
   "cell_type": "code",
   "execution_count": 208,
   "metadata": {
    "scrolled": true
   },
   "outputs": [
    {
     "data": {
      "text/plain": [
       "AttnDecoderRNN(\n",
       "  (embedding): Embedding(27, 256)\n",
       "  (attn): Linear(in_features=512, out_features=100, bias=True)\n",
       "  (attn_combine): Linear(in_features=512, out_features=256, bias=True)\n",
       "  (dropout): Dropout(p=0.1)\n",
       "  (gru): GRU(256, 256)\n",
       "  (out): Linear(in_features=256, out_features=27, bias=True)\n",
       ")"
      ]
     },
     "execution_count": 208,
     "metadata": {},
     "output_type": "execute_result"
    }
   ],
   "source": [
    "encoder1 = EncoderRNN(input_lang.n_words, hidden_size).to(device)\n",
    "encoder1.load_state_dict(torch.load(path + \"encoder_baseline\"))\n",
    "encoder1.eval()\n",
    "\n",
    "attn_decoder1 = AttnDecoderRNN(hidden_size, output_lang.n_words, dropout_p=0.1).to(device)\n",
    "attn_decoder1.load_state_dict(torch.load(path + \"decoder_baseline\"))\n",
    "attn_decoder1.eval()"
   ]
  },
  {
   "cell_type": "markdown",
   "metadata": {},
   "source": [
    "#### Postprocessing:\n",
    "trim extra '_' symbols"
   ]
  },
  {
   "cell_type": "code",
   "execution_count": 252,
   "metadata": {
    "scrolled": true
   },
   "outputs": [
    {
     "name": "stdout",
     "output_type": "stream",
     "text": [
      "Progress: 0 / 5000\n",
      "Progress: 1000 / 5000\n",
      "Progress: 2000 / 5000\n",
      "Progress: 3000 / 5000\n",
      "Progress: 4000 / 5000\n",
      "Finished!!! \n"
     ]
    }
   ],
   "source": [
    "predicted = predict(encoder1, attn_decoder1, x_train[:5000])"
   ]
  },
  {
   "cell_type": "code",
   "execution_count": 217,
   "metadata": {
    "scrolled": true
   },
   "outputs": [
    {
     "name": "stdout",
     "output_type": "stream",
     "text": [
      "> GEARED\n",
      "= G_IH_R_D\n",
      "< Z_EE__R_D\n",
      "\n",
      "> TIJUANA\n",
      "= T_IH_W_AA_N_AH\n",
      "< T_IY_JH_AAAN_AH\n",
      "\n",
      "> FURGERSON\n",
      "= F_ER_G_ER_S_AH_N\n",
      "< F_ER_G_EH_S_A___\n",
      "\n",
      "> JALAPENO\n",
      "= HH_AE_L_AH_P_IY_N_Y_OW\n",
      "< Y_AA_L_AA_P_EH_N_OW\n",
      "\n",
      "> RECORDING\n",
      "= R_AH_K_AO_R_D_IH_NG\n",
      "< R_IH_K_AO_R_D_IH_NG\n",
      "\n",
      "> ROCKETS\n",
      "= R_AA_K_AH_T_S\n",
      "< R_AA_K_AH_T_S\n",
      "\n",
      "> GRANSTROM\n",
      "= G_R_AE_N_S_T_R_AH_M\n",
      "< G_R_AE_N_S_T_R_AH_M_AH_M\n",
      "\n",
      "> BUTTERS\n",
      "= B_AH_T_ER_Z\n",
      "< B_AH_T_ER_Z\n",
      "\n",
      "> ANOMIE\n",
      "= AE_N_AH_M_IY\n",
      "< AA_N_AA_M_IY\n",
      "\n",
      "> NUTLETS\n",
      "= N_AH_T_L_AH_T_S\n",
      "< N_AH_T_L_AH_T_S\n",
      "\n"
     ]
    }
   ],
   "source": [
    "evaluateRandomly(encoder1, attn_decoder1)"
   ]
  },
  {
   "cell_type": "code",
   "execution_count": 61,
   "metadata": {},
   "outputs": [],
   "source": [
    "import pandas as pd"
   ]
  },
  {
   "cell_type": "code",
   "execution_count": 182,
   "metadata": {
    "scrolled": true
   },
   "outputs": [
    {
     "data": {
      "text/html": [
       "<div>\n",
       "<style scoped>\n",
       "    .dataframe tbody tr th:only-of-type {\n",
       "        vertical-align: middle;\n",
       "    }\n",
       "\n",
       "    .dataframe tbody tr th {\n",
       "        vertical-align: top;\n",
       "    }\n",
       "\n",
       "    .dataframe thead th {\n",
       "        text-align: right;\n",
       "    }\n",
       "</style>\n",
       "<table border=\"1\" class=\"dataframe\">\n",
       "  <thead>\n",
       "    <tr style=\"text-align: right;\">\n",
       "      <th></th>\n",
       "      <th>Id</th>\n",
       "      <th>Word</th>\n",
       "    </tr>\n",
       "  </thead>\n",
       "  <tbody>\n",
       "    <tr>\n",
       "      <th>0</th>\n",
       "      <td>1</td>\n",
       "      <td>PITCHED</td>\n",
       "    </tr>\n",
       "    <tr>\n",
       "      <th>1</th>\n",
       "      <td>2</td>\n",
       "      <td>DISSOLVERS</td>\n",
       "    </tr>\n",
       "    <tr>\n",
       "      <th>2</th>\n",
       "      <td>3</td>\n",
       "      <td>SCRAWNY</td>\n",
       "    </tr>\n",
       "    <tr>\n",
       "      <th>3</th>\n",
       "      <td>4</td>\n",
       "      <td>BONENFANT</td>\n",
       "    </tr>\n",
       "    <tr>\n",
       "      <th>4</th>\n",
       "      <td>5</td>\n",
       "      <td>EXCEEDS</td>\n",
       "    </tr>\n",
       "  </tbody>\n",
       "</table>\n",
       "</div>"
      ],
      "text/plain": [
       "   Id        Word\n",
       "0   1     PITCHED\n",
       "1   2  DISSOLVERS\n",
       "2   3     SCRAWNY\n",
       "3   4   BONENFANT\n",
       "4   5     EXCEEDS"
      ]
     },
     "execution_count": 182,
     "metadata": {},
     "output_type": "execute_result"
    }
   ],
   "source": [
    "test_data = pd.read_csv(\"/home/pavel/MyDocs/MachineLearning/Yandex_ML_project/lecture4/Kaggle_phonetics/test.csv\")\n",
    "test_data.head()"
   ]
  },
  {
   "cell_type": "code",
   "execution_count": 184,
   "metadata": {},
   "outputs": [
    {
     "name": "stdout",
     "output_type": "stream",
     "text": [
      "41597\n",
      "<class 'list'>\n",
      "['PITCHED', 'DISSOLVERS', 'SCRAWNY', 'BONENFANT', 'EXCEEDS', 'BARTNICKI', 'BUTE', 'CAPITULATE', 'STEAM', 'INVESTCORP']\n",
      "['HUPFER', 'LEATHERMAN', 'LUPATKIN', 'ELABORATELY', 'ARRUPE', 'INOCULATION', 'UNTO', 'SCOGIN', 'HESSION', 'TARNOWSKI']\n"
     ]
    }
   ],
   "source": [
    "x_test = list(test_data['Word'])\n",
    "print(len(x_test))\n",
    "print(type(x_test))\n",
    "print(x_test[:10])\n",
    "print(x_test[-10:])"
   ]
  },
  {
   "cell_type": "code",
   "execution_count": 185,
   "metadata": {
    "scrolled": true
   },
   "outputs": [
    {
     "name": "stdout",
     "output_type": "stream",
     "text": [
      "PITCHED\n"
     ]
    }
   ],
   "source": [
    "print(x_test[0])"
   ]
  },
  {
   "cell_type": "code",
   "execution_count": 186,
   "metadata": {},
   "outputs": [],
   "source": [
    "y_test = []"
   ]
  },
  {
   "cell_type": "code",
   "execution_count": 187,
   "metadata": {
    "scrolled": true
   },
   "outputs": [
    {
     "name": "stdout",
     "output_type": "stream",
     "text": [
      "Progress: 0 / 41597\n",
      "Progress: 1000 / 41597\n",
      "Progress: 2000 / 41597\n",
      "Progress: 3000 / 41597\n",
      "Progress: 4000 / 41597\n",
      "Progress: 5000 / 41597\n",
      "Progress: 6000 / 41597\n",
      "Progress: 7000 / 41597\n",
      "Progress: 8000 / 41597\n",
      "Progress: 9000 / 41597\n",
      "Progress: 10000 / 41597\n",
      "Progress: 11000 / 41597\n",
      "Progress: 12000 / 41597\n",
      "Progress: 13000 / 41597\n",
      "Progress: 14000 / 41597\n",
      "Progress: 15000 / 41597\n",
      "Progress: 16000 / 41597\n",
      "Progress: 17000 / 41597\n",
      "Progress: 18000 / 41597\n",
      "Progress: 19000 / 41597\n",
      "Progress: 20000 / 41597\n",
      "Progress: 21000 / 41597\n",
      "Progress: 22000 / 41597\n",
      "Progress: 23000 / 41597\n",
      "Progress: 24000 / 41597\n",
      "Progress: 25000 / 41597\n",
      "Progress: 26000 / 41597\n",
      "Progress: 27000 / 41597\n",
      "Progress: 28000 / 41597\n",
      "Progress: 29000 / 41597\n",
      "Progress: 30000 / 41597\n",
      "Progress: 31000 / 41597\n",
      "Progress: 32000 / 41597\n",
      "Progress: 33000 / 41597\n",
      "Progress: 34000 / 41597\n",
      "Progress: 35000 / 41597\n",
      "Progress: 36000 / 41597\n",
      "Progress: 37000 / 41597\n",
      "Progress: 38000 / 41597\n",
      "Progress: 39000 / 41597\n",
      "Progress: 40000 / 41597\n",
      "Progress: 41000 / 41597\n",
      "Finished!!! \n"
     ]
    }
   ],
   "source": [
    "y_test = predict(encoder1, attn_decoder1, x_test)"
   ]
  },
  {
   "cell_type": "code",
   "execution_count": 193,
   "metadata": {},
   "outputs": [],
   "source": [
    "for i in range(len(y_test)):\n",
    "    y_test[i] = y_test[i][:-1]"
   ]
  },
  {
   "cell_type": "code",
   "execution_count": 194,
   "metadata": {
    "scrolled": true
   },
   "outputs": [
    {
     "name": "stdout",
     "output_type": "stream",
     "text": [
      "['P_IH_CH_T', 'D_AY_S_AH_L_V_ER_Z', 'S_K_R_AO_N_IY', 'B_AH_N_IH_N_F_AE_N_T', 'EH_K_S_K_K_K_K_S_IH_Z', 'B_AA_R_T_N_N_IH_K_IY', 'B_UW_T', 'K_AE_P_IH_T_AH_L_EY_T', 'S_T_EH_M', 'IH_N_AH_S_T_AH_S_T_AH_P_T']\n"
     ]
    }
   ],
   "source": [
    "print(y_test[:10])"
   ]
  },
  {
   "cell_type": "code",
   "execution_count": 195,
   "metadata": {},
   "outputs": [],
   "source": [
    "submission = pd.read_csv(\"/home/pavel/MyDocs/MachineLearning/Yandex_ML_project/lecture4/Kaggle_phonetics/test.csv\")\n",
    "submission['Word'] = y_test"
   ]
  },
  {
   "cell_type": "code",
   "execution_count": 196,
   "metadata": {},
   "outputs": [
    {
     "name": "stdout",
     "output_type": "stream",
     "text": [
      "   Id                   Word\n",
      "0   1              P_IH_CH_T\n",
      "1   2     D_AY_S_AH_L_V_ER_Z\n",
      "2   3          S_K_R_AO_N_IY\n",
      "3   4   B_AH_N_IH_N_F_AE_N_T\n",
      "4   5  EH_K_S_K_K_K_K_S_IH_Z\n"
     ]
    }
   ],
   "source": [
    "print(submission.head())"
   ]
  },
  {
   "cell_type": "code",
   "execution_count": 197,
   "metadata": {},
   "outputs": [],
   "source": [
    "submission.to_csv(\"/home/pavel/MyDocs/MachineLearning/Yandex_ML_project/lecture4/Kaggle_phonetics/submission_baseline_tf=0.5_no_.csv\")"
   ]
  },
  {
   "cell_type": "code",
   "execution_count": 2,
   "metadata": {},
   "outputs": [],
   "source": [
    "import pandas as pd"
   ]
  },
  {
   "cell_type": "code",
   "execution_count": 13,
   "metadata": {},
   "outputs": [],
   "source": [
    "submission = pd.read_csv(\"/home/pavel/MyDocs/MachineLearning/Yandex_ML_project/lecture4/Kaggle_phonetics/submission_baseline.csv\")"
   ]
  },
  {
   "cell_type": "code",
   "execution_count": 14,
   "metadata": {},
   "outputs": [
    {
     "data": {
      "text/html": [
       "<div>\n",
       "<style scoped>\n",
       "    .dataframe tbody tr th:only-of-type {\n",
       "        vertical-align: middle;\n",
       "    }\n",
       "\n",
       "    .dataframe tbody tr th {\n",
       "        vertical-align: top;\n",
       "    }\n",
       "\n",
       "    .dataframe thead th {\n",
       "        text-align: right;\n",
       "    }\n",
       "</style>\n",
       "<table border=\"1\" class=\"dataframe\">\n",
       "  <thead>\n",
       "    <tr style=\"text-align: right;\">\n",
       "      <th></th>\n",
       "      <th>Id</th>\n",
       "      <th>Transcription</th>\n",
       "    </tr>\n",
       "  </thead>\n",
       "  <tbody>\n",
       "    <tr>\n",
       "      <th>0</th>\n",
       "      <td>1</td>\n",
       "      <td>P_IH_CH_T</td>\n",
       "    </tr>\n",
       "    <tr>\n",
       "      <th>1</th>\n",
       "      <td>2</td>\n",
       "      <td>D_IH_Z_OW_L_EH_R_ER_Z</td>\n",
       "    </tr>\n",
       "    <tr>\n",
       "      <th>2</th>\n",
       "      <td>3</td>\n",
       "      <td>S_K_R_AE_N_IY</td>\n",
       "    </tr>\n",
       "    <tr>\n",
       "      <th>3</th>\n",
       "      <td>4</td>\n",
       "      <td>B_OA_N_EH_N_AH_N_T</td>\n",
       "    </tr>\n",
       "    <tr>\n",
       "      <th>4</th>\n",
       "      <td>5</td>\n",
       "      <td>IH_G_Z_EY_D_Z</td>\n",
       "    </tr>\n",
       "  </tbody>\n",
       "</table>\n",
       "</div>"
      ],
      "text/plain": [
       "   Id          Transcription\n",
       "0   1              P_IH_CH_T\n",
       "1   2  D_IH_Z_OW_L_EH_R_ER_Z\n",
       "2   3          S_K_R_AE_N_IY\n",
       "3   4     B_OA_N_EH_N_AH_N_T\n",
       "4   5          IH_G_Z_EY_D_Z"
      ]
     },
     "execution_count": 14,
     "metadata": {},
     "output_type": "execute_result"
    }
   ],
   "source": [
    "submission.head()"
   ]
  },
  {
   "cell_type": "code",
   "execution_count": 20,
   "metadata": {},
   "outputs": [],
   "source": [
    "y_test = list(submission['Transcription'])"
   ]
  },
  {
   "cell_type": "code",
   "execution_count": 21,
   "metadata": {},
   "outputs": [
    {
     "data": {
      "text/plain": [
       "'AH_N_IH_N_AH_T_E_______R_L_IY'"
      ]
     },
     "execution_count": 21,
     "metadata": {},
     "output_type": "execute_result"
    }
   ],
   "source": [
    "y_test[16]"
   ]
  },
  {
   "cell_type": "code",
   "execution_count": 23,
   "metadata": {},
   "outputs": [],
   "source": [
    "for i in range(len(y_test)):\n",
    "    y_test[i].strip('_')\n",
    "    \n",
    "for i in range(len(y_test)):\n",
    "    j = 0\n",
    "    new_str = \"\"\n",
    "    while j < len(y_test[i]) - 1:\n",
    "        if y_test[i][j:j+2] == '__':\n",
    "            tmp = 1\n",
    "        else:\n",
    "            new_str += y_test[i][j]\n",
    "        j += 1\n",
    "    new_str += y_test[i][-1]\n",
    "    \n",
    "    y_test[i] = new_str"
   ]
  },
  {
   "cell_type": "code",
   "execution_count": 24,
   "metadata": {
    "scrolled": true
   },
   "outputs": [
    {
     "name": "stdout",
     "output_type": "stream",
     "text": [
      "['P_IH_CH_T', 'D_IH_Z_OW_L_EH_R_ER_Z', 'S_K_R_AE_N_IY', 'B_OA_N_EH_N_AH_N_T', 'IH_G_Z_EY_D_Z', 'B_AA_R_T_AH_N_IH_K_IY', 'B_Y_UW_T', 'K_AA_P_IH_L_AY_L_EH', 'S_T_IY_M', 'IH_N_V_EH_S_K_T_AA_R_P_K_ER']\n"
     ]
    }
   ],
   "source": [
    "print(y_test[:10])"
   ]
  },
  {
   "cell_type": "code",
   "execution_count": 25,
   "metadata": {},
   "outputs": [
    {
     "data": {
      "text/plain": [
       "'AH_N_IH_N_AH_T_E_R_L_IY'"
      ]
     },
     "execution_count": 25,
     "metadata": {},
     "output_type": "execute_result"
    }
   ],
   "source": [
    "y_test[16]"
   ]
  },
  {
   "cell_type": "code",
   "execution_count": 26,
   "metadata": {},
   "outputs": [],
   "source": [
    "submission['Transcription'] = y_test"
   ]
  },
  {
   "cell_type": "code",
   "execution_count": 28,
   "metadata": {},
   "outputs": [],
   "source": [
    "submission.to_csv(\"/home/pavel/MyDocs/MachineLearning/Yandex_ML_project/lecture4/Kaggle_phonetics/submission_baseline_1.csv\")"
   ]
  },
  {
   "cell_type": "markdown",
   "metadata": {},
   "source": [
    "#### This solution gives 30% accuracy for test data in this competition"
   ]
  }
 ],
 "metadata": {
  "kernelspec": {
   "display_name": "Python 3",
   "language": "python",
   "name": "python3"
  },
  "language_info": {
   "codemirror_mode": {
    "name": "ipython",
    "version": 3
   },
   "file_extension": ".py",
   "mimetype": "text/x-python",
   "name": "python",
   "nbconvert_exporter": "python",
   "pygments_lexer": "ipython3",
   "version": "3.6.7"
  }
 },
 "nbformat": 4,
 "nbformat_minor": 2
}
