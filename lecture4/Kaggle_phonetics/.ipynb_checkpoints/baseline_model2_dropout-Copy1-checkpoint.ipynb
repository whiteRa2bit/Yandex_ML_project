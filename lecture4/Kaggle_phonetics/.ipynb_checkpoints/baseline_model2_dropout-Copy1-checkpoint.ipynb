{
 "cells": [
  {
   "cell_type": "code",
   "execution_count": 1,
   "metadata": {},
   "outputs": [],
   "source": [
    "import re\n",
    "import os\n",
    "import random\n",
    "import numpy as np\n",
    "import gc"
   ]
  },
  {
   "cell_type": "code",
   "execution_count": 2,
   "metadata": {},
   "outputs": [
    {
     "name": "stdout",
     "output_type": "stream",
     "text": [
      "Examples in test dataset: 83194\n"
     ]
    }
   ],
   "source": [
    "train_file = open(\"/home/pavel/MyDocs/MachineLearning/Yandex_ML_project/lecture4/Kaggle_phonetics/train.txt\",\"r\")\n",
    "train = train_file.read()\n",
    "train = train.split('\\n')\n",
    "train = train[:-1]\n",
    "print(\"Examples in test dataset:\", len(train))\n",
    "x_train = [data_example.split(' ')[0] for data_example in train]\n",
    "y_train = [data_example.split(' ')[1] for data_example in train]"
   ]
  },
  {
   "cell_type": "code",
   "execution_count": 3,
   "metadata": {},
   "outputs": [],
   "source": [
    "x_train_copy = x_train.copy()\n",
    "y_train_copy = y_train.copy()"
   ]
  },
  {
   "cell_type": "code",
   "execution_count": 4,
   "metadata": {},
   "outputs": [],
   "source": [
    "x_train = x_train_copy[:83000]\n",
    "y_train = y_train_copy[:83000]\n",
    "x_test = x_train_copy[83000:]\n",
    "y_test = y_train_copy[83000:]"
   ]
  },
  {
   "cell_type": "code",
   "execution_count": 5,
   "metadata": {},
   "outputs": [],
   "source": [
    "def get_phonetic_dict(x, y):\n",
    "    phonetic_dict = {}\n",
    "    for i in range(len(x)):\n",
    "        if x[i] not in phonetic_dict:\n",
    "            phonetic_dict[x[i]] = []\n",
    "        phonetic_dict[x[i]].append(y[i])\n",
    "    return phonetic_dict"
   ]
  },
  {
   "cell_type": "code",
   "execution_count": 6,
   "metadata": {},
   "outputs": [],
   "source": [
    "phonetic_dict = get_phonetic_dict(x_train, y_train)\n",
    "example_count = np.sum([len(prons) for _, prons in phonetic_dict.items()])"
   ]
  },
  {
   "cell_type": "code",
   "execution_count": 7,
   "metadata": {},
   "outputs": [
    {
     "name": "stdout",
     "output_type": "stream",
     "text": [
      "ABDUCTOR --> AE_B_D_AH_K_T_ER\n",
      "CHEATS --> CH_IY_T_S\n",
      "CARRINGTON'S --> K_EH_R_IH_NG_T_AH_N_Z\n",
      "WOLKOFF --> W_OW_L_K_AO_F\n",
      "DUTCH --> D_AH_CH\n",
      "FLAGEOLET --> F_L_AE_JH_AH_L_EH_T\n",
      "HEP --> HH_EH_P\n",
      "CANCUN --> K_AE_NG_K_AH_N\n",
      "KROBOTH --> K_R_AA_B_AH_TH\n",
      "GAULLE --> G_AO_L\n",
      "\n",
      "After cleaning, the dictionary contains 83000 words and 83000 pronunciations (0 are alternate pronunciations).\n"
     ]
    }
   ],
   "source": [
    "print(\"\\n\".join([k+' --> '+phonetic_dict[k][0] for k in random.sample(list(phonetic_dict.keys()), 10)]))\n",
    "print('\\nAfter cleaning, the dictionary contains %s words and %s pronunciations (%s are alternate pronunciations).' % \n",
    "      (len(phonetic_dict), example_count, (example_count-len(phonetic_dict))))"
   ]
  },
  {
   "cell_type": "code",
   "execution_count": 8,
   "metadata": {
    "scrolled": true
   },
   "outputs": [
    {
     "name": "stdout",
     "output_type": "stream",
     "text": [
      "Char to id mapping: \n",
      " {'L': 0, 'E': 1, 'M': 2, 'I': 3, 'U': 4, 'X': 5, 'N': 6, 'D': 7, 'G': 8, 'S': 9, 'T': 10, 'R': 11, 'P': 12, 'K': 13, 'C': 14, 'O': 15, 'F': 16, 'A': 17, 'B': 18, 'H': 19, 'V': 20, 'Y': 21, 'W': 22, 'J': 23, \"'\": 24, 'Q': 25, 'Z': 26, '-': 27}\n",
      "Phone to id mapping: \n",
      " {'': 0, 's': 1, 'e': 2, 'L': 3, 'AH': 4, 'M': 5, 'Y': 6, 'UW': 7, 'AY': 8, 'N': 9, 'D': 10, 'IH': 11, 'NG': 12, 'S': 13, 'T': 14, 'R': 15, 'P': 16, 'K': 17, 'EH': 18, 'AA': 19, 'F': 20, 'ER': 21, 'EY': 22, 'AE': 23, 'Z': 24, 'G': 25, 'B': 26, 'SH': 27, 'V': 28, 'OW': 29, 'AO': 30, 'IY': 31, 'W': 32, 'HH': 33, 'JH': 34, 'CH': 35, 'TH': 36, 'AW': 37, 'OY': 38, 'UH': 39, 'ZH': 40, 'DH': 41}\n"
     ]
    }
   ],
   "source": [
    "import string\n",
    "\n",
    "START_PHONE_SYM = 's'\n",
    "END_PHONE_SYM = 'e'\n",
    "\n",
    "\n",
    "def char_list():\n",
    "    allowed_symbols = []\n",
    "    for word in x_train:\n",
    "        for char in word:\n",
    "            if char not in allowed_symbols:\n",
    "                allowed_symbols.append(char)\n",
    "    return allowed_symbols\n",
    "\n",
    "\n",
    "def phone_list():\n",
    "    phone_list = [START_PHONE_SYM, END_PHONE_SYM]\n",
    "    for transcription in y_train:\n",
    "        for phone in transcription.split('_'):\n",
    "            if phone not in phone_list:\n",
    "                phone_list.append(phone)\n",
    "    return [''] + phone_list\n",
    "\n",
    "\n",
    "def id_mappings_from_list(str_list):\n",
    "    str_to_id = {s: i for i, s in enumerate(str_list)} \n",
    "    id_to_str = {i: s for i, s in enumerate(str_list)}\n",
    "    return str_to_id, id_to_str\n",
    "\n",
    "\n",
    "# Create character to ID mappings\n",
    "char_to_id, id_to_char = id_mappings_from_list(char_list())\n",
    "\n",
    "# Load phonetic symbols and create ID mappings\n",
    "phone_to_id, id_to_phone = id_mappings_from_list(phone_list())\n",
    "\n",
    "# Example:\n",
    "print('Char to id mapping: \\n', char_to_id)\n",
    "print('Phone to id mapping: \\n', phone_to_id)"
   ]
  },
  {
   "cell_type": "code",
   "execution_count": 9,
   "metadata": {},
   "outputs": [
    {
     "name": "stdout",
     "output_type": "stream",
     "text": [
      "\"A\" is represented by:\n",
      " [0. 0. 0. 0. 0. 0. 0. 0. 0. 0. 0. 0. 0. 0. 0. 0. 0. 1. 0. 0. 0. 0. 0. 0.\n",
      " 0. 0. 0. 0.] \n",
      "-----\n",
      "\"AH\" is represented by:\n",
      " [0. 0. 0. 0. 1. 0. 0. 0. 0. 0. 0. 0. 0. 0. 0. 0. 0. 0. 0. 0. 0. 0. 0. 0.\n",
      " 0. 0. 0. 0. 0. 0. 0. 0. 0. 0. 0. 0. 0. 0. 0. 0. 0. 0.]\n"
     ]
    }
   ],
   "source": [
    "CHAR_TOKEN_COUNT = len(char_to_id)\n",
    "PHONE_TOKEN_COUNT = len(phone_to_id)\n",
    "\n",
    "\n",
    "def char_to_1_hot(char):\n",
    "    char_id = char_to_id[char]\n",
    "    hot_vec = np.zeros((CHAR_TOKEN_COUNT))\n",
    "    hot_vec[char_id] = 1.\n",
    "    return hot_vec\n",
    "\n",
    "\n",
    "def phone_to_1_hot(phone):\n",
    "    phone_id = phone_to_id[phone]\n",
    "    hot_vec = np.zeros((PHONE_TOKEN_COUNT))\n",
    "    hot_vec[phone_id] = 1.\n",
    "    return hot_vec\n",
    "\n",
    "# Example:\n",
    "print('\"A\" is represented by:\\n', char_to_1_hot('A'), '\\n-----')\n",
    "print('\"AH\" is represented by:\\n', phone_to_1_hot('AH'))"
   ]
  },
  {
   "cell_type": "code",
   "execution_count": 10,
   "metadata": {},
   "outputs": [
    {
     "data": {
      "text/plain": [
       "0"
      ]
     },
     "execution_count": 10,
     "metadata": {},
     "output_type": "execute_result"
    }
   ],
   "source": [
    "gc.collect()"
   ]
  },
  {
   "cell_type": "code",
   "execution_count": 11,
   "metadata": {},
   "outputs": [
    {
     "name": "stdout",
     "output_type": "stream",
     "text": [
      "Word Matrix Shape:  (83000, 34, 28)\n",
      "Pronunciation Matrix Shape:  (83000, 34, 42)\n"
     ]
    }
   ],
   "source": [
    "MAX_CHAR_SEQ_LEN = max([len(word) for word, _ in phonetic_dict.items()])\n",
    "MAX_PHONE_SEQ_LEN = max([max([len(pron.split('_')) for pron in pronuns]) \n",
    "                         for _, pronuns in phonetic_dict.items()]\n",
    "                       ) + 2  # + 2 to account for the start & end tokens we need to add\n",
    "\n",
    "\n",
    "def dataset_to_1_hot_tensors():\n",
    "    char_seqs = []\n",
    "    phone_seqs = []\n",
    "    \n",
    "    for word, pronuns in phonetic_dict.items():\n",
    "        word_matrix = np.zeros((MAX_CHAR_SEQ_LEN, CHAR_TOKEN_COUNT))\n",
    "        for t, char in enumerate(word):\n",
    "            word_matrix[t, :] = char_to_1_hot(char)\n",
    "        for pronun in pronuns:\n",
    "            pronun_matrix = np.zeros((MAX_PHONE_SEQ_LEN, PHONE_TOKEN_COUNT))\n",
    "            phones = [START_PHONE_SYM] + pronun.split('_') + [END_PHONE_SYM]\n",
    "            for t, phone in enumerate(phones):\n",
    "                pronun_matrix[t,:] = phone_to_1_hot(phone)\n",
    "                \n",
    "            char_seqs.append(word_matrix)\n",
    "            phone_seqs.append(pronun_matrix)\n",
    "    \n",
    "    return np.array(char_seqs), np.array(phone_seqs)\n",
    "            \n",
    "\n",
    "char_seq_matrix, phone_seq_matrix = dataset_to_1_hot_tensors()        \n",
    "print('Word Matrix Shape: ', char_seq_matrix.shape)\n",
    "print('Pronunciation Matrix Shape: ', phone_seq_matrix.shape)"
   ]
  },
  {
   "cell_type": "code",
   "execution_count": 12,
   "metadata": {},
   "outputs": [
    {
     "data": {
      "text/plain": [
       "0"
      ]
     },
     "execution_count": 12,
     "metadata": {},
     "output_type": "execute_result"
    }
   ],
   "source": [
    "gc.collect()"
   ]
  },
  {
   "cell_type": "markdown",
   "metadata": {},
   "source": [
    "### Model"
   ]
  },
  {
   "cell_type": "code",
   "execution_count": 13,
   "metadata": {},
   "outputs": [],
   "source": [
    "phone_seq_matrix_decoder_output = np.pad(phone_seq_matrix,((0,0),(0,1),(0,0)), mode='constant')[:,1:,:]"
   ]
  },
  {
   "cell_type": "code",
   "execution_count": 15,
   "metadata": {},
   "outputs": [],
   "source": [
    "from keras.models import Model\n",
    "from keras.layers import Input, LSTM, Dense, Dropout\n",
    "\n",
    "def baseline_model(hidden_nodes = 256):\n",
    "    \n",
    "    # Shared Components - Encoder\n",
    "    char_inputs = Input(shape=(None, CHAR_TOKEN_COUNT))\n",
    "    encoder = LSTM(hidden_nodes, return_state=True, recurrent_dropout=0.1)\n",
    "    \n",
    "    # Shared Components - Decoder\n",
    "    phone_inputs = Input(shape=(None, PHONE_TOKEN_COUNT))\n",
    "    decoder = LSTM(hidden_nodes, return_sequences=True, return_state=True)\n",
    "    decoder_dense = Dense(PHONE_TOKEN_COUNT, activation='softmax')\n",
    "    \n",
    "    # Training Model\n",
    "    _, state_h, state_c = encoder(char_inputs) # notice encoder outputs are ignored\n",
    "    encoder_states = [state_h, state_c]\n",
    "    decoder_outputs, _, _ = decoder(phone_inputs, initial_state=encoder_states)\n",
    "    decoder_outputs = Dropout(0.5)(decoder_outputs)\n",
    "    phone_prediction = decoder_dense(decoder_outputs)\n",
    "\n",
    "    training_model = Model([char_inputs, phone_inputs], phone_prediction)\n",
    "    \n",
    "    # Testing Model - Encoder\n",
    "    testing_encoder_model = Model(char_inputs, encoder_states)\n",
    "    \n",
    "    # Testing Model - Decoder\n",
    "    decoder_state_input_h = Input(shape=(hidden_nodes,))\n",
    "    decoder_state_input_c = Input(shape=(hidden_nodes,))\n",
    "    decoder_state_inputs = [decoder_state_input_h, decoder_state_input_c]\n",
    "    decoder_outputs, decoder_state_h, decoder_state_c = decoder(phone_inputs, initial_state=decoder_state_inputs)\n",
    "    decoder_states = [decoder_state_h, decoder_state_c]\n",
    "    phone_prediction = decoder_dense(decoder_outputs)\n",
    "    \n",
    "    testing_decoder_model = Model([phone_inputs] + decoder_state_inputs, [phone_prediction] + decoder_states)\n",
    "    \n",
    "    return training_model, testing_encoder_model, testing_decoder_model"
   ]
  },
  {
   "cell_type": "code",
   "execution_count": 16,
   "metadata": {},
   "outputs": [
    {
     "data": {
      "text/plain": [
       "0"
      ]
     },
     "execution_count": 16,
     "metadata": {},
     "output_type": "execute_result"
    }
   ],
   "source": [
    "gc.collect()"
   ]
  },
  {
   "cell_type": "code",
   "execution_count": 17,
   "metadata": {},
   "outputs": [],
   "source": [
    "from sklearn.model_selection import train_test_split\n",
    "\n",
    "TEST_SIZE = 0\n",
    "    \n",
    "(char_input_train, char_input_test, \n",
    " phone_input_train, phone_input_test, \n",
    " phone_output_train, phone_output_test) = train_test_split(\n",
    "    char_seq_matrix, phone_seq_matrix, phone_seq_matrix_decoder_output, \n",
    "    test_size=TEST_SIZE, random_state=42)\n",
    "\n",
    "TEST_EXAMPLE_COUNT = char_input_test.shape[0]"
   ]
  },
  {
   "cell_type": "code",
   "execution_count": 18,
   "metadata": {},
   "outputs": [],
   "source": [
    "from keras.callbacks import ModelCheckpoint, EarlyStopping\n",
    "\n",
    "def train(model, weights_path, encoder_input, decoder_input, decoder_output):\n",
    "    checkpointer = ModelCheckpoint(filepath=weights_path, verbose=1, save_best_only=True)\n",
    "    stopper = EarlyStopping(monitor='val_loss',patience=8)\n",
    "    \n",
    "    model.compile(optimizer='adam', loss='categorical_crossentropy')\n",
    "    model.fit([encoder_input, decoder_input], decoder_output,\n",
    "          batch_size=256,\n",
    "          epochs=80,\n",
    "          validation_split=0.02, # Keras will automatically create a validation set for us\n",
    "          callbacks=[checkpointer, stopper])"
   ]
  },
  {
   "cell_type": "code",
   "execution_count": 19,
   "metadata": {},
   "outputs": [
    {
     "name": "stdout",
     "output_type": "stream",
     "text": [
      "Train on 81340 samples, validate on 1660 samples\n",
      "Epoch 1/80\n",
      "81340/81340 [==============================] - 189s 2ms/step - loss: 0.6141 - val_loss: 0.5234\n",
      "\n",
      "Epoch 00001: val_loss improved from inf to 0.52343, saving model to /home/pavel/MyDocs/MachineLearning/Yandex_ML_project/lecture4/Kaggle_phonetics/baseline_model_weights_dropout.hdf5\n"
     ]
    },
    {
     "name": "stderr",
     "output_type": "stream",
     "text": [
      "/home/pavel/anaconda3/envs/py36/lib/python3.6/site-packages/keras/engine/network.py:888: UserWarning: Layer lstm_2 was passed non-serializable keyword arguments: {'initial_state': [<tf.Tensor 'lstm_1/while/Exit_2:0' shape=(?, 256) dtype=float32>, <tf.Tensor 'lstm_1/while/Exit_3:0' shape=(?, 256) dtype=float32>]}. They will not be included in the serialized model (and thus will be missing at deserialization time).\n",
      "  '. They will not be included '\n"
     ]
    },
    {
     "name": "stdout",
     "output_type": "stream",
     "text": [
      "Epoch 2/80\n",
      "81340/81340 [==============================] - 191s 2ms/step - loss: 0.5189 - val_loss: 0.4640\n",
      "\n",
      "Epoch 00002: val_loss improved from 0.52343 to 0.46402, saving model to /home/pavel/MyDocs/MachineLearning/Yandex_ML_project/lecture4/Kaggle_phonetics/baseline_model_weights_dropout.hdf5\n",
      "Epoch 3/80\n",
      "81340/81340 [==============================] - 192s 2ms/step - loss: 0.4706 - val_loss: 0.4320\n",
      "\n",
      "Epoch 00003: val_loss improved from 0.46402 to 0.43201, saving model to /home/pavel/MyDocs/MachineLearning/Yandex_ML_project/lecture4/Kaggle_phonetics/baseline_model_weights_dropout.hdf5\n",
      "Epoch 4/80\n",
      "81340/81340 [==============================] - 193s 2ms/step - loss: 0.4454 - val_loss: 0.4044\n",
      "\n",
      "Epoch 00004: val_loss improved from 0.43201 to 0.40443, saving model to /home/pavel/MyDocs/MachineLearning/Yandex_ML_project/lecture4/Kaggle_phonetics/baseline_model_weights_dropout.hdf5\n",
      "Epoch 5/80\n",
      "81340/81340 [==============================] - 194s 2ms/step - loss: 0.4162 - val_loss: 0.3738\n",
      "\n",
      "Epoch 00005: val_loss improved from 0.40443 to 0.37382, saving model to /home/pavel/MyDocs/MachineLearning/Yandex_ML_project/lecture4/Kaggle_phonetics/baseline_model_weights_dropout.hdf5\n",
      "Epoch 6/80\n",
      "81340/81340 [==============================] - 194s 2ms/step - loss: 0.3862 - val_loss: 0.3271\n",
      "\n",
      "Epoch 00006: val_loss improved from 0.37382 to 0.32710, saving model to /home/pavel/MyDocs/MachineLearning/Yandex_ML_project/lecture4/Kaggle_phonetics/baseline_model_weights_dropout.hdf5\n",
      "Epoch 7/80\n",
      "81340/81340 [==============================] - 195s 2ms/step - loss: 0.3418 - val_loss: 0.2896\n",
      "\n",
      "Epoch 00007: val_loss improved from 0.32710 to 0.28964, saving model to /home/pavel/MyDocs/MachineLearning/Yandex_ML_project/lecture4/Kaggle_phonetics/baseline_model_weights_dropout.hdf5\n",
      "Epoch 8/80\n",
      "81340/81340 [==============================] - 194s 2ms/step - loss: 0.2969 - val_loss: 0.2389\n",
      "\n",
      "Epoch 00008: val_loss improved from 0.28964 to 0.23894, saving model to /home/pavel/MyDocs/MachineLearning/Yandex_ML_project/lecture4/Kaggle_phonetics/baseline_model_weights_dropout.hdf5\n",
      "Epoch 9/80\n",
      "81340/81340 [==============================] - 195s 2ms/step - loss: 0.2554 - val_loss: 0.2077\n",
      "\n",
      "Epoch 00009: val_loss improved from 0.23894 to 0.20774, saving model to /home/pavel/MyDocs/MachineLearning/Yandex_ML_project/lecture4/Kaggle_phonetics/baseline_model_weights_dropout.hdf5\n",
      "Epoch 10/80\n",
      "81340/81340 [==============================] - 196s 2ms/step - loss: 0.2249 - val_loss: 0.1817\n",
      "\n",
      "Epoch 00010: val_loss improved from 0.20774 to 0.18166, saving model to /home/pavel/MyDocs/MachineLearning/Yandex_ML_project/lecture4/Kaggle_phonetics/baseline_model_weights_dropout.hdf5\n",
      "Epoch 11/80\n",
      "81340/81340 [==============================] - 195s 2ms/step - loss: 0.2008 - val_loss: 0.1590\n",
      "\n",
      "Epoch 00011: val_loss improved from 0.18166 to 0.15903, saving model to /home/pavel/MyDocs/MachineLearning/Yandex_ML_project/lecture4/Kaggle_phonetics/baseline_model_weights_dropout.hdf5\n",
      "Epoch 12/80\n",
      "81340/81340 [==============================] - 195s 2ms/step - loss: 0.1824 - val_loss: 0.1456\n",
      "\n",
      "Epoch 00012: val_loss improved from 0.15903 to 0.14560, saving model to /home/pavel/MyDocs/MachineLearning/Yandex_ML_project/lecture4/Kaggle_phonetics/baseline_model_weights_dropout.hdf5\n",
      "Epoch 13/80\n",
      "81340/81340 [==============================] - 196s 2ms/step - loss: 0.1681 - val_loss: 0.1342\n",
      "\n",
      "Epoch 00013: val_loss improved from 0.14560 to 0.13425, saving model to /home/pavel/MyDocs/MachineLearning/Yandex_ML_project/lecture4/Kaggle_phonetics/baseline_model_weights_dropout.hdf5\n",
      "Epoch 14/80\n",
      "81340/81340 [==============================] - 196s 2ms/step - loss: 0.1567 - val_loss: 0.1249\n",
      "\n",
      "Epoch 00014: val_loss improved from 0.13425 to 0.12493, saving model to /home/pavel/MyDocs/MachineLearning/Yandex_ML_project/lecture4/Kaggle_phonetics/baseline_model_weights_dropout.hdf5\n",
      "Epoch 15/80\n",
      "81340/81340 [==============================] - 196s 2ms/step - loss: 0.1461 - val_loss: 0.1187\n",
      "\n",
      "Epoch 00015: val_loss improved from 0.12493 to 0.11866, saving model to /home/pavel/MyDocs/MachineLearning/Yandex_ML_project/lecture4/Kaggle_phonetics/baseline_model_weights_dropout.hdf5\n",
      "Epoch 16/80\n",
      "81340/81340 [==============================] - 197s 2ms/step - loss: 0.1377 - val_loss: 0.1090\n",
      "\n",
      "Epoch 00016: val_loss improved from 0.11866 to 0.10902, saving model to /home/pavel/MyDocs/MachineLearning/Yandex_ML_project/lecture4/Kaggle_phonetics/baseline_model_weights_dropout.hdf5\n",
      "Epoch 17/80\n",
      "81340/81340 [==============================] - 196s 2ms/step - loss: 0.1295 - val_loss: 0.1033\n",
      "\n",
      "Epoch 00017: val_loss improved from 0.10902 to 0.10332, saving model to /home/pavel/MyDocs/MachineLearning/Yandex_ML_project/lecture4/Kaggle_phonetics/baseline_model_weights_dropout.hdf5\n",
      "Epoch 18/80\n",
      "81340/81340 [==============================] - 197s 2ms/step - loss: 0.1229 - val_loss: 0.0966\n",
      "\n",
      "Epoch 00018: val_loss improved from 0.10332 to 0.09663, saving model to /home/pavel/MyDocs/MachineLearning/Yandex_ML_project/lecture4/Kaggle_phonetics/baseline_model_weights_dropout.hdf5\n",
      "Epoch 19/80\n",
      "81340/81340 [==============================] - 201s 2ms/step - loss: 0.1164 - val_loss: 0.0919\n",
      "\n",
      "Epoch 00019: val_loss improved from 0.09663 to 0.09194, saving model to /home/pavel/MyDocs/MachineLearning/Yandex_ML_project/lecture4/Kaggle_phonetics/baseline_model_weights_dropout.hdf5\n",
      "Epoch 20/80\n",
      "81340/81340 [==============================] - 199s 2ms/step - loss: 0.1115 - val_loss: 0.0875\n",
      "\n",
      "Epoch 00020: val_loss improved from 0.09194 to 0.08751, saving model to /home/pavel/MyDocs/MachineLearning/Yandex_ML_project/lecture4/Kaggle_phonetics/baseline_model_weights_dropout.hdf5\n",
      "Epoch 21/80\n",
      "81340/81340 [==============================] - 196s 2ms/step - loss: 0.1069 - val_loss: 0.0851\n",
      "\n",
      "Epoch 00021: val_loss improved from 0.08751 to 0.08515, saving model to /home/pavel/MyDocs/MachineLearning/Yandex_ML_project/lecture4/Kaggle_phonetics/baseline_model_weights_dropout.hdf5\n",
      "Epoch 22/80\n",
      "81340/81340 [==============================] - 195s 2ms/step - loss: 0.1028 - val_loss: 0.0832\n",
      "\n",
      "Epoch 00022: val_loss improved from 0.08515 to 0.08324, saving model to /home/pavel/MyDocs/MachineLearning/Yandex_ML_project/lecture4/Kaggle_phonetics/baseline_model_weights_dropout.hdf5\n",
      "Epoch 23/80\n",
      "81340/81340 [==============================] - 194s 2ms/step - loss: 0.0989 - val_loss: 0.0791\n",
      "\n",
      "Epoch 00023: val_loss improved from 0.08324 to 0.07910, saving model to /home/pavel/MyDocs/MachineLearning/Yandex_ML_project/lecture4/Kaggle_phonetics/baseline_model_weights_dropout.hdf5\n",
      "Epoch 24/80\n",
      "81340/81340 [==============================] - 194s 2ms/step - loss: 0.0953 - val_loss: 0.0769\n",
      "\n",
      "Epoch 00024: val_loss improved from 0.07910 to 0.07691, saving model to /home/pavel/MyDocs/MachineLearning/Yandex_ML_project/lecture4/Kaggle_phonetics/baseline_model_weights_dropout.hdf5\n",
      "Epoch 25/80\n",
      "81340/81340 [==============================] - 194s 2ms/step - loss: 0.0927 - val_loss: 0.0749\n",
      "\n",
      "Epoch 00025: val_loss improved from 0.07691 to 0.07487, saving model to /home/pavel/MyDocs/MachineLearning/Yandex_ML_project/lecture4/Kaggle_phonetics/baseline_model_weights_dropout.hdf5\n",
      "Epoch 26/80\n",
      "81340/81340 [==============================] - 194s 2ms/step - loss: 0.0897 - val_loss: 0.0715\n",
      "\n",
      "Epoch 00026: val_loss improved from 0.07487 to 0.07147, saving model to /home/pavel/MyDocs/MachineLearning/Yandex_ML_project/lecture4/Kaggle_phonetics/baseline_model_weights_dropout.hdf5\n",
      "Epoch 27/80\n",
      "81340/81340 [==============================] - 194s 2ms/step - loss: 0.0871 - val_loss: 0.0709\n",
      "\n",
      "Epoch 00027: val_loss improved from 0.07147 to 0.07088, saving model to /home/pavel/MyDocs/MachineLearning/Yandex_ML_project/lecture4/Kaggle_phonetics/baseline_model_weights_dropout.hdf5\n",
      "Epoch 28/80\n",
      "81340/81340 [==============================] - 194s 2ms/step - loss: 0.0845 - val_loss: 0.0701\n",
      "\n",
      "Epoch 00028: val_loss improved from 0.07088 to 0.07006, saving model to /home/pavel/MyDocs/MachineLearning/Yandex_ML_project/lecture4/Kaggle_phonetics/baseline_model_weights_dropout.hdf5\n",
      "Epoch 29/80\n",
      "81340/81340 [==============================] - 194s 2ms/step - loss: 0.0825 - val_loss: 0.0669\n",
      "\n",
      "Epoch 00029: val_loss improved from 0.07006 to 0.06688, saving model to /home/pavel/MyDocs/MachineLearning/Yandex_ML_project/lecture4/Kaggle_phonetics/baseline_model_weights_dropout.hdf5\n",
      "Epoch 30/80\n"
     ]
    },
    {
     "name": "stdout",
     "output_type": "stream",
     "text": [
      "81340/81340 [==============================] - 192s 2ms/step - loss: 0.0802 - val_loss: 0.0662\n",
      "\n",
      "Epoch 00030: val_loss improved from 0.06688 to 0.06621, saving model to /home/pavel/MyDocs/MachineLearning/Yandex_ML_project/lecture4/Kaggle_phonetics/baseline_model_weights_dropout.hdf5\n",
      "Epoch 31/80\n",
      "81340/81340 [==============================] - 192s 2ms/step - loss: 0.0784 - val_loss: 0.0658\n",
      "\n",
      "Epoch 00031: val_loss improved from 0.06621 to 0.06579, saving model to /home/pavel/MyDocs/MachineLearning/Yandex_ML_project/lecture4/Kaggle_phonetics/baseline_model_weights_dropout.hdf5\n",
      "Epoch 32/80\n",
      "81340/81340 [==============================] - 193s 2ms/step - loss: 0.0765 - val_loss: 0.0644\n",
      "\n",
      "Epoch 00032: val_loss improved from 0.06579 to 0.06438, saving model to /home/pavel/MyDocs/MachineLearning/Yandex_ML_project/lecture4/Kaggle_phonetics/baseline_model_weights_dropout.hdf5\n",
      "Epoch 33/80\n",
      "81340/81340 [==============================] - 194s 2ms/step - loss: 0.0745 - val_loss: 0.0636\n",
      "\n",
      "Epoch 00033: val_loss improved from 0.06438 to 0.06359, saving model to /home/pavel/MyDocs/MachineLearning/Yandex_ML_project/lecture4/Kaggle_phonetics/baseline_model_weights_dropout.hdf5\n",
      "Epoch 34/80\n",
      "81340/81340 [==============================] - 192s 2ms/step - loss: 0.0730 - val_loss: 0.0627\n",
      "\n",
      "Epoch 00034: val_loss improved from 0.06359 to 0.06271, saving model to /home/pavel/MyDocs/MachineLearning/Yandex_ML_project/lecture4/Kaggle_phonetics/baseline_model_weights_dropout.hdf5\n",
      "Epoch 35/80\n",
      "81340/81340 [==============================] - 193s 2ms/step - loss: 0.0715 - val_loss: 0.0621\n",
      "\n",
      "Epoch 00035: val_loss improved from 0.06271 to 0.06211, saving model to /home/pavel/MyDocs/MachineLearning/Yandex_ML_project/lecture4/Kaggle_phonetics/baseline_model_weights_dropout.hdf5\n",
      "Epoch 36/80\n",
      "81340/81340 [==============================] - 193s 2ms/step - loss: 0.0698 - val_loss: 0.0607\n",
      "\n",
      "Epoch 00036: val_loss improved from 0.06211 to 0.06067, saving model to /home/pavel/MyDocs/MachineLearning/Yandex_ML_project/lecture4/Kaggle_phonetics/baseline_model_weights_dropout.hdf5\n",
      "Epoch 37/80\n",
      "81340/81340 [==============================] - 194s 2ms/step - loss: 0.0686 - val_loss: 0.0603\n",
      "\n",
      "Epoch 00037: val_loss improved from 0.06067 to 0.06027, saving model to /home/pavel/MyDocs/MachineLearning/Yandex_ML_project/lecture4/Kaggle_phonetics/baseline_model_weights_dropout.hdf5\n",
      "Epoch 38/80\n",
      "81340/81340 [==============================] - 193s 2ms/step - loss: 0.0673 - val_loss: 0.0609\n",
      "\n",
      "Epoch 00038: val_loss did not improve from 0.06027\n",
      "Epoch 39/80\n",
      "81340/81340 [==============================] - 193s 2ms/step - loss: 0.0658 - val_loss: 0.0593\n",
      "\n",
      "Epoch 00039: val_loss improved from 0.06027 to 0.05927, saving model to /home/pavel/MyDocs/MachineLearning/Yandex_ML_project/lecture4/Kaggle_phonetics/baseline_model_weights_dropout.hdf5\n",
      "Epoch 40/80\n",
      "81340/81340 [==============================] - 193s 2ms/step - loss: 0.0645 - val_loss: 0.0581\n",
      "\n",
      "Epoch 00040: val_loss improved from 0.05927 to 0.05812, saving model to /home/pavel/MyDocs/MachineLearning/Yandex_ML_project/lecture4/Kaggle_phonetics/baseline_model_weights_dropout.hdf5\n",
      "Epoch 41/80\n",
      "81340/81340 [==============================] - 193s 2ms/step - loss: 0.0636 - val_loss: 0.0574\n",
      "\n",
      "Epoch 00041: val_loss improved from 0.05812 to 0.05744, saving model to /home/pavel/MyDocs/MachineLearning/Yandex_ML_project/lecture4/Kaggle_phonetics/baseline_model_weights_dropout.hdf5\n",
      "Epoch 42/80\n",
      "81340/81340 [==============================] - 193s 2ms/step - loss: 0.0624 - val_loss: 0.0563\n",
      "\n",
      "Epoch 00042: val_loss improved from 0.05744 to 0.05635, saving model to /home/pavel/MyDocs/MachineLearning/Yandex_ML_project/lecture4/Kaggle_phonetics/baseline_model_weights_dropout.hdf5\n",
      "Epoch 43/80\n",
      "81340/81340 [==============================] - 197s 2ms/step - loss: 0.0615 - val_loss: 0.0562\n",
      "\n",
      "Epoch 00043: val_loss improved from 0.05635 to 0.05618, saving model to /home/pavel/MyDocs/MachineLearning/Yandex_ML_project/lecture4/Kaggle_phonetics/baseline_model_weights_dropout.hdf5\n",
      "Epoch 44/80\n",
      "81340/81340 [==============================] - 200s 2ms/step - loss: 0.0600 - val_loss: 0.0559\n",
      "\n",
      "Epoch 00044: val_loss improved from 0.05618 to 0.05586, saving model to /home/pavel/MyDocs/MachineLearning/Yandex_ML_project/lecture4/Kaggle_phonetics/baseline_model_weights_dropout.hdf5\n",
      "Epoch 45/80\n",
      "81340/81340 [==============================] - 201s 2ms/step - loss: 0.0591 - val_loss: 0.0552\n",
      "\n",
      "Epoch 00045: val_loss improved from 0.05586 to 0.05516, saving model to /home/pavel/MyDocs/MachineLearning/Yandex_ML_project/lecture4/Kaggle_phonetics/baseline_model_weights_dropout.hdf5\n",
      "Epoch 46/80\n",
      "81340/81340 [==============================] - 202s 2ms/step - loss: 0.0582 - val_loss: 0.0547\n",
      "\n",
      "Epoch 00046: val_loss improved from 0.05516 to 0.05471, saving model to /home/pavel/MyDocs/MachineLearning/Yandex_ML_project/lecture4/Kaggle_phonetics/baseline_model_weights_dropout.hdf5\n",
      "Epoch 47/80\n",
      "81340/81340 [==============================] - 203s 2ms/step - loss: 0.0573 - val_loss: 0.0547\n",
      "\n",
      "Epoch 00047: val_loss improved from 0.05471 to 0.05465, saving model to /home/pavel/MyDocs/MachineLearning/Yandex_ML_project/lecture4/Kaggle_phonetics/baseline_model_weights_dropout.hdf5\n",
      "Epoch 48/80\n",
      "81340/81340 [==============================] - 204s 3ms/step - loss: 0.0565 - val_loss: 0.0558\n",
      "\n",
      "Epoch 00048: val_loss did not improve from 0.05465\n",
      "Epoch 49/80\n",
      "81340/81340 [==============================] - 204s 3ms/step - loss: 0.0556 - val_loss: 0.0547\n",
      "\n",
      "Epoch 00049: val_loss did not improve from 0.05465\n",
      "Epoch 50/80\n",
      "81340/81340 [==============================] - 204s 3ms/step - loss: 0.0545 - val_loss: 0.0529\n",
      "\n",
      "Epoch 00050: val_loss improved from 0.05465 to 0.05286, saving model to /home/pavel/MyDocs/MachineLearning/Yandex_ML_project/lecture4/Kaggle_phonetics/baseline_model_weights_dropout.hdf5\n",
      "Epoch 51/80\n",
      "81340/81340 [==============================] - 205s 3ms/step - loss: 0.0538 - val_loss: 0.0541\n",
      "\n",
      "Epoch 00051: val_loss did not improve from 0.05286\n",
      "Epoch 52/80\n",
      "81340/81340 [==============================] - 204s 3ms/step - loss: 0.0530 - val_loss: 0.0537\n",
      "\n",
      "Epoch 00052: val_loss did not improve from 0.05286\n",
      "Epoch 53/80\n",
      "81340/81340 [==============================] - 211s 3ms/step - loss: 0.0523 - val_loss: 0.0523\n",
      "\n",
      "Epoch 00053: val_loss improved from 0.05286 to 0.05233, saving model to /home/pavel/MyDocs/MachineLearning/Yandex_ML_project/lecture4/Kaggle_phonetics/baseline_model_weights_dropout.hdf5\n",
      "Epoch 54/80\n",
      "81340/81340 [==============================] - 200s 2ms/step - loss: 0.0515 - val_loss: 0.0519\n",
      "\n",
      "Epoch 00054: val_loss improved from 0.05233 to 0.05192, saving model to /home/pavel/MyDocs/MachineLearning/Yandex_ML_project/lecture4/Kaggle_phonetics/baseline_model_weights_dropout.hdf5\n",
      "Epoch 55/80\n",
      "81340/81340 [==============================] - 198s 2ms/step - loss: 0.0512 - val_loss: 0.0517\n",
      "\n",
      "Epoch 00055: val_loss improved from 0.05192 to 0.05165, saving model to /home/pavel/MyDocs/MachineLearning/Yandex_ML_project/lecture4/Kaggle_phonetics/baseline_model_weights_dropout.hdf5\n",
      "Epoch 56/80\n",
      "81340/81340 [==============================] - 198s 2ms/step - loss: 0.0500 - val_loss: 0.0526\n",
      "\n",
      "Epoch 00056: val_loss did not improve from 0.05165\n",
      "Epoch 57/80\n",
      "81340/81340 [==============================] - 198s 2ms/step - loss: 0.0499 - val_loss: 0.0513\n",
      "\n",
      "Epoch 00057: val_loss improved from 0.05165 to 0.05135, saving model to /home/pavel/MyDocs/MachineLearning/Yandex_ML_project/lecture4/Kaggle_phonetics/baseline_model_weights_dropout.hdf5\n",
      "Epoch 58/80\n",
      "81340/81340 [==============================] - 197s 2ms/step - loss: 0.0490 - val_loss: 0.0517\n",
      "\n",
      "Epoch 00058: val_loss did not improve from 0.05135\n",
      "Epoch 59/80\n",
      "81340/81340 [==============================] - 197s 2ms/step - loss: 0.0483 - val_loss: 0.0517\n",
      "\n",
      "Epoch 00059: val_loss did not improve from 0.05135\n",
      "Epoch 60/80\n",
      "81340/81340 [==============================] - 198s 2ms/step - loss: 0.0479 - val_loss: 0.0533\n",
      "\n",
      "Epoch 00060: val_loss did not improve from 0.05135\n",
      "Epoch 61/80\n",
      "81340/81340 [==============================] - 197s 2ms/step - loss: 0.0473 - val_loss: 0.0510\n",
      "\n",
      "Epoch 00061: val_loss improved from 0.05135 to 0.05096, saving model to /home/pavel/MyDocs/MachineLearning/Yandex_ML_project/lecture4/Kaggle_phonetics/baseline_model_weights_dropout.hdf5\n",
      "Epoch 62/80\n"
     ]
    },
    {
     "name": "stdout",
     "output_type": "stream",
     "text": [
      "81340/81340 [==============================] - 193s 2ms/step - loss: 0.0466 - val_loss: 0.0497\n",
      "\n",
      "Epoch 00062: val_loss improved from 0.05096 to 0.04972, saving model to /home/pavel/MyDocs/MachineLearning/Yandex_ML_project/lecture4/Kaggle_phonetics/baseline_model_weights_dropout.hdf5\n",
      "Epoch 63/80\n",
      "81340/81340 [==============================] - 194s 2ms/step - loss: 0.0462 - val_loss: 0.0511\n",
      "\n",
      "Epoch 00063: val_loss did not improve from 0.04972\n",
      "Epoch 64/80\n",
      "81340/81340 [==============================] - 204s 3ms/step - loss: 0.0456 - val_loss: 0.0505\n",
      "\n",
      "Epoch 00064: val_loss did not improve from 0.04972\n",
      "Epoch 65/80\n",
      "81340/81340 [==============================] - 205s 3ms/step - loss: 0.0451 - val_loss: 0.0513\n",
      "\n",
      "Epoch 00065: val_loss did not improve from 0.04972\n",
      "Epoch 66/80\n",
      "81340/81340 [==============================] - 214s 3ms/step - loss: 0.0446 - val_loss: 0.0507\n",
      "\n",
      "Epoch 00066: val_loss did not improve from 0.04972\n",
      "Epoch 67/80\n",
      "81340/81340 [==============================] - 205s 3ms/step - loss: 0.0441 - val_loss: 0.0501\n",
      "\n",
      "Epoch 00067: val_loss did not improve from 0.04972\n",
      "Epoch 68/80\n",
      "81340/81340 [==============================] - 205s 3ms/step - loss: 0.0435 - val_loss: 0.0505\n",
      "\n",
      "Epoch 00068: val_loss did not improve from 0.04972\n",
      "Epoch 69/80\n",
      "81340/81340 [==============================] - 205s 3ms/step - loss: 0.0432 - val_loss: 0.0519\n",
      "\n",
      "Epoch 00069: val_loss did not improve from 0.04972\n",
      "Epoch 70/80\n",
      "81340/81340 [==============================] - 205s 3ms/step - loss: 0.0426 - val_loss: 0.0511\n",
      "\n",
      "Epoch 00070: val_loss did not improve from 0.04972\n"
     ]
    }
   ],
   "source": [
    "BASELINE_MODEL_WEIGHTS = \"/home/pavel/MyDocs/MachineLearning/Yandex_ML_project/lecture4/Kaggle_phonetics/baseline_model_weights_dropout.hdf5\"\n",
    "training_model, testing_encoder_model, testing_decoder_model = baseline_model()\n",
    "\n",
    "train(training_model, BASELINE_MODEL_WEIGHTS, char_input_train, phone_input_train, phone_output_train)"
   ]
  },
  {
   "cell_type": "code",
   "execution_count": 20,
   "metadata": {},
   "outputs": [],
   "source": [
    "def predict_baseline(input_char_seq, encoder, decoder):\n",
    "    state_vectors = encoder.predict(input_char_seq) \n",
    "    \n",
    "    prev_phone = np.zeros((1, 1, PHONE_TOKEN_COUNT))\n",
    "    prev_phone[0, 0, phone_to_id[START_PHONE_SYM]] = 1.\n",
    "    \n",
    "    end_found = False \n",
    "    pronunciation = '' \n",
    "    while not end_found:\n",
    "        decoder_output, h, c = decoder.predict([prev_phone] + state_vectors)\n",
    "        \n",
    "        # Predict the phoneme with the highest probability\n",
    "        predicted_phone_idx = np.argmax(decoder_output[0, -1, :])\n",
    "        predicted_phone = id_to_phone[predicted_phone_idx]\n",
    "        \n",
    "        pronunciation += predicted_phone + '_'\n",
    "        \n",
    "        if predicted_phone == END_PHONE_SYM or len(pronunciation.split('_')) > MAX_PHONE_SEQ_LEN: \n",
    "            end_found = True\n",
    "        \n",
    "        # Setup inputs for next time step\n",
    "        prev_phone = np.zeros((1, 1, PHONE_TOKEN_COUNT))\n",
    "        prev_phone[0, 0, predicted_phone_idx] = 1.\n",
    "        state_vectors = [h, c]\n",
    "        \n",
    "    return pronunciation.strip()"
   ]
  },
  {
   "cell_type": "code",
   "execution_count": 21,
   "metadata": {},
   "outputs": [],
   "source": [
    "# Helper method for converting vector representations back into words\n",
    "def one_hot_matrix_to_word(char_seq):\n",
    "    word = ''\n",
    "    for char_vec in char_seq[0]:\n",
    "        if np.count_nonzero(char_vec) == 0:\n",
    "            break\n",
    "        hot_bit_idx = np.argmax(char_vec)\n",
    "        char = id_to_char[hot_bit_idx]\n",
    "        word += char\n",
    "    return word\n",
    "\n",
    "\n",
    "# Some words have multiple correct pronunciations\n",
    "# If a prediction matches any correct pronunciation, consider it correct.\n",
    "def is_correct(word,test_pronunciation):\n",
    "    correct_pronuns = phonetic_dict[word]\n",
    "    for correct_pronun in correct_pronuns:\n",
    "        if test_pronunciation == correct_pronun:\n",
    "            return True\n",
    "    return False\n",
    "\n",
    "\n",
    "def sample_baseline_predictions(sample_count, word_decoder):\n",
    "    TEST_EXAMPLE_COUNT = char_input_test.shape[0]\n",
    "    \n",
    "    sample_indices = random.sample(range(TEST_EXAMPLE_COUNT), sample_count)\n",
    "    counter = 0\n",
    "    iter_num = 0\n",
    "    for example_idx in sample_indices:\n",
    "        example_char_seq = char_input_test[example_idx:example_idx+1]\n",
    "        predicted_pronun = predict_baseline(example_char_seq, testing_encoder_model, testing_decoder_model)\n",
    "        example_word = word_decoder(example_char_seq)\n",
    "        pred_is_correct = is_correct(example_word, predicted_pronun)\n",
    "        \n",
    "        if predicted_pronun[:-3] == phonetic_dict[example_word][0]:\n",
    "            counter += 1\n",
    "        '''\n",
    "        print('✅ ' if predicted_pronun[:-3] == phonetic_dict[example_word][0] else '❌ ')\n",
    "        print(\"Word:\", example_word)\n",
    "        print(\"Transcription:\", phonetic_dict[example_word][0])\n",
    "        print(\"Prediction:\", predicted_pronun[:-3])\n",
    "        print()\n",
    "        '''\n",
    "        iter_num += 1\n",
    "        if iter_num % 100 == 0:\n",
    "            print(iter_num, \"/\", sample_count)\n",
    "    print(\"Accuracy = \", counter/sample_count)\n"
   ]
  },
  {
   "cell_type": "code",
   "execution_count": 1,
   "metadata": {},
   "outputs": [],
   "source": [
    "def get_accuracy(x_data, y_data):\n",
    "    char_seqs = []\n",
    "    \n",
    "    for word in x_data:\n",
    "        word_matrix = np.zeros((MAX_CHAR_SEQ_LEN, CHAR_TOKEN_COUNT))\n",
    "        for t, char in enumerate(word):\n",
    "            word_matrix[t, :] = char_to_1_hot(char)\n",
    "        char_seqs.append(word_matrix)\n",
    "\n",
    "    char_seq_matrix_test = np.array(char_seqs)\n",
    "    \n",
    "    y_predicted = []\n",
    "    for i in range(len(char_seq_matrix_test)):\n",
    "        if i % 1000 == 0:\n",
    "            print(i, '/', len(char_seq_matrix_test))\n",
    "        example_char_seq = char_seq_matrix_test[i:i+1]\n",
    "        predicted_pronun = predict_baseline(example_char_seq, testing_encoder_model, testing_decoder_model)\n",
    "        predicted_pronun = predicted_pronun[:-3]\n",
    "        y_predicted.append(predicted_pronun)\n",
    "        \n",
    "    correct_num = 0\n",
    "    for i in range(len(x_data)):\n",
    "        if y_data[i] == y_predicted[i]:\n",
    "            correct_num += 1\n",
    "    \n",
    "    print(\"Prediction finished!!!\")\n",
    "    return correct_num/len(x_data)"
   ]
  },
  {
   "cell_type": "code",
   "execution_count": 23,
   "metadata": {},
   "outputs": [
    {
     "name": "stdout",
     "output_type": "stream",
     "text": [
      "0 / 5000\n",
      "1000 / 5000\n",
      "2000 / 5000\n",
      "3000 / 5000\n",
      "4000 / 5000\n",
      "Prediction finished!!!\n",
      "Accuracy on train: 0.7418\n"
     ]
    }
   ],
   "source": [
    "print(\"Accuracy on train:\", get_accuracy(x_train[:5000], y_train[:5000]))"
   ]
  },
  {
   "cell_type": "code",
   "execution_count": 24,
   "metadata": {},
   "outputs": [
    {
     "name": "stdout",
     "output_type": "stream",
     "text": [
      "0 / 194\n",
      "Prediction finished!!!\n",
      "Accuracy on test: 0.5927835051546392\n"
     ]
    }
   ],
   "source": [
    "print(\"Accuracy on test:\", get_accuracy(x_test, y_test))"
   ]
  },
  {
   "cell_type": "markdown",
   "metadata": {},
   "source": [
    "#### Test the model:"
   ]
  },
  {
   "cell_type": "code",
   "execution_count": 25,
   "metadata": {},
   "outputs": [
    {
     "data": {
      "text/plain": [
       "0"
      ]
     },
     "execution_count": 25,
     "metadata": {},
     "output_type": "execute_result"
    }
   ],
   "source": [
    "gc.collect()"
   ]
  },
  {
   "cell_type": "code",
   "execution_count": 26,
   "metadata": {},
   "outputs": [],
   "source": [
    "import pandas as pd"
   ]
  },
  {
   "cell_type": "code",
   "execution_count": 27,
   "metadata": {},
   "outputs": [],
   "source": [
    "test_data = pd.read_csv(\"/home/pavel/MyDocs/MachineLearning/Yandex_ML_project/lecture4/Kaggle_phonetics/test.csv\")\n",
    "x_test = list(test_data['Word'])"
   ]
  },
  {
   "cell_type": "code",
   "execution_count": 28,
   "metadata": {},
   "outputs": [],
   "source": [
    "char_seqs = []\n",
    "    \n",
    "for word in x_test:\n",
    "    word_matrix = np.zeros((MAX_CHAR_SEQ_LEN, CHAR_TOKEN_COUNT))\n",
    "    for t, char in enumerate(word):\n",
    "        word_matrix[t, :] = char_to_1_hot(char)\n",
    "    char_seqs.append(word_matrix)\n",
    "\n",
    "char_seq_matrix_test = np.array(char_seqs)"
   ]
  },
  {
   "cell_type": "code",
   "execution_count": 29,
   "metadata": {},
   "outputs": [
    {
     "name": "stdout",
     "output_type": "stream",
     "text": [
      "41597\n",
      "(41597, 34, 28)\n"
     ]
    }
   ],
   "source": [
    "print(len(char_seq_matrix_test))\n",
    "print(char_seq_matrix_test.shape)"
   ]
  },
  {
   "cell_type": "code",
   "execution_count": 30,
   "metadata": {},
   "outputs": [
    {
     "name": "stdout",
     "output_type": "stream",
     "text": [
      "0 / 41597\n",
      "1000 / 41597\n",
      "2000 / 41597\n",
      "3000 / 41597\n",
      "4000 / 41597\n",
      "5000 / 41597\n",
      "6000 / 41597\n",
      "7000 / 41597\n",
      "8000 / 41597\n",
      "9000 / 41597\n",
      "10000 / 41597\n",
      "11000 / 41597\n",
      "12000 / 41597\n",
      "13000 / 41597\n",
      "14000 / 41597\n",
      "15000 / 41597\n",
      "16000 / 41597\n",
      "17000 / 41597\n",
      "18000 / 41597\n",
      "19000 / 41597\n",
      "20000 / 41597\n",
      "21000 / 41597\n",
      "22000 / 41597\n",
      "23000 / 41597\n",
      "24000 / 41597\n",
      "25000 / 41597\n",
      "26000 / 41597\n",
      "27000 / 41597\n",
      "28000 / 41597\n",
      "29000 / 41597\n",
      "30000 / 41597\n",
      "31000 / 41597\n",
      "32000 / 41597\n",
      "33000 / 41597\n",
      "34000 / 41597\n",
      "35000 / 41597\n",
      "36000 / 41597\n",
      "37000 / 41597\n",
      "38000 / 41597\n",
      "39000 / 41597\n",
      "40000 / 41597\n",
      "41000 / 41597\n"
     ]
    }
   ],
   "source": [
    "y_test = []\n",
    "for i in range(len(char_seq_matrix_test)):\n",
    "    if i % 1000 == 0:\n",
    "        print(i, '/', len(char_seq_matrix_test))\n",
    "    example_char_seq = char_seq_matrix_test[i:i+1]\n",
    "    predicted_pronun = predict_baseline(example_char_seq, testing_encoder_model, testing_decoder_model)\n",
    "    predicted_pronun = predicted_pronun[:-3]\n",
    "    y_test.append(predicted_pronun)"
   ]
  },
  {
   "cell_type": "code",
   "execution_count": 31,
   "metadata": {},
   "outputs": [
    {
     "name": "stdout",
     "output_type": "stream",
     "text": [
      "['PITCHED', 'DISSOLVERS', 'SCRAWNY', 'BONENFANT', 'EXCEEDS', 'BARTNICKI', 'BUTE', 'CAPITULATE', 'STEAM', 'INVESTCORP']\n",
      "['P_IH_CH_T', 'D_IH_S_AA_L_V_ER_Z', 'S_K_R_AO_N_IY', 'B_OW_N_AH_N_F_AE_N_T', 'IH_K_S_IY_D_Z', 'B_AA_R_T_N_IH_K_IY', 'B_Y_UW_T', 'K_AE_P_IH_T_AH_L_EY_T', 'S_T_IY_M', 'IH_N_V_EH_S_T_K_AO_R_P']\n"
     ]
    }
   ],
   "source": [
    "print(x_test[:10])\n",
    "print(y_test[:10])"
   ]
  },
  {
   "cell_type": "code",
   "execution_count": 32,
   "metadata": {},
   "outputs": [],
   "source": [
    "submission = pd.read_csv(\"/home/pavel/MyDocs/MachineLearning/Yandex_ML_project/lecture4/Kaggle_phonetics/test.csv\")\n",
    "submission['Word'] = y_test"
   ]
  },
  {
   "cell_type": "code",
   "execution_count": 33,
   "metadata": {},
   "outputs": [
    {
     "name": "stdout",
     "output_type": "stream",
     "text": [
      "   Id                  Word\n",
      "0   1             P_IH_CH_T\n",
      "1   2    D_IH_S_AA_L_V_ER_Z\n",
      "2   3         S_K_R_AO_N_IY\n",
      "3   4  B_OW_N_AH_N_F_AE_N_T\n",
      "4   5         IH_K_S_IY_D_Z\n"
     ]
    }
   ],
   "source": [
    "print(submission.head())"
   ]
  },
  {
   "cell_type": "code",
   "execution_count": 35,
   "metadata": {},
   "outputs": [],
   "source": [
    "submission.to_csv(\"/home/pavel/MyDocs/MachineLearning/Yandex_ML_project/lecture4/Kaggle_phonetics/submission_baseline_model2_dropout.csv\")"
   ]
  },
  {
   "cell_type": "code",
   "execution_count": 74,
   "metadata": {},
   "outputs": [],
   "source": [
    "from nltk.translate.bleu_score import sentence_bleu, SmoothingFunction\n",
    "    \n",
    "def bleu_score(word,test_pronunciation):\n",
    "    references = [pronun.split('_') for pronun in phonetic_dict[word]]\n",
    "    smooth = SmoothingFunction().method1\n",
    "    return sentence_bleu(references, test_pronunciation.split('_'), smoothing_function=smooth)\n",
    "\n",
    "\n",
    "def evaluate(test_examples, encoder, decoder, word_decoder, predictor):\n",
    "    perfect_predictions = 0\n",
    "    bleu_scores = []\n",
    "    \n",
    "    for example_idx in range(TEST_EXAMPLE_COUNT):\n",
    "        example_char_seq = test_examples[example_idx:example_idx+1]\n",
    "        predicted_pronun = predictor(example_char_seq, encoder, decoder)\n",
    "        example_word = word_decoder(example_char_seq)\n",
    "        \n",
    "        perfect_predictions += is_correct(example_word,predicted_pronun)\n",
    "\n",
    "        bleu = bleu_score(example_word,predicted_pronun)\n",
    "        bleu_scores.append(bleu)\n",
    "        \n",
    "    perfect_acc = perfect_predictions / TEST_EXAMPLE_COUNT\n",
    "    avg_bleu_score = np.mean(bleu_scores)\n",
    "    \n",
    "    return perfect_acc, avg_bleu_score\n",
    "\n",
    "\n",
    "def print_results(model_name, perfect_acc, avg_bleu_score):\n",
    "    print(model_name)\n",
    "    print('-'*20)\n",
    "    print('Perfect Accuracy: %s%%' % round(perfect_acc*100, 1))\n",
    "    print('Bleu Score: %s' % round(avg_bleu_score, 4))\n"
   ]
  },
  {
   "cell_type": "code",
   "execution_count": 75,
   "metadata": {},
   "outputs": [
    {
     "name": "stdout",
     "output_type": "stream",
     "text": [
      "Baseline Model\n",
      "--------------------\n",
      "Perfect Accuracy: 0.0%\n",
      "Bleu Score: 0.3248\n"
     ]
    }
   ],
   "source": [
    "perfect_acc, avg_bleu_score = evaluate(\n",
    "    char_input_test, testing_encoder_model, testing_decoder_model, one_hot_matrix_to_word, predict_baseline)\n",
    "print_results('Baseline Model',perfect_acc, avg_bleu_score)"
   ]
  }
 ],
 "metadata": {
  "kernelspec": {
   "display_name": "Python 3",
   "language": "python",
   "name": "python3"
  },
  "language_info": {
   "codemirror_mode": {
    "name": "ipython",
    "version": 3
   },
   "file_extension": ".py",
   "mimetype": "text/x-python",
   "name": "python",
   "nbconvert_exporter": "python",
   "pygments_lexer": "ipython3",
   "version": "3.6.7"
  }
 },
 "nbformat": 4,
 "nbformat_minor": 2
}
