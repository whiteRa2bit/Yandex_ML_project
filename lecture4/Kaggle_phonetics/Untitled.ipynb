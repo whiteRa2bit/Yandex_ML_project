{
 "cells": [
  {
   "cell_type": "code",
   "execution_count": null,
   "metadata": {},
   "outputs": [],
   "source": [
    "from __future__ import unicode_literals, print_function, division\n",
    "from io import open\n",
    "import unicodedata\n",
    "import string\n",
    "import re\n",
    "import random\n",
    "\n",
    "import torch\n",
    "import torch.nn as nn\n",
    "from torch import optim\n",
    "import torch.nn.functional as F\n",
    "\n",
    "device = torch.device(\"cuda\" if torch.cuda.is_available() else \"cpu\")"
   ]
  },
  {
   "cell_type": "markdown",
   "metadata": {},
   "source": [
    "### Downloading data"
   ]
  },
  {
   "cell_type": "code",
   "execution_count": 30,
   "metadata": {
    "scrolled": true
   },
   "outputs": [],
   "source": [
    "train_file = open(\"/home/pavel/MyDocs/Machine Learning/Simagin/lecture4/Kaggle_phonetics/train.txt\",\"r\")\n",
    "train = train_file.read()"
   ]
  },
  {
   "cell_type": "code",
   "execution_count": 31,
   "metadata": {},
   "outputs": [
    {
     "name": "stdout",
     "output_type": "stream",
     "text": [
      "Examples in test dataset: 83194\n"
     ]
    }
   ],
   "source": [
    "train = train.split('\\n')\n",
    "train = train[:-1]\n",
    "print(\"Examples in test dataset:\", len(train))\n",
    "x_train = [data_example.split(' ')[0] for data_example in train]\n",
    "y_train = [data_example.split(' ')[1] for data_example in train]"
   ]
  },
  {
   "cell_type": "code",
   "execution_count": 32,
   "metadata": {},
   "outputs": [
    {
     "name": "stdout",
     "output_type": "stream",
     "text": [
      "Examples in x_train =  83194\n",
      "Examples in y_train =  83194\n",
      "['LEMIEUX', 'MINDING', 'STRIPED', 'KEN', 'CONFERENCE']\n",
      "['L_AH_M_Y_UW', 'M_AY_N_D_IH_NG', 'S_T_R_AY_P_T', 'K_EH_N', 'K_AA_N_F_ER_AH_N_S']\n"
     ]
    }
   ],
   "source": [
    "print(\"Examples in x_train = \", len(x_train))\n",
    "print(\"Examples in y_train = \", len(y_train))\n",
    "print(x_train[:5])\n",
    "print\n",
    "print(y_train[:5])"
   ]
  },
  {
   "cell_type": "code",
   "execution_count": 38,
   "metadata": {},
   "outputs": [
    {
     "name": "stdout",
     "output_type": "stream",
     "text": [
      "Longest word in x_train - SUPERCALIFRAGILISTICEXPIALIDOCIOUS with len = 34\n",
      "Longest word in y_train - S_UW_P_ER_K_AE_L_AH_F_R_AE_JH_AH_L_IH_S_T_IH_K_EH_K_S_P_IY_AE_L_AH_D_OW_SH_AH_S with len = 79\n"
     ]
    }
   ],
   "source": [
    "print(\"Longest word in x_train -\", max(x_train, key=len), \"with len =\", len(max(x_train, key=len)))\n",
    "print(\"Longest word in y_train -\", max(y_train, key=len), \"with len =\", len(max(y_train, key=len)))"
   ]
  },
  {
   "cell_type": "markdown",
   "metadata": {},
   "source": [
    "### First model architecture:\n",
    "Represent each char as one-hot, use seq2seq without attention"
   ]
  },
  {
   "cell_type": "markdown",
   "metadata": {},
   "source": [
    "### Second model architecture:\n",
    "Represent each char as embedding, use seq2seq without attention"
   ]
  },
  {
   "cell_type": "markdown",
   "metadata": {},
   "source": [
    "### Third model architecture:\n",
    "Represent each char as embedding, use seq2seq with attention"
   ]
  },
  {
   "cell_type": "markdown",
   "metadata": {},
   "source": [
    "### EXTRA Improvements:\n",
    "Train biderectional rnn"
   ]
  },
  {
   "cell_type": "markdown",
   "metadata": {},
   "source": [
    "### Preprocessing"
   ]
  },
  {
   "cell_type": "code",
   "execution_count": null,
   "metadata": {},
   "outputs": [],
   "source": [
    "embeddingsFile = '/home/pavel/MyDocs/MachineLearning/Tinkoff/lecture6/char-embeddings.txt'"
   ]
  },
  {
   "cell_type": "code",
   "execution_count": null,
   "metadata": {},
   "outputs": [],
   "source": [
    "class Vocab:\n",
    "    def __init__(self, data):\n",
    "        self.char2idx = {}\n",
    "        self.idx2char = {}\n",
    "        counter = 0\n",
    "        for line in data:\n",
    "            sym = line[0]\n",
    "            if sym not in self.char2idx:\n",
    "                self.char2idx[sym] = counter\n",
    "                self.idx2char[counter] = sym\n",
    "                counter += 1\n",
    "    \n",
    "    def update_sequence(self, sequence):\n",
    "        newSequence = ''\n",
    "        for char in sequence:\n",
    "            if char in self.char2idx:\n",
    "                newSequence += char\n",
    "            else:\n",
    "                newSequence += ' '\n",
    "        newSequence = re.sub(' +',' ', newSequence)\n",
    "        return newSequence\n",
    "\n",
    "    def tokenize(self, sequence):\n",
    "        sequence = self.update_sequence(sequence)\n",
    "        return [self.char2idx[sym] for sym in sequence]\n",
    "    \n",
    "    def detokenize(self, sequence):\n",
    "        return ''.join([self.idx2char[num] for num in sequence])"
   ]
  }
 ],
 "metadata": {
  "kernelspec": {
   "display_name": "Python 3",
   "language": "python",
   "name": "python3"
  },
  "language_info": {
   "codemirror_mode": {
    "name": "ipython",
    "version": 3
   },
   "file_extension": ".py",
   "mimetype": "text/x-python",
   "name": "python",
   "nbconvert_exporter": "python",
   "pygments_lexer": "ipython3",
   "version": "3.6.7"
  }
 },
 "nbformat": 4,
 "nbformat_minor": 2
}
